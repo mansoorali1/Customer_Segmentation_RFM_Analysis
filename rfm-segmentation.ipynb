{
 "cells": [
  {
   "cell_type": "code",
   "execution_count": 1,
   "metadata": {
    "colab": {
     "base_uri": "https://localhost:8080/"
    },
    "execution": {
     "iopub.execute_input": "2025-07-03T15:21:31.179337Z",
     "iopub.status.busy": "2025-07-03T15:21:31.179004Z",
     "iopub.status.idle": "2025-07-03T15:21:31.635039Z",
     "shell.execute_reply": "2025-07-03T15:21:31.634184Z",
     "shell.execute_reply.started": "2025-07-03T15:21:31.179308Z"
    },
    "id": "VNfvYm_Ls-Vo",
    "outputId": "6a92116e-6779-465d-e799-3b8d231828d1",
    "trusted": true
   },
   "outputs": [
    {
     "name": "stdout",
     "output_type": "stream",
     "text": [
      "Path to dataset files: /kaggle/input/ecommerce-events-history-in-cosmetics-shop\n"
     ]
    }
   ],
   "source": [
    "import kagglehub\n",
    "\n",
    "# Download latest version\n",
    "path = kagglehub.dataset_download(\"mkechinov/ecommerce-events-history-in-cosmetics-shop\")\n",
    "\n",
    "print(\"Path to dataset files:\", path)"
   ]
  },
  {
   "cell_type": "code",
   "execution_count": 2,
   "metadata": {
    "colab": {
     "base_uri": "https://localhost:8080/"
    },
    "execution": {
     "iopub.execute_input": "2025-07-03T15:21:31.924665Z",
     "iopub.status.busy": "2025-07-03T15:21:31.924373Z",
     "iopub.status.idle": "2025-07-03T15:21:31.937155Z",
     "shell.execute_reply": "2025-07-03T15:21:31.936156Z",
     "shell.execute_reply.started": "2025-07-03T15:21:31.924642Z"
    },
    "id": "FNi4dq-42ccQ",
    "outputId": "e752fccd-2921-49f3-bd3e-f2bd7c4c561e",
    "trusted": true
   },
   "outputs": [
    {
     "name": "stdout",
     "output_type": "stream",
     "text": [
      "['2019-Nov.csv', '2020-Feb.csv', '2019-Oct.csv', '2019-Dec.csv', '2020-Jan.csv']\n"
     ]
    }
   ],
   "source": [
    "import os\n",
    "print(os.listdir(path))"
   ]
  },
  {
   "cell_type": "code",
   "execution_count": 3,
   "metadata": {
    "execution": {
     "iopub.execute_input": "2025-07-03T15:21:32.722814Z",
     "iopub.status.busy": "2025-07-03T15:21:32.722512Z",
     "iopub.status.idle": "2025-07-03T15:21:32.727860Z",
     "shell.execute_reply": "2025-07-03T15:21:32.727031Z",
     "shell.execute_reply.started": "2025-07-03T15:21:32.722788Z"
    },
    "id": "GEbOcbd4Zbe8",
    "trusted": true
   },
   "outputs": [],
   "source": [
    "li = os.listdir(path)"
   ]
  },
  {
   "cell_type": "code",
   "execution_count": 4,
   "metadata": {
    "execution": {
     "iopub.execute_input": "2025-07-03T15:21:33.337744Z",
     "iopub.status.busy": "2025-07-03T15:21:33.337430Z",
     "iopub.status.idle": "2025-07-03T15:21:33.342451Z",
     "shell.execute_reply": "2025-07-03T15:21:33.341474Z",
     "shell.execute_reply.started": "2025-07-03T15:21:33.337716Z"
    },
    "id": "0olFfbhPazzr",
    "trusted": true
   },
   "outputs": [],
   "source": [
    "li = [ '2019-Oct.csv','2019-Nov.csv','2019-Dec.csv', '2020-Jan.csv','2020-Feb.csv']"
   ]
  },
  {
   "cell_type": "markdown",
   "metadata": {},
   "source": []
  },
  {
   "cell_type": "code",
   "execution_count": 5,
   "metadata": {
    "execution": {
     "iopub.execute_input": "2025-07-03T15:21:38.770887Z",
     "iopub.status.busy": "2025-07-03T15:21:38.770598Z",
     "iopub.status.idle": "2025-07-03T15:21:38.778246Z",
     "shell.execute_reply": "2025-07-03T15:21:38.777160Z",
     "shell.execute_reply.started": "2025-07-03T15:21:38.770856Z"
    },
    "id": "jYJGBhGbaBSz",
    "trusted": true
   },
   "outputs": [
    {
     "data": {
      "text/plain": [
       "['/kaggle/input/ecommerce-events-history-in-cosmetics-shop/2019-Oct.csv',\n",
       " '/kaggle/input/ecommerce-events-history-in-cosmetics-shop/2019-Nov.csv',\n",
       " '/kaggle/input/ecommerce-events-history-in-cosmetics-shop/2019-Dec.csv',\n",
       " '/kaggle/input/ecommerce-events-history-in-cosmetics-shop/2020-Jan.csv',\n",
       " '/kaggle/input/ecommerce-events-history-in-cosmetics-shop/2020-Feb.csv']"
      ]
     },
     "execution_count": 5,
     "metadata": {},
     "output_type": "execute_result"
    }
   ],
   "source": [
    "file_paths = []\n",
    "for i in li:\n",
    "  loc = path+ \"/\" +i\n",
    "  file_paths.append(loc)\n",
    "file_paths"
   ]
  },
  {
   "cell_type": "code",
   "execution_count": 6,
   "metadata": {
    "execution": {
     "iopub.execute_input": "2025-07-03T15:21:39.835550Z",
     "iopub.status.busy": "2025-07-03T15:21:39.834594Z",
     "iopub.status.idle": "2025-07-03T15:21:41.162825Z",
     "shell.execute_reply": "2025-07-03T15:21:41.161857Z",
     "shell.execute_reply.started": "2025-07-03T15:21:39.835508Z"
    },
    "id": "0NExYkRBtWaD",
    "trusted": true
   },
   "outputs": [],
   "source": [
    "import pandas as pd\n",
    "import numpy as np\n",
    "import matplotlib.pyplot as plt\n",
    "import seaborn as sns\n",
    "from statsmodels.stats.outliers_influence import variance_inflation_factor\n"
   ]
  },
  {
   "cell_type": "code",
   "execution_count": 7,
   "metadata": {
    "execution": {
     "iopub.execute_input": "2025-07-03T15:21:42.107045Z",
     "iopub.status.busy": "2025-07-03T15:21:42.106516Z",
     "iopub.status.idle": "2025-07-03T15:22:56.102395Z",
     "shell.execute_reply": "2025-07-03T15:22:56.101392Z",
     "shell.execute_reply.started": "2025-07-03T15:21:42.107012Z"
    },
    "id": "PZMvxEZBbbwY",
    "trusted": true
   },
   "outputs": [],
   "source": [
    "df_list = [pd.read_csv(file) for file in file_paths]"
   ]
  },
  {
   "cell_type": "code",
   "execution_count": 9,
   "metadata": {
    "colab": {
     "base_uri": "https://localhost:8080/",
     "height": 424
    },
    "execution": {
     "iopub.execute_input": "2025-07-02T10:32:38.630837Z",
     "iopub.status.busy": "2025-07-02T10:32:38.630553Z",
     "iopub.status.idle": "2025-07-02T10:32:38.666229Z",
     "shell.execute_reply": "2025-07-02T10:32:38.665385Z",
     "shell.execute_reply.started": "2025-07-02T10:32:38.630805Z"
    },
    "id": "dTds2KmAfZ0Z",
    "outputId": "824b37a8-520b-4bcd-b6cd-414feef8b417",
    "trusted": true
   },
   "outputs": [
    {
     "data": {
      "text/html": [
       "<div>\n",
       "<style scoped>\n",
       "    .dataframe tbody tr th:only-of-type {\n",
       "        vertical-align: middle;\n",
       "    }\n",
       "\n",
       "    .dataframe tbody tr th {\n",
       "        vertical-align: top;\n",
       "    }\n",
       "\n",
       "    .dataframe thead th {\n",
       "        text-align: right;\n",
       "    }\n",
       "</style>\n",
       "<table border=\"1\" class=\"dataframe\">\n",
       "  <thead>\n",
       "    <tr style=\"text-align: right;\">\n",
       "      <th></th>\n",
       "      <th>event_time</th>\n",
       "      <th>event_type</th>\n",
       "      <th>product_id</th>\n",
       "      <th>category_id</th>\n",
       "      <th>category_code</th>\n",
       "      <th>brand</th>\n",
       "      <th>price</th>\n",
       "      <th>user_id</th>\n",
       "      <th>user_session</th>\n",
       "    </tr>\n",
       "  </thead>\n",
       "  <tbody>\n",
       "    <tr>\n",
       "      <th>0</th>\n",
       "      <td>2019-10-01 00:00:00 UTC</td>\n",
       "      <td>cart</td>\n",
       "      <td>5773203</td>\n",
       "      <td>1487580005134238553</td>\n",
       "      <td>NaN</td>\n",
       "      <td>runail</td>\n",
       "      <td>2.62</td>\n",
       "      <td>463240011</td>\n",
       "      <td>26dd6e6e-4dac-4778-8d2c-92e149dab885</td>\n",
       "    </tr>\n",
       "    <tr>\n",
       "      <th>1</th>\n",
       "      <td>2019-10-01 00:00:03 UTC</td>\n",
       "      <td>cart</td>\n",
       "      <td>5773353</td>\n",
       "      <td>1487580005134238553</td>\n",
       "      <td>NaN</td>\n",
       "      <td>runail</td>\n",
       "      <td>2.62</td>\n",
       "      <td>463240011</td>\n",
       "      <td>26dd6e6e-4dac-4778-8d2c-92e149dab885</td>\n",
       "    </tr>\n",
       "    <tr>\n",
       "      <th>2</th>\n",
       "      <td>2019-10-01 00:00:07 UTC</td>\n",
       "      <td>cart</td>\n",
       "      <td>5881589</td>\n",
       "      <td>2151191071051219817</td>\n",
       "      <td>NaN</td>\n",
       "      <td>lovely</td>\n",
       "      <td>13.48</td>\n",
       "      <td>429681830</td>\n",
       "      <td>49e8d843-adf3-428b-a2c3-fe8bc6a307c9</td>\n",
       "    </tr>\n",
       "    <tr>\n",
       "      <th>3</th>\n",
       "      <td>2019-10-01 00:00:07 UTC</td>\n",
       "      <td>cart</td>\n",
       "      <td>5723490</td>\n",
       "      <td>1487580005134238553</td>\n",
       "      <td>NaN</td>\n",
       "      <td>runail</td>\n",
       "      <td>2.62</td>\n",
       "      <td>463240011</td>\n",
       "      <td>26dd6e6e-4dac-4778-8d2c-92e149dab885</td>\n",
       "    </tr>\n",
       "    <tr>\n",
       "      <th>4</th>\n",
       "      <td>2019-10-01 00:00:15 UTC</td>\n",
       "      <td>cart</td>\n",
       "      <td>5881449</td>\n",
       "      <td>1487580013522845895</td>\n",
       "      <td>NaN</td>\n",
       "      <td>lovely</td>\n",
       "      <td>0.56</td>\n",
       "      <td>429681830</td>\n",
       "      <td>49e8d843-adf3-428b-a2c3-fe8bc6a307c9</td>\n",
       "    </tr>\n",
       "    <tr>\n",
       "      <th>...</th>\n",
       "      <td>...</td>\n",
       "      <td>...</td>\n",
       "      <td>...</td>\n",
       "      <td>...</td>\n",
       "      <td>...</td>\n",
       "      <td>...</td>\n",
       "      <td>...</td>\n",
       "      <td>...</td>\n",
       "      <td>...</td>\n",
       "    </tr>\n",
       "    <tr>\n",
       "      <th>4102278</th>\n",
       "      <td>2019-10-31 23:59:25 UTC</td>\n",
       "      <td>remove_from_cart</td>\n",
       "      <td>5848062</td>\n",
       "      <td>1526733091857498510</td>\n",
       "      <td>NaN</td>\n",
       "      <td>NaN</td>\n",
       "      <td>9.21</td>\n",
       "      <td>429913900</td>\n",
       "      <td>2f0bff3c-252f-4fe6-afcd-5d8a6a92839a</td>\n",
       "    </tr>\n",
       "    <tr>\n",
       "      <th>4102279</th>\n",
       "      <td>2019-10-31 23:59:30 UTC</td>\n",
       "      <td>view</td>\n",
       "      <td>5885631</td>\n",
       "      <td>1783999064103190764</td>\n",
       "      <td>NaN</td>\n",
       "      <td>NaN</td>\n",
       "      <td>15.48</td>\n",
       "      <td>556138645</td>\n",
       "      <td>57ed222e-a54a-4907-9944-5a875c2d7f4f</td>\n",
       "    </tr>\n",
       "    <tr>\n",
       "      <th>4102280</th>\n",
       "      <td>2019-10-31 23:59:34 UTC</td>\n",
       "      <td>view</td>\n",
       "      <td>5784898</td>\n",
       "      <td>1487580009143992338</td>\n",
       "      <td>NaN</td>\n",
       "      <td>NaN</td>\n",
       "      <td>1.78</td>\n",
       "      <td>564441099</td>\n",
       "      <td>8cbf1746-2d46-4169-afb1-b5fa38ee1ba4</td>\n",
       "    </tr>\n",
       "    <tr>\n",
       "      <th>4102281</th>\n",
       "      <td>2019-10-31 23:59:36 UTC</td>\n",
       "      <td>view</td>\n",
       "      <td>5870838</td>\n",
       "      <td>1487580007675986893</td>\n",
       "      <td>NaN</td>\n",
       "      <td>milv</td>\n",
       "      <td>0.79</td>\n",
       "      <td>429913900</td>\n",
       "      <td>2f0bff3c-252f-4fe6-afcd-5d8a6a92839a</td>\n",
       "    </tr>\n",
       "    <tr>\n",
       "      <th>4102282</th>\n",
       "      <td>2019-10-31 23:59:54 UTC</td>\n",
       "      <td>view</td>\n",
       "      <td>59996</td>\n",
       "      <td>1487580012927254698</td>\n",
       "      <td>NaN</td>\n",
       "      <td>NaN</td>\n",
       "      <td>4.13</td>\n",
       "      <td>566280798</td>\n",
       "      <td>4eaf7c71-e8bf-4ea6-b719-eca144466eb3</td>\n",
       "    </tr>\n",
       "  </tbody>\n",
       "</table>\n",
       "<p>4102283 rows × 9 columns</p>\n",
       "</div>"
      ],
      "text/plain": [
       "                      event_time        event_type  product_id  \\\n",
       "0        2019-10-01 00:00:00 UTC              cart     5773203   \n",
       "1        2019-10-01 00:00:03 UTC              cart     5773353   \n",
       "2        2019-10-01 00:00:07 UTC              cart     5881589   \n",
       "3        2019-10-01 00:00:07 UTC              cart     5723490   \n",
       "4        2019-10-01 00:00:15 UTC              cart     5881449   \n",
       "...                          ...               ...         ...   \n",
       "4102278  2019-10-31 23:59:25 UTC  remove_from_cart     5848062   \n",
       "4102279  2019-10-31 23:59:30 UTC              view     5885631   \n",
       "4102280  2019-10-31 23:59:34 UTC              view     5784898   \n",
       "4102281  2019-10-31 23:59:36 UTC              view     5870838   \n",
       "4102282  2019-10-31 23:59:54 UTC              view       59996   \n",
       "\n",
       "                 category_id category_code   brand  price    user_id  \\\n",
       "0        1487580005134238553           NaN  runail   2.62  463240011   \n",
       "1        1487580005134238553           NaN  runail   2.62  463240011   \n",
       "2        2151191071051219817           NaN  lovely  13.48  429681830   \n",
       "3        1487580005134238553           NaN  runail   2.62  463240011   \n",
       "4        1487580013522845895           NaN  lovely   0.56  429681830   \n",
       "...                      ...           ...     ...    ...        ...   \n",
       "4102278  1526733091857498510           NaN     NaN   9.21  429913900   \n",
       "4102279  1783999064103190764           NaN     NaN  15.48  556138645   \n",
       "4102280  1487580009143992338           NaN     NaN   1.78  564441099   \n",
       "4102281  1487580007675986893           NaN    milv   0.79  429913900   \n",
       "4102282  1487580012927254698           NaN     NaN   4.13  566280798   \n",
       "\n",
       "                                 user_session  \n",
       "0        26dd6e6e-4dac-4778-8d2c-92e149dab885  \n",
       "1        26dd6e6e-4dac-4778-8d2c-92e149dab885  \n",
       "2        49e8d843-adf3-428b-a2c3-fe8bc6a307c9  \n",
       "3        26dd6e6e-4dac-4778-8d2c-92e149dab885  \n",
       "4        49e8d843-adf3-428b-a2c3-fe8bc6a307c9  \n",
       "...                                       ...  \n",
       "4102278  2f0bff3c-252f-4fe6-afcd-5d8a6a92839a  \n",
       "4102279  57ed222e-a54a-4907-9944-5a875c2d7f4f  \n",
       "4102280  8cbf1746-2d46-4169-afb1-b5fa38ee1ba4  \n",
       "4102281  2f0bff3c-252f-4fe6-afcd-5d8a6a92839a  \n",
       "4102282  4eaf7c71-e8bf-4ea6-b719-eca144466eb3  \n",
       "\n",
       "[4102283 rows x 9 columns]"
      ]
     },
     "execution_count": 9,
     "metadata": {},
     "output_type": "execute_result"
    }
   ],
   "source": [
    "df_list[0]"
   ]
  },
  {
   "cell_type": "code",
   "execution_count": 8,
   "metadata": {
    "execution": {
     "iopub.execute_input": "2025-07-03T15:23:18.950316Z",
     "iopub.status.busy": "2025-07-03T15:23:18.949814Z",
     "iopub.status.idle": "2025-07-03T15:23:21.011033Z",
     "shell.execute_reply": "2025-07-03T15:23:21.010150Z",
     "shell.execute_reply.started": "2025-07-03T15:23:18.950289Z"
    },
    "id": "qdHCyw-Ebwfu",
    "trusted": true
   },
   "outputs": [],
   "source": [
    "df = pd.concat(df_list, ignore_index = True)"
   ]
  },
  {
   "cell_type": "code",
   "execution_count": 9,
   "metadata": {
    "colab": {
     "base_uri": "https://localhost:8080/"
    },
    "execution": {
     "iopub.execute_input": "2025-07-03T15:23:21.012848Z",
     "iopub.status.busy": "2025-07-03T15:23:21.012560Z",
     "iopub.status.idle": "2025-07-03T15:23:21.018730Z",
     "shell.execute_reply": "2025-07-03T15:23:21.017684Z",
     "shell.execute_reply.started": "2025-07-03T15:23:21.012813Z"
    },
    "id": "SX7OAdm-hFVJ",
    "outputId": "b39c644e-4aa9-472d-b5dd-5b3882d20d5f",
    "trusted": true
   },
   "outputs": [
    {
     "data": {
      "text/plain": [
       "(20692840, 9)"
      ]
     },
     "execution_count": 9,
     "metadata": {},
     "output_type": "execute_result"
    }
   ],
   "source": [
    "df.shape"
   ]
  },
  {
   "cell_type": "code",
   "execution_count": 10,
   "metadata": {
    "colab": {
     "base_uri": "https://localhost:8080/",
     "height": 206
    },
    "execution": {
     "iopub.execute_input": "2025-07-03T15:23:21.582464Z",
     "iopub.status.busy": "2025-07-03T15:23:21.582139Z",
     "iopub.status.idle": "2025-07-03T15:23:21.609315Z",
     "shell.execute_reply": "2025-07-03T15:23:21.608427Z",
     "shell.execute_reply.started": "2025-07-03T15:23:21.582436Z"
    },
    "id": "SkwOW2qvHWqZ",
    "outputId": "c92801b9-530a-4cc6-95d4-ce859721f4ea",
    "trusted": true
   },
   "outputs": [
    {
     "data": {
      "text/html": [
       "<div>\n",
       "<style scoped>\n",
       "    .dataframe tbody tr th:only-of-type {\n",
       "        vertical-align: middle;\n",
       "    }\n",
       "\n",
       "    .dataframe tbody tr th {\n",
       "        vertical-align: top;\n",
       "    }\n",
       "\n",
       "    .dataframe thead th {\n",
       "        text-align: right;\n",
       "    }\n",
       "</style>\n",
       "<table border=\"1\" class=\"dataframe\">\n",
       "  <thead>\n",
       "    <tr style=\"text-align: right;\">\n",
       "      <th></th>\n",
       "      <th>event_time</th>\n",
       "      <th>event_type</th>\n",
       "      <th>product_id</th>\n",
       "      <th>category_id</th>\n",
       "      <th>category_code</th>\n",
       "      <th>brand</th>\n",
       "      <th>price</th>\n",
       "      <th>user_id</th>\n",
       "      <th>user_session</th>\n",
       "    </tr>\n",
       "  </thead>\n",
       "  <tbody>\n",
       "    <tr>\n",
       "      <th>0</th>\n",
       "      <td>2019-10-01 00:00:00 UTC</td>\n",
       "      <td>cart</td>\n",
       "      <td>5773203</td>\n",
       "      <td>1487580005134238553</td>\n",
       "      <td>NaN</td>\n",
       "      <td>runail</td>\n",
       "      <td>2.62</td>\n",
       "      <td>463240011</td>\n",
       "      <td>26dd6e6e-4dac-4778-8d2c-92e149dab885</td>\n",
       "    </tr>\n",
       "    <tr>\n",
       "      <th>1</th>\n",
       "      <td>2019-10-01 00:00:03 UTC</td>\n",
       "      <td>cart</td>\n",
       "      <td>5773353</td>\n",
       "      <td>1487580005134238553</td>\n",
       "      <td>NaN</td>\n",
       "      <td>runail</td>\n",
       "      <td>2.62</td>\n",
       "      <td>463240011</td>\n",
       "      <td>26dd6e6e-4dac-4778-8d2c-92e149dab885</td>\n",
       "    </tr>\n",
       "    <tr>\n",
       "      <th>2</th>\n",
       "      <td>2019-10-01 00:00:07 UTC</td>\n",
       "      <td>cart</td>\n",
       "      <td>5881589</td>\n",
       "      <td>2151191071051219817</td>\n",
       "      <td>NaN</td>\n",
       "      <td>lovely</td>\n",
       "      <td>13.48</td>\n",
       "      <td>429681830</td>\n",
       "      <td>49e8d843-adf3-428b-a2c3-fe8bc6a307c9</td>\n",
       "    </tr>\n",
       "    <tr>\n",
       "      <th>3</th>\n",
       "      <td>2019-10-01 00:00:07 UTC</td>\n",
       "      <td>cart</td>\n",
       "      <td>5723490</td>\n",
       "      <td>1487580005134238553</td>\n",
       "      <td>NaN</td>\n",
       "      <td>runail</td>\n",
       "      <td>2.62</td>\n",
       "      <td>463240011</td>\n",
       "      <td>26dd6e6e-4dac-4778-8d2c-92e149dab885</td>\n",
       "    </tr>\n",
       "    <tr>\n",
       "      <th>4</th>\n",
       "      <td>2019-10-01 00:00:15 UTC</td>\n",
       "      <td>cart</td>\n",
       "      <td>5881449</td>\n",
       "      <td>1487580013522845895</td>\n",
       "      <td>NaN</td>\n",
       "      <td>lovely</td>\n",
       "      <td>0.56</td>\n",
       "      <td>429681830</td>\n",
       "      <td>49e8d843-adf3-428b-a2c3-fe8bc6a307c9</td>\n",
       "    </tr>\n",
       "  </tbody>\n",
       "</table>\n",
       "</div>"
      ],
      "text/plain": [
       "                event_time event_type  product_id          category_id  \\\n",
       "0  2019-10-01 00:00:00 UTC       cart     5773203  1487580005134238553   \n",
       "1  2019-10-01 00:00:03 UTC       cart     5773353  1487580005134238553   \n",
       "2  2019-10-01 00:00:07 UTC       cart     5881589  2151191071051219817   \n",
       "3  2019-10-01 00:00:07 UTC       cart     5723490  1487580005134238553   \n",
       "4  2019-10-01 00:00:15 UTC       cart     5881449  1487580013522845895   \n",
       "\n",
       "  category_code   brand  price    user_id  \\\n",
       "0           NaN  runail   2.62  463240011   \n",
       "1           NaN  runail   2.62  463240011   \n",
       "2           NaN  lovely  13.48  429681830   \n",
       "3           NaN  runail   2.62  463240011   \n",
       "4           NaN  lovely   0.56  429681830   \n",
       "\n",
       "                           user_session  \n",
       "0  26dd6e6e-4dac-4778-8d2c-92e149dab885  \n",
       "1  26dd6e6e-4dac-4778-8d2c-92e149dab885  \n",
       "2  49e8d843-adf3-428b-a2c3-fe8bc6a307c9  \n",
       "3  26dd6e6e-4dac-4778-8d2c-92e149dab885  \n",
       "4  49e8d843-adf3-428b-a2c3-fe8bc6a307c9  "
      ]
     },
     "execution_count": 10,
     "metadata": {},
     "output_type": "execute_result"
    }
   ],
   "source": [
    "df.head()"
   ]
  },
  {
   "cell_type": "code",
   "execution_count": 13,
   "metadata": {
    "colab": {
     "base_uri": "https://localhost:8080/",
     "height": 300
    },
    "execution": {
     "iopub.execute_input": "2025-07-02T10:32:40.669062Z",
     "iopub.status.busy": "2025-07-02T10:32:40.668659Z",
     "iopub.status.idle": "2025-07-02T10:32:44.371567Z",
     "shell.execute_reply": "2025-07-02T10:32:44.370889Z",
     "shell.execute_reply.started": "2025-07-02T10:32:40.669042Z"
    },
    "id": "-Cta4a9xtWSh",
    "outputId": "f7590278-9ce3-4be3-e44b-75b628235c87",
    "trusted": true
   },
   "outputs": [
    {
     "data": {
      "text/html": [
       "<div>\n",
       "<style scoped>\n",
       "    .dataframe tbody tr th:only-of-type {\n",
       "        vertical-align: middle;\n",
       "    }\n",
       "\n",
       "    .dataframe tbody tr th {\n",
       "        vertical-align: top;\n",
       "    }\n",
       "\n",
       "    .dataframe thead th {\n",
       "        text-align: right;\n",
       "    }\n",
       "</style>\n",
       "<table border=\"1\" class=\"dataframe\">\n",
       "  <thead>\n",
       "    <tr style=\"text-align: right;\">\n",
       "      <th></th>\n",
       "      <th>product_id</th>\n",
       "      <th>category_id</th>\n",
       "      <th>price</th>\n",
       "      <th>user_id</th>\n",
       "    </tr>\n",
       "  </thead>\n",
       "  <tbody>\n",
       "    <tr>\n",
       "      <th>count</th>\n",
       "      <td>2.069284e+07</td>\n",
       "      <td>2.069284e+07</td>\n",
       "      <td>2.069284e+07</td>\n",
       "      <td>2.069284e+07</td>\n",
       "    </tr>\n",
       "    <tr>\n",
       "      <th>mean</th>\n",
       "      <td>5.484297e+06</td>\n",
       "      <td>1.554230e+18</td>\n",
       "      <td>8.534735e+00</td>\n",
       "      <td>5.215527e+08</td>\n",
       "    </tr>\n",
       "    <tr>\n",
       "      <th>std</th>\n",
       "      <td>1.305716e+06</td>\n",
       "      <td>1.691038e+17</td>\n",
       "      <td>1.938142e+01</td>\n",
       "      <td>8.744312e+07</td>\n",
       "    </tr>\n",
       "    <tr>\n",
       "      <th>min</th>\n",
       "      <td>3.752000e+03</td>\n",
       "      <td>1.487580e+18</td>\n",
       "      <td>-7.937000e+01</td>\n",
       "      <td>4.654960e+05</td>\n",
       "    </tr>\n",
       "    <tr>\n",
       "      <th>25%</th>\n",
       "      <td>5.724650e+06</td>\n",
       "      <td>1.487580e+18</td>\n",
       "      <td>2.060000e+00</td>\n",
       "      <td>4.818306e+08</td>\n",
       "    </tr>\n",
       "    <tr>\n",
       "      <th>50%</th>\n",
       "      <td>5.810720e+06</td>\n",
       "      <td>1.487580e+18</td>\n",
       "      <td>4.050000e+00</td>\n",
       "      <td>5.531297e+08</td>\n",
       "    </tr>\n",
       "    <tr>\n",
       "      <th>75%</th>\n",
       "      <td>5.857864e+06</td>\n",
       "      <td>1.487580e+18</td>\n",
       "      <td>7.060000e+00</td>\n",
       "      <td>5.788573e+08</td>\n",
       "    </tr>\n",
       "    <tr>\n",
       "      <th>max</th>\n",
       "      <td>5.932595e+06</td>\n",
       "      <td>2.242903e+18</td>\n",
       "      <td>3.277800e+02</td>\n",
       "      <td>6.220902e+08</td>\n",
       "    </tr>\n",
       "  </tbody>\n",
       "</table>\n",
       "</div>"
      ],
      "text/plain": [
       "         product_id   category_id         price       user_id\n",
       "count  2.069284e+07  2.069284e+07  2.069284e+07  2.069284e+07\n",
       "mean   5.484297e+06  1.554230e+18  8.534735e+00  5.215527e+08\n",
       "std    1.305716e+06  1.691038e+17  1.938142e+01  8.744312e+07\n",
       "min    3.752000e+03  1.487580e+18 -7.937000e+01  4.654960e+05\n",
       "25%    5.724650e+06  1.487580e+18  2.060000e+00  4.818306e+08\n",
       "50%    5.810720e+06  1.487580e+18  4.050000e+00  5.531297e+08\n",
       "75%    5.857864e+06  1.487580e+18  7.060000e+00  5.788573e+08\n",
       "max    5.932595e+06  2.242903e+18  3.277800e+02  6.220902e+08"
      ]
     },
     "execution_count": 13,
     "metadata": {},
     "output_type": "execute_result"
    }
   ],
   "source": [
    "df.describe()"
   ]
  },
  {
   "cell_type": "code",
   "execution_count": 14,
   "metadata": {
    "colab": {
     "base_uri": "https://localhost:8080/"
    },
    "execution": {
     "iopub.execute_input": "2025-06-27T13:49:07.723405Z",
     "iopub.status.busy": "2025-06-27T13:49:07.723109Z",
     "iopub.status.idle": "2025-06-27T13:49:07.751664Z",
     "shell.execute_reply": "2025-06-27T13:49:07.750086Z",
     "shell.execute_reply.started": "2025-06-27T13:49:07.723378Z"
    },
    "id": "LbNjGso9Q2XW",
    "outputId": "07794d1f-b59d-414f-feb0-1555bd6bed98",
    "trusted": true
   },
   "outputs": [
    {
     "name": "stdout",
     "output_type": "stream",
     "text": [
      "<class 'pandas.core.frame.DataFrame'>\n",
      "RangeIndex: 20692840 entries, 0 to 20692839\n",
      "Data columns (total 9 columns):\n",
      " #   Column         Dtype  \n",
      "---  ------         -----  \n",
      " 0   event_time     object \n",
      " 1   event_type     object \n",
      " 2   product_id     int64  \n",
      " 3   category_id    int64  \n",
      " 4   category_code  object \n",
      " 5   brand          object \n",
      " 6   price          float64\n",
      " 7   user_id        int64  \n",
      " 8   user_session   object \n",
      "dtypes: float64(1), int64(3), object(5)\n",
      "memory usage: 1.4+ GB\n"
     ]
    }
   ],
   "source": [
    "df.info()"
   ]
  },
  {
   "cell_type": "code",
   "execution_count": 11,
   "metadata": {
    "colab": {
     "base_uri": "https://localhost:8080/",
     "height": 366
    },
    "execution": {
     "iopub.execute_input": "2025-06-30T08:29:29.659108Z",
     "iopub.status.busy": "2025-06-30T08:29:29.658167Z",
     "iopub.status.idle": "2025-06-30T08:29:34.403302Z",
     "shell.execute_reply": "2025-06-30T08:29:34.402600Z",
     "shell.execute_reply.started": "2025-06-30T08:29:29.659069Z"
    },
    "id": "sJ4r033qQ4yq",
    "outputId": "7ac0d9f1-3b9a-4145-f947-13a4f7458ca4",
    "trusted": true
   },
   "outputs": [
    {
     "data": {
      "text/plain": [
       "event_time              0\n",
       "event_type              0\n",
       "product_id              0\n",
       "category_id             0\n",
       "category_code    20339246\n",
       "brand             8757117\n",
       "price                   0\n",
       "user_id                 0\n",
       "user_session         4598\n",
       "dtype: int64"
      ]
     },
     "execution_count": 11,
     "metadata": {},
     "output_type": "execute_result"
    }
   ],
   "source": [
    "df.isna().sum()"
   ]
  },
  {
   "cell_type": "code",
   "execution_count": 14,
   "metadata": {
    "execution": {
     "iopub.execute_input": "2025-07-02T10:32:44.372999Z",
     "iopub.status.busy": "2025-07-02T10:32:44.372443Z",
     "iopub.status.idle": "2025-07-02T10:32:49.064117Z",
     "shell.execute_reply": "2025-07-02T10:32:49.063306Z",
     "shell.execute_reply.started": "2025-07-02T10:32:44.372970Z"
    },
    "trusted": true
   },
   "outputs": [
    {
     "data": {
      "text/plain": [
       "event_time        0.000000\n",
       "event_type        0.000000\n",
       "product_id        0.000000\n",
       "category_id       0.000000\n",
       "category_code    98.291225\n",
       "brand            42.319551\n",
       "price             0.000000\n",
       "user_id           0.000000\n",
       "user_session      0.022220\n",
       "dtype: float64"
      ]
     },
     "execution_count": 14,
     "metadata": {},
     "output_type": "execute_result"
    }
   ],
   "source": [
    "(df.isna().sum()/df.shape[0])*100"
   ]
  },
  {
   "cell_type": "code",
   "execution_count": 17,
   "metadata": {
    "colab": {
     "base_uri": "https://localhost:8080/"
    },
    "execution": {
     "iopub.execute_input": "2025-06-27T13:49:14.075850Z",
     "iopub.status.busy": "2025-06-27T13:49:14.075573Z",
     "iopub.status.idle": "2025-06-27T13:49:14.083736Z",
     "shell.execute_reply": "2025-06-27T13:49:14.082683Z",
     "shell.execute_reply.started": "2025-06-27T13:49:14.075831Z"
    },
    "id": "BAByUdStLyxE",
    "outputId": "71649599-b388-49bb-a773-b353fabec0da",
    "trusted": true
   },
   "outputs": [
    {
     "data": {
      "text/plain": [
       "Index(['event_time', 'event_type', 'product_id', 'category_id',\n",
       "       'category_code', 'brand', 'price', 'user_id', 'user_session'],\n",
       "      dtype='object')"
      ]
     },
     "execution_count": 17,
     "metadata": {},
     "output_type": "execute_result"
    }
   ],
   "source": [
    "df.columns"
   ]
  },
  {
   "cell_type": "code",
   "execution_count": 12,
   "metadata": {
    "execution": {
     "iopub.execute_input": "2025-07-03T15:24:08.319998Z",
     "iopub.status.busy": "2025-07-03T15:24:08.319768Z",
     "iopub.status.idle": "2025-07-03T15:24:10.356203Z",
     "shell.execute_reply": "2025-07-03T15:24:10.355320Z",
     "shell.execute_reply.started": "2025-07-03T15:24:08.319980Z"
    },
    "trusted": true
   },
   "outputs": [
    {
     "name": "stdout",
     "output_type": "stream",
     "text": [
      "Unique product_ids in null brand rows: 35726\n"
     ]
    }
   ],
   "source": [
    "import pandas as pd\n",
    "\n",
    "# Assuming df is your concatenated DataFrame (~17.5M–20M rows)\n",
    "\n",
    "# Step 1: Analyze product_id distribution\n",
    "null_brand_rows = df[df['brand'].isnull()]\n",
    "null_product_ids = null_brand_rows['product_id'].unique()\n",
    "print(f\"Unique product_ids in null brand rows: {len(null_product_ids)}\")"
   ]
  },
  {
   "cell_type": "code",
   "execution_count": 14,
   "metadata": {
    "execution": {
     "iopub.execute_input": "2025-07-03T15:24:17.653544Z",
     "iopub.status.busy": "2025-07-03T15:24:17.653224Z",
     "iopub.status.idle": "2025-07-03T15:24:21.434787Z",
     "shell.execute_reply": "2025-07-03T15:24:21.433817Z",
     "shell.execute_reply.started": "2025-07-03T15:24:17.653520Z"
    },
    "trusted": true
   },
   "outputs": [],
   "source": [
    "\n",
    "\n",
    "# Step 2: Create product_id to brand mapping with frequency weighting\n",
    "product_brand_map = (\n",
    "    df[df['brand'].notnull()]\n",
    "    .groupby(['product_id', 'brand'])\n",
    "    .size()\n",
    "    .reset_index(name='count')\n",
    "    .sort_values(['product_id', 'count'], ascending=[True, False])\n",
    "    .groupby('product_id')\n",
    "    .first()\n",
    "    ['brand']\n",
    "    .to_dict()\n",
    ")"
   ]
  },
  {
   "cell_type": "code",
   "execution_count": 15,
   "metadata": {
    "execution": {
     "iopub.execute_input": "2025-07-03T15:24:21.436481Z",
     "iopub.status.busy": "2025-07-03T15:24:21.436198Z",
     "iopub.status.idle": "2025-07-03T15:24:23.420290Z",
     "shell.execute_reply": "2025-07-03T15:24:23.419368Z",
     "shell.execute_reply.started": "2025-07-03T15:24:21.436447Z"
    },
    "trusted": true
   },
   "outputs": [
    {
     "name": "stdout",
     "output_type": "stream",
     "text": [
      "Rows covered by product_ids with brands: 12034042\n",
      "Null brand rows with mappable product_ids: 98319\n"
     ]
    }
   ],
   "source": [
    "\n",
    "\n",
    "# Step 3: Check mapping coverage\n",
    "mapped_product_ids = list(product_brand_map.keys())\n",
    "rows_covered = df[df['product_id'].isin(mapped_product_ids)].shape[0]\n",
    "null_rows_mapped = null_brand_rows[null_brand_rows['product_id'].isin(mapped_product_ids)].shape[0]\n",
    "print(f\"Rows covered by product_ids with brands: {rows_covered}\")\n",
    "print(f\"Null brand rows with mappable product_ids: {null_rows_mapped}\")\n"
   ]
  },
  {
   "cell_type": "code",
   "execution_count": 16,
   "metadata": {
    "execution": {
     "iopub.execute_input": "2025-07-03T15:24:23.985380Z",
     "iopub.status.busy": "2025-07-03T15:24:23.985065Z",
     "iopub.status.idle": "2025-07-03T15:24:28.018753Z",
     "shell.execute_reply": "2025-07-03T15:24:28.016017Z",
     "shell.execute_reply.started": "2025-07-03T15:24:23.985355Z"
    },
    "trusted": true
   },
   "outputs": [],
   "source": [
    "# Step 4: Backup and impute\n",
    "df['brand_original'] = df['brand']\n",
    "df['brand'] = df['brand'].where(df['brand'].notnull(), df['product_id'].map(product_brand_map))"
   ]
  },
  {
   "cell_type": "code",
   "execution_count": 17,
   "metadata": {
    "execution": {
     "iopub.execute_input": "2025-07-03T15:24:28.024415Z",
     "iopub.status.busy": "2025-07-03T15:24:28.023511Z",
     "iopub.status.idle": "2025-07-03T15:24:30.155965Z",
     "shell.execute_reply": "2025-07-03T15:24:30.154989Z",
     "shell.execute_reply.started": "2025-07-03T15:24:28.024301Z"
    },
    "trusted": true
   },
   "outputs": [
    {
     "name": "stdout",
     "output_type": "stream",
     "text": [
      "Initial nulls in brand: 8757117 (42.32%)\n",
      "Remaining nulls in brand: 8658798 (41.84%)\n",
      "Rows imputed: 98319 (1.12%)\n"
     ]
    }
   ],
   "source": [
    "# Step 5: Validate imputation\n",
    "initial_nulls = df['brand_original'].isnull().sum()\n",
    "remaining_nulls = df['brand'].isnull().sum()\n",
    "imputed_count = initial_nulls - remaining_nulls\n",
    "print(f\"Initial nulls in brand: {initial_nulls} ({initial_nulls/len(df)*100:.2f}%)\")\n",
    "print(f\"Remaining nulls in brand: {remaining_nulls} ({remaining_nulls/len(df)*100:.2f}%)\")\n",
    "print(f\"Rows imputed: {imputed_count} ({imputed_count/initial_nulls*100:.2f}%)\")"
   ]
  },
  {
   "cell_type": "code",
   "execution_count": 18,
   "metadata": {
    "execution": {
     "iopub.execute_input": "2025-07-03T15:24:30.157223Z",
     "iopub.status.busy": "2025-07-03T15:24:30.156916Z",
     "iopub.status.idle": "2025-07-03T15:24:32.052468Z",
     "shell.execute_reply": "2025-07-03T15:24:32.051574Z",
     "shell.execute_reply.started": "2025-07-03T15:24:30.157202Z"
    },
    "trusted": true
   },
   "outputs": [
    {
     "name": "stdout",
     "output_type": "stream",
     "text": [
      "Top 5 product_ids imputed:\n",
      " product_id\n",
      "5677463    2596\n",
      "5677462    2324\n",
      "5677465    2014\n",
      "5676828    1553\n",
      "5693593    1389\n",
      "Name: count, dtype: int64\n"
     ]
    }
   ],
   "source": [
    "# Step 6: Check imputed rows\n",
    "imputed_rows = df[df['brand_original'].isnull() & df['brand'].notnull()]\n",
    "print(f\"Top 5 product_ids imputed:\\n\", imputed_rows['product_id'].value_counts().head())"
   ]
  },
  {
   "cell_type": "markdown",
   "metadata": {},
   "source": [
    "# since only 1.12% of Imputation is done and still 41.84% of brand is null so imputing the remaining null values with \"unknown_brand\""
   ]
  },
  {
   "cell_type": "code",
   "execution_count": 19,
   "metadata": {
    "execution": {
     "iopub.execute_input": "2025-07-03T15:26:03.337992Z",
     "iopub.status.busy": "2025-07-03T15:26:03.336344Z",
     "iopub.status.idle": "2025-07-03T15:26:09.450605Z",
     "shell.execute_reply": "2025-07-03T15:26:09.449819Z",
     "shell.execute_reply.started": "2025-07-03T15:26:03.337928Z"
    },
    "trusted": true
   },
   "outputs": [
    {
     "data": {
      "text/plain": [
       "event_time               0\n",
       "event_type               0\n",
       "product_id               0\n",
       "category_id              0\n",
       "category_code     20339246\n",
       "brand              8658798\n",
       "price                    0\n",
       "user_id                  0\n",
       "user_session          4598\n",
       "brand_original     8757117\n",
       "dtype: int64"
      ]
     },
     "execution_count": 19,
     "metadata": {},
     "output_type": "execute_result"
    }
   ],
   "source": [
    "df.isna().sum()"
   ]
  },
  {
   "cell_type": "code",
   "execution_count": 20,
   "metadata": {
    "execution": {
     "iopub.execute_input": "2025-07-03T15:26:09.452445Z",
     "iopub.status.busy": "2025-07-03T15:26:09.452194Z",
     "iopub.status.idle": "2025-07-03T15:26:12.006269Z",
     "shell.execute_reply": "2025-07-03T15:26:12.005339Z",
     "shell.execute_reply.started": "2025-07-03T15:26:09.452426Z"
    },
    "trusted": true
   },
   "outputs": [],
   "source": [
    "df['brand'] = df['brand'].fillna(\"unknown_brand\")"
   ]
  },
  {
   "cell_type": "code",
   "execution_count": 21,
   "metadata": {
    "execution": {
     "iopub.execute_input": "2025-07-03T15:26:12.007383Z",
     "iopub.status.busy": "2025-07-03T15:26:12.007153Z",
     "iopub.status.idle": "2025-07-03T15:26:17.760257Z",
     "shell.execute_reply": "2025-07-03T15:26:17.759309Z",
     "shell.execute_reply.started": "2025-07-03T15:26:12.007365Z"
    },
    "trusted": true
   },
   "outputs": [
    {
     "data": {
      "text/plain": [
       "event_time               0\n",
       "event_type               0\n",
       "product_id               0\n",
       "category_id              0\n",
       "category_code     20339246\n",
       "brand                    0\n",
       "price                    0\n",
       "user_id                  0\n",
       "user_session          4598\n",
       "brand_original     8757117\n",
       "dtype: int64"
      ]
     },
     "execution_count": 21,
     "metadata": {},
     "output_type": "execute_result"
    }
   ],
   "source": [
    "df.isna().sum()"
   ]
  },
  {
   "cell_type": "markdown",
   "metadata": {},
   "source": [
    "# since category_code has 98% null percentage directly dropping it, and dropping the reference column brand_original"
   ]
  },
  {
   "cell_type": "code",
   "execution_count": 22,
   "metadata": {
    "execution": {
     "iopub.execute_input": "2025-07-03T15:26:25.711658Z",
     "iopub.status.busy": "2025-07-03T15:26:25.710725Z",
     "iopub.status.idle": "2025-07-03T15:26:28.131521Z",
     "shell.execute_reply": "2025-07-03T15:26:28.130626Z",
     "shell.execute_reply.started": "2025-07-03T15:26:25.711625Z"
    },
    "id": "7zbePujJtWOF",
    "trusted": true
   },
   "outputs": [],
   "source": [
    "df.drop(columns = ['category_code','brand_original'], axis = 1, inplace =True)"
   ]
  },
  {
   "cell_type": "code",
   "execution_count": 23,
   "metadata": {
    "colab": {
     "base_uri": "https://localhost:8080/",
     "height": 112
    },
    "execution": {
     "iopub.execute_input": "2025-07-03T15:26:28.133423Z",
     "iopub.status.busy": "2025-07-03T15:26:28.133091Z",
     "iopub.status.idle": "2025-07-03T15:26:28.145160Z",
     "shell.execute_reply": "2025-07-03T15:26:28.144346Z",
     "shell.execute_reply.started": "2025-07-03T15:26:28.133389Z"
    },
    "id": "-YqpcMR7tWKU",
    "outputId": "4a2066d3-0805-4451-802e-9215344c364d",
    "trusted": true
   },
   "outputs": [
    {
     "data": {
      "text/html": [
       "<div>\n",
       "<style scoped>\n",
       "    .dataframe tbody tr th:only-of-type {\n",
       "        vertical-align: middle;\n",
       "    }\n",
       "\n",
       "    .dataframe tbody tr th {\n",
       "        vertical-align: top;\n",
       "    }\n",
       "\n",
       "    .dataframe thead th {\n",
       "        text-align: right;\n",
       "    }\n",
       "</style>\n",
       "<table border=\"1\" class=\"dataframe\">\n",
       "  <thead>\n",
       "    <tr style=\"text-align: right;\">\n",
       "      <th></th>\n",
       "      <th>event_time</th>\n",
       "      <th>event_type</th>\n",
       "      <th>product_id</th>\n",
       "      <th>category_id</th>\n",
       "      <th>brand</th>\n",
       "      <th>price</th>\n",
       "      <th>user_id</th>\n",
       "      <th>user_session</th>\n",
       "    </tr>\n",
       "  </thead>\n",
       "  <tbody>\n",
       "    <tr>\n",
       "      <th>0</th>\n",
       "      <td>2019-10-01 00:00:00 UTC</td>\n",
       "      <td>cart</td>\n",
       "      <td>5773203</td>\n",
       "      <td>1487580005134238553</td>\n",
       "      <td>runail</td>\n",
       "      <td>2.62</td>\n",
       "      <td>463240011</td>\n",
       "      <td>26dd6e6e-4dac-4778-8d2c-92e149dab885</td>\n",
       "    </tr>\n",
       "    <tr>\n",
       "      <th>1</th>\n",
       "      <td>2019-10-01 00:00:03 UTC</td>\n",
       "      <td>cart</td>\n",
       "      <td>5773353</td>\n",
       "      <td>1487580005134238553</td>\n",
       "      <td>runail</td>\n",
       "      <td>2.62</td>\n",
       "      <td>463240011</td>\n",
       "      <td>26dd6e6e-4dac-4778-8d2c-92e149dab885</td>\n",
       "    </tr>\n",
       "  </tbody>\n",
       "</table>\n",
       "</div>"
      ],
      "text/plain": [
       "                event_time event_type  product_id          category_id  \\\n",
       "0  2019-10-01 00:00:00 UTC       cart     5773203  1487580005134238553   \n",
       "1  2019-10-01 00:00:03 UTC       cart     5773353  1487580005134238553   \n",
       "\n",
       "    brand  price    user_id                          user_session  \n",
       "0  runail   2.62  463240011  26dd6e6e-4dac-4778-8d2c-92e149dab885  \n",
       "1  runail   2.62  463240011  26dd6e6e-4dac-4778-8d2c-92e149dab885  "
      ]
     },
     "execution_count": 23,
     "metadata": {},
     "output_type": "execute_result"
    }
   ],
   "source": [
    "df.head(2)"
   ]
  },
  {
   "cell_type": "code",
   "execution_count": 24,
   "metadata": {
    "colab": {
     "base_uri": "https://localhost:8080/",
     "height": 304
    },
    "execution": {
     "iopub.execute_input": "2025-07-03T15:26:28.146261Z",
     "iopub.status.busy": "2025-07-03T15:26:28.146022Z",
     "iopub.status.idle": "2025-07-03T15:26:32.415575Z",
     "shell.execute_reply": "2025-07-03T15:26:32.414815Z",
     "shell.execute_reply.started": "2025-07-03T15:26:28.146241Z"
    },
    "id": "cjc_-pnGtWHw",
    "outputId": "20ae7e57-cb52-4ef9-d712-aceb985ffe88",
    "trusted": true
   },
   "outputs": [
    {
     "data": {
      "text/plain": [
       "event_time         0\n",
       "event_type         0\n",
       "product_id         0\n",
       "category_id        0\n",
       "brand              0\n",
       "price              0\n",
       "user_id            0\n",
       "user_session    4598\n",
       "dtype: int64"
      ]
     },
     "execution_count": 24,
     "metadata": {},
     "output_type": "execute_result"
    }
   ],
   "source": [
    "df.isna().sum()"
   ]
  },
  {
   "cell_type": "code",
   "execution_count": 25,
   "metadata": {
    "colab": {
     "base_uri": "https://localhost:8080/"
    },
    "execution": {
     "iopub.execute_input": "2025-07-03T15:26:32.417654Z",
     "iopub.status.busy": "2025-07-03T15:26:32.417166Z",
     "iopub.status.idle": "2025-07-03T15:26:32.422879Z",
     "shell.execute_reply": "2025-07-03T15:26:32.422177Z",
     "shell.execute_reply.started": "2025-07-03T15:26:32.417631Z"
    },
    "id": "M78oB8ULtWFL",
    "outputId": "3e3088de-990d-4abf-99ff-e7c70f493afa",
    "trusted": true
   },
   "outputs": [
    {
     "data": {
      "text/plain": [
       "(20692840, 8)"
      ]
     },
     "execution_count": 25,
     "metadata": {},
     "output_type": "execute_result"
    }
   ],
   "source": [
    "df.shape"
   ]
  },
  {
   "cell_type": "markdown",
   "metadata": {},
   "source": [
    "# since user_session has 0.02% negligble amount hence dropping rows where user session null value is present"
   ]
  },
  {
   "cell_type": "code",
   "execution_count": 26,
   "metadata": {
    "execution": {
     "iopub.execute_input": "2025-07-03T15:26:34.066137Z",
     "iopub.status.busy": "2025-07-03T15:26:34.065785Z",
     "iopub.status.idle": "2025-07-03T15:26:38.008589Z",
     "shell.execute_reply": "2025-07-03T15:26:38.007795Z",
     "shell.execute_reply.started": "2025-07-03T15:26:34.066109Z"
    },
    "trusted": true
   },
   "outputs": [],
   "source": [
    "df = df.dropna(subset=['user_session'])"
   ]
  },
  {
   "cell_type": "code",
   "execution_count": 27,
   "metadata": {
    "execution": {
     "iopub.execute_input": "2025-07-03T15:26:38.010073Z",
     "iopub.status.busy": "2025-07-03T15:26:38.009793Z",
     "iopub.status.idle": "2025-07-03T15:26:38.015885Z",
     "shell.execute_reply": "2025-07-03T15:26:38.015113Z",
     "shell.execute_reply.started": "2025-07-03T15:26:38.010052Z"
    },
    "trusted": true
   },
   "outputs": [
    {
     "data": {
      "text/plain": [
       "(20688242, 8)"
      ]
     },
     "execution_count": 27,
     "metadata": {},
     "output_type": "execute_result"
    }
   ],
   "source": [
    "df.shape"
   ]
  },
  {
   "cell_type": "code",
   "execution_count": 28,
   "metadata": {
    "execution": {
     "iopub.execute_input": "2025-07-01T07:24:26.663571Z",
     "iopub.status.busy": "2025-07-01T07:24:26.663360Z",
     "iopub.status.idle": "2025-07-01T07:24:26.682247Z",
     "shell.execute_reply": "2025-07-01T07:24:26.681425Z",
     "shell.execute_reply.started": "2025-07-01T07:24:26.663556Z"
    },
    "id": "ECzqX-XgtWCc",
    "trusted": true
   },
   "outputs": [],
   "source": [
    "# df.dropna(how = 'any', axis = 0, inplace = True)"
   ]
  },
  {
   "cell_type": "code",
   "execution_count": 27,
   "metadata": {
    "execution": {
     "iopub.execute_input": "2025-07-03T14:31:17.434909Z",
     "iopub.status.busy": "2025-07-03T14:31:17.434170Z",
     "iopub.status.idle": "2025-07-03T14:31:21.664904Z",
     "shell.execute_reply": "2025-07-03T14:31:21.663898Z",
     "shell.execute_reply.started": "2025-07-03T14:31:17.434884Z"
    },
    "trusted": true
   },
   "outputs": [
    {
     "data": {
      "text/plain": [
       "event_time      0\n",
       "event_type      0\n",
       "product_id      0\n",
       "category_id     0\n",
       "brand           0\n",
       "price           0\n",
       "user_id         0\n",
       "user_session    0\n",
       "dtype: int64"
      ]
     },
     "execution_count": 27,
     "metadata": {},
     "output_type": "execute_result"
    }
   ],
   "source": [
    "df.isna().sum()"
   ]
  },
  {
   "cell_type": "code",
   "execution_count": 28,
   "metadata": {
    "colab": {
     "base_uri": "https://localhost:8080/"
    },
    "execution": {
     "iopub.execute_input": "2025-06-30T11:41:42.136689Z",
     "iopub.status.busy": "2025-06-30T11:41:42.136454Z",
     "iopub.status.idle": "2025-06-30T11:41:43.295354Z",
     "shell.execute_reply": "2025-06-30T11:41:43.294513Z",
     "shell.execute_reply.started": "2025-06-30T11:41:42.136673Z"
    },
    "id": "SLFv86VTtV_i",
    "outputId": "33e4f7ae-f1ab-4c06-df50-190d14c62667",
    "trusted": true
   },
   "outputs": [
    {
     "data": {
      "text/plain": [
       "array(['cart', 'view', 'remove_from_cart', 'purchase'], dtype=object)"
      ]
     },
     "execution_count": 28,
     "metadata": {},
     "output_type": "execute_result"
    }
   ],
   "source": [
    "df['event_type'].unique()"
   ]
  },
  {
   "cell_type": "code",
   "execution_count": 28,
   "metadata": {
    "execution": {
     "iopub.execute_input": "2025-07-03T15:26:44.387137Z",
     "iopub.status.busy": "2025-07-03T15:26:44.386716Z",
     "iopub.status.idle": "2025-07-03T15:26:52.033545Z",
     "shell.execute_reply": "2025-07-03T15:26:52.032609Z",
     "shell.execute_reply.started": "2025-07-03T15:26:44.387108Z"
    },
    "id": "_wHDR1_0tV6S",
    "trusted": true
   },
   "outputs": [],
   "source": [
    "df['Purchase_Outcome'] = df['event_type'].apply(lambda x:1  if x=='purchase' else 0)"
   ]
  },
  {
   "cell_type": "code",
   "execution_count": 29,
   "metadata": {
    "colab": {
     "base_uri": "https://localhost:8080/",
     "height": 206
    },
    "execution": {
     "iopub.execute_input": "2025-07-03T15:26:52.035372Z",
     "iopub.status.busy": "2025-07-03T15:26:52.035061Z",
     "iopub.status.idle": "2025-07-03T15:26:52.047808Z",
     "shell.execute_reply": "2025-07-03T15:26:52.046798Z",
     "shell.execute_reply.started": "2025-07-03T15:26:52.035342Z"
    },
    "id": "pbLYewsstV4A",
    "outputId": "05f29e90-0637-4666-a1bd-a1c792c5e143",
    "trusted": true
   },
   "outputs": [
    {
     "data": {
      "text/html": [
       "<div>\n",
       "<style scoped>\n",
       "    .dataframe tbody tr th:only-of-type {\n",
       "        vertical-align: middle;\n",
       "    }\n",
       "\n",
       "    .dataframe tbody tr th {\n",
       "        vertical-align: top;\n",
       "    }\n",
       "\n",
       "    .dataframe thead th {\n",
       "        text-align: right;\n",
       "    }\n",
       "</style>\n",
       "<table border=\"1\" class=\"dataframe\">\n",
       "  <thead>\n",
       "    <tr style=\"text-align: right;\">\n",
       "      <th></th>\n",
       "      <th>event_time</th>\n",
       "      <th>event_type</th>\n",
       "      <th>product_id</th>\n",
       "      <th>category_id</th>\n",
       "      <th>brand</th>\n",
       "      <th>price</th>\n",
       "      <th>user_id</th>\n",
       "      <th>user_session</th>\n",
       "      <th>Purchase_Outcome</th>\n",
       "    </tr>\n",
       "  </thead>\n",
       "  <tbody>\n",
       "    <tr>\n",
       "      <th>0</th>\n",
       "      <td>2019-10-01 00:00:00 UTC</td>\n",
       "      <td>cart</td>\n",
       "      <td>5773203</td>\n",
       "      <td>1487580005134238553</td>\n",
       "      <td>runail</td>\n",
       "      <td>2.62</td>\n",
       "      <td>463240011</td>\n",
       "      <td>26dd6e6e-4dac-4778-8d2c-92e149dab885</td>\n",
       "      <td>0</td>\n",
       "    </tr>\n",
       "    <tr>\n",
       "      <th>1</th>\n",
       "      <td>2019-10-01 00:00:03 UTC</td>\n",
       "      <td>cart</td>\n",
       "      <td>5773353</td>\n",
       "      <td>1487580005134238553</td>\n",
       "      <td>runail</td>\n",
       "      <td>2.62</td>\n",
       "      <td>463240011</td>\n",
       "      <td>26dd6e6e-4dac-4778-8d2c-92e149dab885</td>\n",
       "      <td>0</td>\n",
       "    </tr>\n",
       "    <tr>\n",
       "      <th>2</th>\n",
       "      <td>2019-10-01 00:00:07 UTC</td>\n",
       "      <td>cart</td>\n",
       "      <td>5881589</td>\n",
       "      <td>2151191071051219817</td>\n",
       "      <td>lovely</td>\n",
       "      <td>13.48</td>\n",
       "      <td>429681830</td>\n",
       "      <td>49e8d843-adf3-428b-a2c3-fe8bc6a307c9</td>\n",
       "      <td>0</td>\n",
       "    </tr>\n",
       "    <tr>\n",
       "      <th>3</th>\n",
       "      <td>2019-10-01 00:00:07 UTC</td>\n",
       "      <td>cart</td>\n",
       "      <td>5723490</td>\n",
       "      <td>1487580005134238553</td>\n",
       "      <td>runail</td>\n",
       "      <td>2.62</td>\n",
       "      <td>463240011</td>\n",
       "      <td>26dd6e6e-4dac-4778-8d2c-92e149dab885</td>\n",
       "      <td>0</td>\n",
       "    </tr>\n",
       "    <tr>\n",
       "      <th>4</th>\n",
       "      <td>2019-10-01 00:00:15 UTC</td>\n",
       "      <td>cart</td>\n",
       "      <td>5881449</td>\n",
       "      <td>1487580013522845895</td>\n",
       "      <td>lovely</td>\n",
       "      <td>0.56</td>\n",
       "      <td>429681830</td>\n",
       "      <td>49e8d843-adf3-428b-a2c3-fe8bc6a307c9</td>\n",
       "      <td>0</td>\n",
       "    </tr>\n",
       "  </tbody>\n",
       "</table>\n",
       "</div>"
      ],
      "text/plain": [
       "                event_time event_type  product_id          category_id  \\\n",
       "0  2019-10-01 00:00:00 UTC       cart     5773203  1487580005134238553   \n",
       "1  2019-10-01 00:00:03 UTC       cart     5773353  1487580005134238553   \n",
       "2  2019-10-01 00:00:07 UTC       cart     5881589  2151191071051219817   \n",
       "3  2019-10-01 00:00:07 UTC       cart     5723490  1487580005134238553   \n",
       "4  2019-10-01 00:00:15 UTC       cart     5881449  1487580013522845895   \n",
       "\n",
       "    brand  price    user_id                          user_session  \\\n",
       "0  runail   2.62  463240011  26dd6e6e-4dac-4778-8d2c-92e149dab885   \n",
       "1  runail   2.62  463240011  26dd6e6e-4dac-4778-8d2c-92e149dab885   \n",
       "2  lovely  13.48  429681830  49e8d843-adf3-428b-a2c3-fe8bc6a307c9   \n",
       "3  runail   2.62  463240011  26dd6e6e-4dac-4778-8d2c-92e149dab885   \n",
       "4  lovely   0.56  429681830  49e8d843-adf3-428b-a2c3-fe8bc6a307c9   \n",
       "\n",
       "   Purchase_Outcome  \n",
       "0                 0  \n",
       "1                 0  \n",
       "2                 0  \n",
       "3                 0  \n",
       "4                 0  "
      ]
     },
     "execution_count": 29,
     "metadata": {},
     "output_type": "execute_result"
    }
   ],
   "source": [
    "df.head()"
   ]
  },
  {
   "cell_type": "code",
   "execution_count": 30,
   "metadata": {
    "colab": {
     "base_uri": "https://localhost:8080/",
     "height": 178
    },
    "execution": {
     "iopub.execute_input": "2025-07-03T15:26:52.049277Z",
     "iopub.status.busy": "2025-07-03T15:26:52.048878Z",
     "iopub.status.idle": "2025-07-03T15:26:52.189513Z",
     "shell.execute_reply": "2025-07-03T15:26:52.188445Z",
     "shell.execute_reply.started": "2025-07-03T15:26:52.049245Z"
    },
    "id": "eJPKZyTrtV0-",
    "outputId": "0d0df3bf-eb8d-4acd-b215-f377cdad002b",
    "trusted": true
   },
   "outputs": [
    {
     "data": {
      "text/plain": [
       "Purchase_Outcome\n",
       "0    19401235\n",
       "1     1287007\n",
       "Name: count, dtype: int64"
      ]
     },
     "execution_count": 30,
     "metadata": {},
     "output_type": "execute_result"
    }
   ],
   "source": [
    "df['Purchase_Outcome'].value_counts()"
   ]
  },
  {
   "cell_type": "code",
   "execution_count": 31,
   "metadata": {
    "colab": {
     "base_uri": "https://localhost:8080/",
     "height": 424
    },
    "execution": {
     "iopub.execute_input": "2025-07-03T14:31:32.251758Z",
     "iopub.status.busy": "2025-07-03T14:31:32.251433Z",
     "iopub.status.idle": "2025-07-03T14:31:33.975347Z",
     "shell.execute_reply": "2025-07-03T14:31:33.974479Z",
     "shell.execute_reply.started": "2025-07-03T14:31:32.251734Z"
    },
    "id": "qTRJk-1htVyE",
    "outputId": "0a17c044-80fd-4403-8b9d-df6162f7bfca",
    "trusted": true
   },
   "outputs": [
    {
     "data": {
      "text/html": [
       "<div>\n",
       "<style scoped>\n",
       "    .dataframe tbody tr th:only-of-type {\n",
       "        vertical-align: middle;\n",
       "    }\n",
       "\n",
       "    .dataframe tbody tr th {\n",
       "        vertical-align: top;\n",
       "    }\n",
       "\n",
       "    .dataframe thead th {\n",
       "        text-align: right;\n",
       "    }\n",
       "</style>\n",
       "<table border=\"1\" class=\"dataframe\">\n",
       "  <thead>\n",
       "    <tr style=\"text-align: right;\">\n",
       "      <th></th>\n",
       "      <th>event_time</th>\n",
       "      <th>event_type</th>\n",
       "      <th>product_id</th>\n",
       "      <th>category_id</th>\n",
       "      <th>brand</th>\n",
       "      <th>price</th>\n",
       "      <th>user_id</th>\n",
       "      <th>user_session</th>\n",
       "      <th>Purchase_Outcome</th>\n",
       "    </tr>\n",
       "  </thead>\n",
       "  <tbody>\n",
       "    <tr>\n",
       "      <th>202</th>\n",
       "      <td>2019-10-01 00:06:35 UTC</td>\n",
       "      <td>purchase</td>\n",
       "      <td>5619862</td>\n",
       "      <td>1487580006895846315</td>\n",
       "      <td>runail</td>\n",
       "      <td>5.32</td>\n",
       "      <td>474232307</td>\n",
       "      <td>445f2b74-5e4c-427e-b7fa-6e0a28b156fe</td>\n",
       "      <td>1</td>\n",
       "    </tr>\n",
       "    <tr>\n",
       "      <th>204</th>\n",
       "      <td>2019-10-01 00:06:35 UTC</td>\n",
       "      <td>purchase</td>\n",
       "      <td>5619866</td>\n",
       "      <td>1487580006895846315</td>\n",
       "      <td>runail</td>\n",
       "      <td>2.86</td>\n",
       "      <td>474232307</td>\n",
       "      <td>445f2b74-5e4c-427e-b7fa-6e0a28b156fe</td>\n",
       "      <td>1</td>\n",
       "    </tr>\n",
       "    <tr>\n",
       "      <th>205</th>\n",
       "      <td>2019-10-01 00:06:35 UTC</td>\n",
       "      <td>purchase</td>\n",
       "      <td>5696184</td>\n",
       "      <td>1487580005134238553</td>\n",
       "      <td>runail</td>\n",
       "      <td>2.38</td>\n",
       "      <td>474232307</td>\n",
       "      <td>445f2b74-5e4c-427e-b7fa-6e0a28b156fe</td>\n",
       "      <td>1</td>\n",
       "    </tr>\n",
       "    <tr>\n",
       "      <th>206</th>\n",
       "      <td>2019-10-01 00:06:35 UTC</td>\n",
       "      <td>purchase</td>\n",
       "      <td>5706784</td>\n",
       "      <td>1487580005092295511</td>\n",
       "      <td>runail</td>\n",
       "      <td>4.44</td>\n",
       "      <td>474232307</td>\n",
       "      <td>445f2b74-5e4c-427e-b7fa-6e0a28b156fe</td>\n",
       "      <td>1</td>\n",
       "    </tr>\n",
       "    <tr>\n",
       "      <th>207</th>\n",
       "      <td>2019-10-01 00:06:35 UTC</td>\n",
       "      <td>purchase</td>\n",
       "      <td>5723503</td>\n",
       "      <td>1487580005134238553</td>\n",
       "      <td>runail</td>\n",
       "      <td>2.62</td>\n",
       "      <td>474232307</td>\n",
       "      <td>445f2b74-5e4c-427e-b7fa-6e0a28b156fe</td>\n",
       "      <td>1</td>\n",
       "    </tr>\n",
       "    <tr>\n",
       "      <th>...</th>\n",
       "      <td>...</td>\n",
       "      <td>...</td>\n",
       "      <td>...</td>\n",
       "      <td>...</td>\n",
       "      <td>...</td>\n",
       "      <td>...</td>\n",
       "      <td>...</td>\n",
       "      <td>...</td>\n",
       "      <td>...</td>\n",
       "    </tr>\n",
       "    <tr>\n",
       "      <th>20692507</th>\n",
       "      <td>2020-02-29 23:46:01 UTC</td>\n",
       "      <td>purchase</td>\n",
       "      <td>5896420</td>\n",
       "      <td>1487580006300255120</td>\n",
       "      <td>jessnail</td>\n",
       "      <td>49.21</td>\n",
       "      <td>620865261</td>\n",
       "      <td>64389dba-26c4-f328-6972-166a48654eaa</td>\n",
       "      <td>1</td>\n",
       "    </tr>\n",
       "    <tr>\n",
       "      <th>20692721</th>\n",
       "      <td>2020-02-29 23:54:44 UTC</td>\n",
       "      <td>purchase</td>\n",
       "      <td>5692863</td>\n",
       "      <td>1487580007910867929</td>\n",
       "      <td>yoko</td>\n",
       "      <td>7.83</td>\n",
       "      <td>548866558</td>\n",
       "      <td>199869f5-3a22-4a47-8678-7c343d09bb8e</td>\n",
       "      <td>1</td>\n",
       "    </tr>\n",
       "    <tr>\n",
       "      <th>20692722</th>\n",
       "      <td>2020-02-29 23:54:44 UTC</td>\n",
       "      <td>purchase</td>\n",
       "      <td>5802432</td>\n",
       "      <td>1487580009286598681</td>\n",
       "      <td>unknown_brand</td>\n",
       "      <td>0.32</td>\n",
       "      <td>548866558</td>\n",
       "      <td>199869f5-3a22-4a47-8678-7c343d09bb8e</td>\n",
       "      <td>1</td>\n",
       "    </tr>\n",
       "    <tr>\n",
       "      <th>20692723</th>\n",
       "      <td>2020-02-29 23:54:44 UTC</td>\n",
       "      <td>purchase</td>\n",
       "      <td>5896788</td>\n",
       "      <td>1783999068909863670</td>\n",
       "      <td>staleks</td>\n",
       "      <td>4.75</td>\n",
       "      <td>548866558</td>\n",
       "      <td>199869f5-3a22-4a47-8678-7c343d09bb8e</td>\n",
       "      <td>1</td>\n",
       "    </tr>\n",
       "    <tr>\n",
       "      <th>20692724</th>\n",
       "      <td>2020-02-29 23:54:44 UTC</td>\n",
       "      <td>purchase</td>\n",
       "      <td>5929649</td>\n",
       "      <td>1487580006350586771</td>\n",
       "      <td>max</td>\n",
       "      <td>95.08</td>\n",
       "      <td>548866558</td>\n",
       "      <td>199869f5-3a22-4a47-8678-7c343d09bb8e</td>\n",
       "      <td>1</td>\n",
       "    </tr>\n",
       "  </tbody>\n",
       "</table>\n",
       "<p>1287007 rows × 9 columns</p>\n",
       "</div>"
      ],
      "text/plain": [
       "                       event_time event_type  product_id          category_id  \\\n",
       "202       2019-10-01 00:06:35 UTC   purchase     5619862  1487580006895846315   \n",
       "204       2019-10-01 00:06:35 UTC   purchase     5619866  1487580006895846315   \n",
       "205       2019-10-01 00:06:35 UTC   purchase     5696184  1487580005134238553   \n",
       "206       2019-10-01 00:06:35 UTC   purchase     5706784  1487580005092295511   \n",
       "207       2019-10-01 00:06:35 UTC   purchase     5723503  1487580005134238553   \n",
       "...                           ...        ...         ...                  ...   \n",
       "20692507  2020-02-29 23:46:01 UTC   purchase     5896420  1487580006300255120   \n",
       "20692721  2020-02-29 23:54:44 UTC   purchase     5692863  1487580007910867929   \n",
       "20692722  2020-02-29 23:54:44 UTC   purchase     5802432  1487580009286598681   \n",
       "20692723  2020-02-29 23:54:44 UTC   purchase     5896788  1783999068909863670   \n",
       "20692724  2020-02-29 23:54:44 UTC   purchase     5929649  1487580006350586771   \n",
       "\n",
       "                  brand  price    user_id  \\\n",
       "202              runail   5.32  474232307   \n",
       "204              runail   2.86  474232307   \n",
       "205              runail   2.38  474232307   \n",
       "206              runail   4.44  474232307   \n",
       "207              runail   2.62  474232307   \n",
       "...                 ...    ...        ...   \n",
       "20692507       jessnail  49.21  620865261   \n",
       "20692721           yoko   7.83  548866558   \n",
       "20692722  unknown_brand   0.32  548866558   \n",
       "20692723        staleks   4.75  548866558   \n",
       "20692724            max  95.08  548866558   \n",
       "\n",
       "                                  user_session  Purchase_Outcome  \n",
       "202       445f2b74-5e4c-427e-b7fa-6e0a28b156fe                 1  \n",
       "204       445f2b74-5e4c-427e-b7fa-6e0a28b156fe                 1  \n",
       "205       445f2b74-5e4c-427e-b7fa-6e0a28b156fe                 1  \n",
       "206       445f2b74-5e4c-427e-b7fa-6e0a28b156fe                 1  \n",
       "207       445f2b74-5e4c-427e-b7fa-6e0a28b156fe                 1  \n",
       "...                                        ...               ...  \n",
       "20692507  64389dba-26c4-f328-6972-166a48654eaa                 1  \n",
       "20692721  199869f5-3a22-4a47-8678-7c343d09bb8e                 1  \n",
       "20692722  199869f5-3a22-4a47-8678-7c343d09bb8e                 1  \n",
       "20692723  199869f5-3a22-4a47-8678-7c343d09bb8e                 1  \n",
       "20692724  199869f5-3a22-4a47-8678-7c343d09bb8e                 1  \n",
       "\n",
       "[1287007 rows x 9 columns]"
      ]
     },
     "execution_count": 31,
     "metadata": {},
     "output_type": "execute_result"
    }
   ],
   "source": [
    "df[df['event_type'] == 'purchase']"
   ]
  },
  {
   "cell_type": "code",
   "execution_count": 32,
   "metadata": {
    "colab": {
     "base_uri": "https://localhost:8080/"
    },
    "execution": {
     "iopub.execute_input": "2025-06-30T11:41:50.620623Z",
     "iopub.status.busy": "2025-06-30T11:41:50.620314Z",
     "iopub.status.idle": "2025-06-30T11:41:51.751976Z",
     "shell.execute_reply": "2025-06-30T11:41:51.751160Z",
     "shell.execute_reply.started": "2025-06-30T11:41:50.620604Z"
    },
    "id": "LkT2Q5YptVvS",
    "outputId": "55aa0085-c69f-4543-f00b-494c40eba97f",
    "trusted": true
   },
   "outputs": [
    {
     "data": {
      "text/plain": [
       "array(['cart', 'view', 'remove_from_cart', 'purchase'], dtype=object)"
      ]
     },
     "execution_count": 32,
     "metadata": {},
     "output_type": "execute_result"
    }
   ],
   "source": [
    "df['event_type'].unique()"
   ]
  },
  {
   "cell_type": "code",
   "execution_count": 31,
   "metadata": {
    "execution": {
     "iopub.execute_input": "2025-07-03T15:27:04.290360Z",
     "iopub.status.busy": "2025-07-03T15:27:04.290009Z",
     "iopub.status.idle": "2025-07-03T15:27:04.294912Z",
     "shell.execute_reply": "2025-07-03T15:27:04.294018Z",
     "shell.execute_reply.started": "2025-07-03T15:27:04.290335Z"
    },
    "id": "Pu6I-1sftVso",
    "trusted": true
   },
   "outputs": [],
   "source": [
    "funnel_stages = ['view', 'cart', 'purchase']\n",
    "stage_labels = ['Visit page', 'Add to cart', 'Purchase complete']"
   ]
  },
  {
   "cell_type": "code",
   "execution_count": 32,
   "metadata": {
    "execution": {
     "iopub.execute_input": "2025-07-03T15:27:05.542252Z",
     "iopub.status.busy": "2025-07-03T15:27:05.541602Z",
     "iopub.status.idle": "2025-07-03T15:27:09.167707Z",
     "shell.execute_reply": "2025-07-03T15:27:09.166792Z",
     "shell.execute_reply.started": "2025-07-03T15:27:05.542217Z"
    },
    "id": "SrvwwxIatVpm",
    "trusted": true
   },
   "outputs": [],
   "source": [
    "df['event_type'] = df['event_type'].str.strip()"
   ]
  },
  {
   "cell_type": "code",
   "execution_count": 33,
   "metadata": {
    "colab": {
     "base_uri": "https://localhost:8080/"
    },
    "execution": {
     "iopub.execute_input": "2025-07-03T15:27:09.169468Z",
     "iopub.status.busy": "2025-07-03T15:27:09.169201Z",
     "iopub.status.idle": "2025-07-03T15:27:16.660912Z",
     "shell.execute_reply": "2025-07-03T15:27:16.660022Z",
     "shell.execute_reply.started": "2025-07-03T15:27:09.169441Z"
    },
    "id": "zSBpqoXztVms",
    "outputId": "93ab3c1e-f043-4346-8d70-7b3508bac64f",
    "trusted": true
   },
   "outputs": [
    {
     "data": {
      "text/plain": [
       "[9657790, 5764557, 1287007]"
      ]
     },
     "execution_count": 33,
     "metadata": {},
     "output_type": "execute_result"
    }
   ],
   "source": [
    "funnel_counts = [df[df['event_type'] == stage].shape[0] for stage in funnel_stages]\n",
    "funnel_counts"
   ]
  },
  {
   "cell_type": "code",
   "execution_count": 34,
   "metadata": {
    "colab": {
     "base_uri": "https://localhost:8080/",
     "height": 241
    },
    "execution": {
     "iopub.execute_input": "2025-07-03T15:27:16.662353Z",
     "iopub.status.busy": "2025-07-03T15:27:16.662021Z",
     "iopub.status.idle": "2025-07-03T15:27:18.209016Z",
     "shell.execute_reply": "2025-07-03T15:27:18.208014Z",
     "shell.execute_reply.started": "2025-07-03T15:27:16.662329Z"
    },
    "id": "6JFg3SbFtVj6",
    "outputId": "03f6e477-d111-4d6d-d4a5-7b8ca0ef874b",
    "trusted": true
   },
   "outputs": [
    {
     "data": {
      "text/plain": [
       "event_type\n",
       "view                9657790\n",
       "cart                5764557\n",
       "remove_from_cart    3978888\n",
       "purchase            1287007\n",
       "Name: count, dtype: int64"
      ]
     },
     "execution_count": 34,
     "metadata": {},
     "output_type": "execute_result"
    }
   ],
   "source": [
    "df['event_type'].value_counts()"
   ]
  },
  {
   "cell_type": "code",
   "execution_count": 36,
   "metadata": {
    "execution": {
     "iopub.execute_input": "2025-07-03T15:27:18.232581Z",
     "iopub.status.busy": "2025-07-03T15:27:18.232299Z",
     "iopub.status.idle": "2025-07-03T15:27:18.256580Z",
     "shell.execute_reply": "2025-07-03T15:27:18.255477Z",
     "shell.execute_reply.started": "2025-07-03T15:27:18.232556Z"
    },
    "trusted": true
   },
   "outputs": [
    {
     "data": {
      "text/plain": [
       "[100, 59.68815847103737, 22.326208241153655]"
      ]
     },
     "execution_count": 36,
     "metadata": {},
     "output_type": "execute_result"
    }
   ],
   "source": [
    "conversion_rates1 = [100] + [(funnel_counts[i] / funnel_counts[i-1]) * 100 for i in range(1, len(funnel_counts))]\n",
    "conversion_rates1"
   ]
  },
  {
   "cell_type": "code",
   "execution_count": 37,
   "metadata": {
    "colab": {
     "base_uri": "https://localhost:8080/"
    },
    "execution": {
     "iopub.execute_input": "2025-07-03T15:27:18.257991Z",
     "iopub.status.busy": "2025-07-03T15:27:18.257575Z",
     "iopub.status.idle": "2025-07-03T15:27:18.274821Z",
     "shell.execute_reply": "2025-07-03T15:27:18.273803Z",
     "shell.execute_reply.started": "2025-07-03T15:27:18.257940Z"
    },
    "id": "b-7WR5HztVd2",
    "outputId": "5198869a-b3bb-4c38-87bb-41c62303136b",
    "trusted": true
   },
   "outputs": [
    {
     "data": {
      "text/plain": [
       "[100, 59.68815847103737, 22.326208241153655]"
      ]
     },
     "execution_count": 37,
     "metadata": {},
     "output_type": "execute_result"
    }
   ],
   "source": [
    "conversion_rates = []\n",
    "for ind, value in enumerate(funnel_counts):\n",
    "  if ind == 0:\n",
    "    conversion_rates.append(100)\n",
    "  else:\n",
    "    co_rate = (value/funnel_counts[ind-1]) * 100\n",
    "    conversion_rates.append(co_rate)\n",
    "conversion_rates"
   ]
  },
  {
   "cell_type": "code",
   "execution_count": 38,
   "metadata": {
    "colab": {
     "base_uri": "https://localhost:8080/"
    },
    "execution": {
     "iopub.execute_input": "2025-07-03T15:27:18.607233Z",
     "iopub.status.busy": "2025-07-03T15:27:18.606508Z",
     "iopub.status.idle": "2025-07-03T15:27:18.613030Z",
     "shell.execute_reply": "2025-07-03T15:27:18.612147Z",
     "shell.execute_reply.started": "2025-07-03T15:27:18.607189Z"
    },
    "id": "keH2Hay_tVYo",
    "outputId": "e40c4f64-3e05-4789-daa8-89ff4413c6c7",
    "trusted": true
   },
   "outputs": [
    {
     "data": {
      "text/plain": [
       "[0, 40.31184152896263, 77.67379175884635]"
      ]
     },
     "execution_count": 38,
     "metadata": {},
     "output_type": "execute_result"
    }
   ],
   "source": [
    "dropoff_rates = [100 - rate for rate in conversion_rates]\n",
    "dropoff_rates"
   ]
  },
  {
   "cell_type": "code",
   "execution_count": 39,
   "metadata": {
    "execution": {
     "iopub.execute_input": "2025-07-03T15:27:29.914794Z",
     "iopub.status.busy": "2025-07-03T15:27:29.914491Z",
     "iopub.status.idle": "2025-07-03T15:27:32.084423Z",
     "shell.execute_reply": "2025-07-03T15:27:32.083393Z",
     "shell.execute_reply.started": "2025-07-03T15:27:29.914769Z"
    },
    "trusted": true
   },
   "outputs": [],
   "source": [
    "remove_from_cart_count = df[df['event_type'] == 'remove_from_cart'].shape[0]\n",
    "remove_from_cart_rate = (remove_from_cart_count/funnel_counts[1]) *100 if funnel_counts[1]>0 else 0 "
   ]
  },
  {
   "cell_type": "code",
   "execution_count": 40,
   "metadata": {
    "execution": {
     "iopub.execute_input": "2025-07-03T15:27:32.086069Z",
     "iopub.status.busy": "2025-07-03T15:27:32.085805Z",
     "iopub.status.idle": "2025-07-03T15:27:32.100002Z",
     "shell.execute_reply": "2025-07-03T15:27:32.099025Z",
     "shell.execute_reply.started": "2025-07-03T15:27:32.086047Z"
    },
    "id": "siXH0PVwtVV3",
    "trusted": true
   },
   "outputs": [],
   "source": [
    "import plotly.graph_objects as go"
   ]
  },
  {
   "cell_type": "code",
   "execution_count": 41,
   "metadata": {
    "colab": {
     "base_uri": "https://localhost:8080/"
    },
    "execution": {
     "iopub.execute_input": "2025-07-03T15:27:34.378365Z",
     "iopub.status.busy": "2025-07-03T15:27:34.377515Z",
     "iopub.status.idle": "2025-07-03T15:27:34.384377Z",
     "shell.execute_reply": "2025-07-03T15:27:34.383335Z",
     "shell.execute_reply.started": "2025-07-03T15:27:34.378332Z"
    },
    "id": "RqbGg2L4tVTE",
    "outputId": "716e3ea8-2bed-4e99-c1ae-571e3d120311",
    "trusted": true
   },
   "outputs": [
    {
     "name": "stdout",
     "output_type": "stream",
     "text": [
      "Funnel Analysis:\n",
      "Visit page: 9657790 users, Conversion Rate: 100.00%, Drop-Off Rate: 0.00%\n",
      "Add to cart: 5764557 users, Conversion Rate: 59.69%, Drop-Off Rate: 40.31%\n",
      "Purchase complete: 1287007 users, Conversion Rate: 22.33%, Drop-Off Rate: 77.67%\n",
      "Remove from cart: 3978888 events, Proportion of cart events: 69.02%\n"
     ]
    }
   ],
   "source": [
    "print(\"Funnel Analysis:\")\n",
    "for stage, count, conv, drop in zip(stage_labels, funnel_counts, conversion_rates, dropoff_rates):\n",
    "    print(f\"{stage}: {count} users, Conversion Rate: {conv:.2f}%, Drop-Off Rate: {drop:.2f}%\")\n",
    "print(f\"Remove from cart: {remove_from_cart_count} events, Proportion of cart events: {remove_from_cart_rate:.2f}%\")"
   ]
  },
  {
   "cell_type": "code",
   "execution_count": 42,
   "metadata": {
    "colab": {
     "base_uri": "https://localhost:8080/",
     "height": 542
    },
    "execution": {
     "iopub.execute_input": "2025-07-03T15:27:41.817668Z",
     "iopub.status.busy": "2025-07-03T15:27:41.817355Z",
     "iopub.status.idle": "2025-07-03T15:27:42.472886Z",
     "shell.execute_reply": "2025-07-03T15:27:42.471901Z",
     "shell.execute_reply.started": "2025-07-03T15:27:41.817643Z"
    },
    "id": "A23mz_KotVPy",
    "outputId": "74b2445a-9924-4ec0-bfac-e348a882131e",
    "trusted": true
   },
   "outputs": [
    {
     "data": {
      "text/html": [
       "<html>\n",
       "<head><meta charset=\"utf-8\" /></head>\n",
       "<body>\n",
       "    <div>            <script src=\"https://cdnjs.cloudflare.com/ajax/libs/mathjax/2.7.5/MathJax.js?config=TeX-AMS-MML_SVG\"></script><script type=\"text/javascript\">if (window.MathJax && window.MathJax.Hub && window.MathJax.Hub.Config) {window.MathJax.Hub.Config({SVG: {font: \"STIX-Web\"}});}</script>                <script type=\"text/javascript\">window.PlotlyConfig = {MathJaxConfig: 'local'};</script>\n",
       "        <script charset=\"utf-8\" src=\"https://cdn.plot.ly/plotly-2.35.2.min.js\"></script>                <div id=\"1d21636d-f00d-42d5-9e36-dc65ea32403f\" class=\"plotly-graph-div\" style=\"height:525px; width:100%;\"></div>            <script type=\"text/javascript\">                                    window.PLOTLYENV=window.PLOTLYENV || {};                                    if (document.getElementById(\"1d21636d-f00d-42d5-9e36-dc65ea32403f\")) {                    Plotly.newPlot(                        \"1d21636d-f00d-42d5-9e36-dc65ea32403f\",                        [{\"marker\":{\"color\":[\"#FF6384\",\"#36A2EB\",\"#FFCE56\",\"#4BC0C0\",\"#9966FF\"]},\"textinfo\":\"value+percent initial\",\"x\":[9657790,5764557,1287007],\"y\":[\"Visit page\",\"Add to cart\",\"Purchase complete\"],\"type\":\"funnel\"}],                        {\"template\":{\"data\":{\"histogram2dcontour\":[{\"type\":\"histogram2dcontour\",\"colorbar\":{\"outlinewidth\":0,\"ticks\":\"\"},\"colorscale\":[[0.0,\"#0d0887\"],[0.1111111111111111,\"#46039f\"],[0.2222222222222222,\"#7201a8\"],[0.3333333333333333,\"#9c179e\"],[0.4444444444444444,\"#bd3786\"],[0.5555555555555556,\"#d8576b\"],[0.6666666666666666,\"#ed7953\"],[0.7777777777777778,\"#fb9f3a\"],[0.8888888888888888,\"#fdca26\"],[1.0,\"#f0f921\"]]}],\"choropleth\":[{\"type\":\"choropleth\",\"colorbar\":{\"outlinewidth\":0,\"ticks\":\"\"}}],\"histogram2d\":[{\"type\":\"histogram2d\",\"colorbar\":{\"outlinewidth\":0,\"ticks\":\"\"},\"colorscale\":[[0.0,\"#0d0887\"],[0.1111111111111111,\"#46039f\"],[0.2222222222222222,\"#7201a8\"],[0.3333333333333333,\"#9c179e\"],[0.4444444444444444,\"#bd3786\"],[0.5555555555555556,\"#d8576b\"],[0.6666666666666666,\"#ed7953\"],[0.7777777777777778,\"#fb9f3a\"],[0.8888888888888888,\"#fdca26\"],[1.0,\"#f0f921\"]]}],\"heatmap\":[{\"type\":\"heatmap\",\"colorbar\":{\"outlinewidth\":0,\"ticks\":\"\"},\"colorscale\":[[0.0,\"#0d0887\"],[0.1111111111111111,\"#46039f\"],[0.2222222222222222,\"#7201a8\"],[0.3333333333333333,\"#9c179e\"],[0.4444444444444444,\"#bd3786\"],[0.5555555555555556,\"#d8576b\"],[0.6666666666666666,\"#ed7953\"],[0.7777777777777778,\"#fb9f3a\"],[0.8888888888888888,\"#fdca26\"],[1.0,\"#f0f921\"]]}],\"heatmapgl\":[{\"type\":\"heatmapgl\",\"colorbar\":{\"outlinewidth\":0,\"ticks\":\"\"},\"colorscale\":[[0.0,\"#0d0887\"],[0.1111111111111111,\"#46039f\"],[0.2222222222222222,\"#7201a8\"],[0.3333333333333333,\"#9c179e\"],[0.4444444444444444,\"#bd3786\"],[0.5555555555555556,\"#d8576b\"],[0.6666666666666666,\"#ed7953\"],[0.7777777777777778,\"#fb9f3a\"],[0.8888888888888888,\"#fdca26\"],[1.0,\"#f0f921\"]]}],\"contourcarpet\":[{\"type\":\"contourcarpet\",\"colorbar\":{\"outlinewidth\":0,\"ticks\":\"\"}}],\"contour\":[{\"type\":\"contour\",\"colorbar\":{\"outlinewidth\":0,\"ticks\":\"\"},\"colorscale\":[[0.0,\"#0d0887\"],[0.1111111111111111,\"#46039f\"],[0.2222222222222222,\"#7201a8\"],[0.3333333333333333,\"#9c179e\"],[0.4444444444444444,\"#bd3786\"],[0.5555555555555556,\"#d8576b\"],[0.6666666666666666,\"#ed7953\"],[0.7777777777777778,\"#fb9f3a\"],[0.8888888888888888,\"#fdca26\"],[1.0,\"#f0f921\"]]}],\"surface\":[{\"type\":\"surface\",\"colorbar\":{\"outlinewidth\":0,\"ticks\":\"\"},\"colorscale\":[[0.0,\"#0d0887\"],[0.1111111111111111,\"#46039f\"],[0.2222222222222222,\"#7201a8\"],[0.3333333333333333,\"#9c179e\"],[0.4444444444444444,\"#bd3786\"],[0.5555555555555556,\"#d8576b\"],[0.6666666666666666,\"#ed7953\"],[0.7777777777777778,\"#fb9f3a\"],[0.8888888888888888,\"#fdca26\"],[1.0,\"#f0f921\"]]}],\"mesh3d\":[{\"type\":\"mesh3d\",\"colorbar\":{\"outlinewidth\":0,\"ticks\":\"\"}}],\"scatter\":[{\"fillpattern\":{\"fillmode\":\"overlay\",\"size\":10,\"solidity\":0.2},\"type\":\"scatter\"}],\"parcoords\":[{\"type\":\"parcoords\",\"line\":{\"colorbar\":{\"outlinewidth\":0,\"ticks\":\"\"}}}],\"scatterpolargl\":[{\"type\":\"scatterpolargl\",\"marker\":{\"colorbar\":{\"outlinewidth\":0,\"ticks\":\"\"}}}],\"bar\":[{\"error_x\":{\"color\":\"#2a3f5f\"},\"error_y\":{\"color\":\"#2a3f5f\"},\"marker\":{\"line\":{\"color\":\"#E5ECF6\",\"width\":0.5},\"pattern\":{\"fillmode\":\"overlay\",\"size\":10,\"solidity\":0.2}},\"type\":\"bar\"}],\"scattergeo\":[{\"type\":\"scattergeo\",\"marker\":{\"colorbar\":{\"outlinewidth\":0,\"ticks\":\"\"}}}],\"scatterpolar\":[{\"type\":\"scatterpolar\",\"marker\":{\"colorbar\":{\"outlinewidth\":0,\"ticks\":\"\"}}}],\"histogram\":[{\"marker\":{\"pattern\":{\"fillmode\":\"overlay\",\"size\":10,\"solidity\":0.2}},\"type\":\"histogram\"}],\"scattergl\":[{\"type\":\"scattergl\",\"marker\":{\"colorbar\":{\"outlinewidth\":0,\"ticks\":\"\"}}}],\"scatter3d\":[{\"type\":\"scatter3d\",\"line\":{\"colorbar\":{\"outlinewidth\":0,\"ticks\":\"\"}},\"marker\":{\"colorbar\":{\"outlinewidth\":0,\"ticks\":\"\"}}}],\"scattermapbox\":[{\"type\":\"scattermapbox\",\"marker\":{\"colorbar\":{\"outlinewidth\":0,\"ticks\":\"\"}}}],\"scatterternary\":[{\"type\":\"scatterternary\",\"marker\":{\"colorbar\":{\"outlinewidth\":0,\"ticks\":\"\"}}}],\"scattercarpet\":[{\"type\":\"scattercarpet\",\"marker\":{\"colorbar\":{\"outlinewidth\":0,\"ticks\":\"\"}}}],\"carpet\":[{\"aaxis\":{\"endlinecolor\":\"#2a3f5f\",\"gridcolor\":\"white\",\"linecolor\":\"white\",\"minorgridcolor\":\"white\",\"startlinecolor\":\"#2a3f5f\"},\"baxis\":{\"endlinecolor\":\"#2a3f5f\",\"gridcolor\":\"white\",\"linecolor\":\"white\",\"minorgridcolor\":\"white\",\"startlinecolor\":\"#2a3f5f\"},\"type\":\"carpet\"}],\"table\":[{\"cells\":{\"fill\":{\"color\":\"#EBF0F8\"},\"line\":{\"color\":\"white\"}},\"header\":{\"fill\":{\"color\":\"#C8D4E3\"},\"line\":{\"color\":\"white\"}},\"type\":\"table\"}],\"barpolar\":[{\"marker\":{\"line\":{\"color\":\"#E5ECF6\",\"width\":0.5},\"pattern\":{\"fillmode\":\"overlay\",\"size\":10,\"solidity\":0.2}},\"type\":\"barpolar\"}],\"pie\":[{\"automargin\":true,\"type\":\"pie\"}]},\"layout\":{\"autotypenumbers\":\"strict\",\"colorway\":[\"#636efa\",\"#EF553B\",\"#00cc96\",\"#ab63fa\",\"#FFA15A\",\"#19d3f3\",\"#FF6692\",\"#B6E880\",\"#FF97FF\",\"#FECB52\"],\"font\":{\"color\":\"#2a3f5f\"},\"hovermode\":\"closest\",\"hoverlabel\":{\"align\":\"left\"},\"paper_bgcolor\":\"white\",\"plot_bgcolor\":\"#E5ECF6\",\"polar\":{\"bgcolor\":\"#E5ECF6\",\"angularaxis\":{\"gridcolor\":\"white\",\"linecolor\":\"white\",\"ticks\":\"\"},\"radialaxis\":{\"gridcolor\":\"white\",\"linecolor\":\"white\",\"ticks\":\"\"}},\"ternary\":{\"bgcolor\":\"#E5ECF6\",\"aaxis\":{\"gridcolor\":\"white\",\"linecolor\":\"white\",\"ticks\":\"\"},\"baxis\":{\"gridcolor\":\"white\",\"linecolor\":\"white\",\"ticks\":\"\"},\"caxis\":{\"gridcolor\":\"white\",\"linecolor\":\"white\",\"ticks\":\"\"}},\"coloraxis\":{\"colorbar\":{\"outlinewidth\":0,\"ticks\":\"\"}},\"colorscale\":{\"sequential\":[[0.0,\"#0d0887\"],[0.1111111111111111,\"#46039f\"],[0.2222222222222222,\"#7201a8\"],[0.3333333333333333,\"#9c179e\"],[0.4444444444444444,\"#bd3786\"],[0.5555555555555556,\"#d8576b\"],[0.6666666666666666,\"#ed7953\"],[0.7777777777777778,\"#fb9f3a\"],[0.8888888888888888,\"#fdca26\"],[1.0,\"#f0f921\"]],\"sequentialminus\":[[0.0,\"#0d0887\"],[0.1111111111111111,\"#46039f\"],[0.2222222222222222,\"#7201a8\"],[0.3333333333333333,\"#9c179e\"],[0.4444444444444444,\"#bd3786\"],[0.5555555555555556,\"#d8576b\"],[0.6666666666666666,\"#ed7953\"],[0.7777777777777778,\"#fb9f3a\"],[0.8888888888888888,\"#fdca26\"],[1.0,\"#f0f921\"]],\"diverging\":[[0,\"#8e0152\"],[0.1,\"#c51b7d\"],[0.2,\"#de77ae\"],[0.3,\"#f1b6da\"],[0.4,\"#fde0ef\"],[0.5,\"#f7f7f7\"],[0.6,\"#e6f5d0\"],[0.7,\"#b8e186\"],[0.8,\"#7fbc41\"],[0.9,\"#4d9221\"],[1,\"#276419\"]]},\"xaxis\":{\"gridcolor\":\"white\",\"linecolor\":\"white\",\"ticks\":\"\",\"title\":{\"standoff\":15},\"zerolinecolor\":\"white\",\"automargin\":true,\"zerolinewidth\":2},\"yaxis\":{\"gridcolor\":\"white\",\"linecolor\":\"white\",\"ticks\":\"\",\"title\":{\"standoff\":15},\"zerolinecolor\":\"white\",\"automargin\":true,\"zerolinewidth\":2},\"scene\":{\"xaxis\":{\"backgroundcolor\":\"#E5ECF6\",\"gridcolor\":\"white\",\"linecolor\":\"white\",\"showbackground\":true,\"ticks\":\"\",\"zerolinecolor\":\"white\",\"gridwidth\":2},\"yaxis\":{\"backgroundcolor\":\"#E5ECF6\",\"gridcolor\":\"white\",\"linecolor\":\"white\",\"showbackground\":true,\"ticks\":\"\",\"zerolinecolor\":\"white\",\"gridwidth\":2},\"zaxis\":{\"backgroundcolor\":\"#E5ECF6\",\"gridcolor\":\"white\",\"linecolor\":\"white\",\"showbackground\":true,\"ticks\":\"\",\"zerolinecolor\":\"white\",\"gridwidth\":2}},\"shapedefaults\":{\"line\":{\"color\":\"#2a3f5f\"}},\"annotationdefaults\":{\"arrowcolor\":\"#2a3f5f\",\"arrowhead\":0,\"arrowwidth\":1},\"geo\":{\"bgcolor\":\"white\",\"landcolor\":\"#E5ECF6\",\"subunitcolor\":\"white\",\"showland\":true,\"showlakes\":true,\"lakecolor\":\"white\"},\"title\":{\"x\":0.05},\"mapbox\":{\"style\":\"light\"}}},\"title\":{\"text\":\"Ecommerce Purchase Funnel\"},\"showlegend\":false},                        {\"responsive\": true}                    ).then(function(){\n",
       "                            \n",
       "var gd = document.getElementById('1d21636d-f00d-42d5-9e36-dc65ea32403f');\n",
       "var x = new MutationObserver(function (mutations, observer) {{\n",
       "        var display = window.getComputedStyle(gd).display;\n",
       "        if (!display || display === 'none') {{\n",
       "            console.log([gd, 'removed!']);\n",
       "            Plotly.purge(gd);\n",
       "            observer.disconnect();\n",
       "        }}\n",
       "}});\n",
       "\n",
       "// Listen for the removal of the full notebook cells\n",
       "var notebookContainer = gd.closest('#notebook-container');\n",
       "if (notebookContainer) {{\n",
       "    x.observe(notebookContainer, {childList: true});\n",
       "}}\n",
       "\n",
       "// Listen for the clearing of the current output cell\n",
       "var outputEl = gd.closest('.output');\n",
       "if (outputEl) {{\n",
       "    x.observe(outputEl, {childList: true});\n",
       "}}\n",
       "\n",
       "                        })                };                            </script>        </div>\n",
       "</body>\n",
       "</html>"
      ]
     },
     "metadata": {},
     "output_type": "display_data"
    }
   ],
   "source": [
    "fig = go.Figure(go.Funnel(\n",
    "    y= stage_labels,\n",
    "    x=funnel_counts,\n",
    "    textinfo=\"value+percent initial\",\n",
    "    marker={\"color\": [\"#FF6384\", \"#36A2EB\", \"#FFCE56\", \"#4BC0C0\", \"#9966FF\"]}\n",
    "\n",
    "))\n",
    "fig.update_layout(title=\"Ecommerce Purchase Funnel\", showlegend=False)\n",
    "fig.show()"
   ]
  },
  {
   "cell_type": "code",
   "execution_count": null,
   "metadata": {
    "id": "RhvmrNAYtVM0",
    "trusted": true
   },
   "outputs": [],
   "source": []
  },
  {
   "cell_type": "code",
   "execution_count": 43,
   "metadata": {
    "colab": {
     "base_uri": "https://localhost:8080/",
     "height": 206
    },
    "execution": {
     "iopub.execute_input": "2025-07-03T15:28:31.448507Z",
     "iopub.status.busy": "2025-07-03T15:28:31.448187Z",
     "iopub.status.idle": "2025-07-03T15:28:31.460796Z",
     "shell.execute_reply": "2025-07-03T15:28:31.459969Z",
     "shell.execute_reply.started": "2025-07-03T15:28:31.448482Z"
    },
    "id": "0n0Ig_yauj3c",
    "outputId": "bf71ace6-def5-4255-cd98-85fedf20b7a3",
    "trusted": true
   },
   "outputs": [
    {
     "data": {
      "text/html": [
       "<div>\n",
       "<style scoped>\n",
       "    .dataframe tbody tr th:only-of-type {\n",
       "        vertical-align: middle;\n",
       "    }\n",
       "\n",
       "    .dataframe tbody tr th {\n",
       "        vertical-align: top;\n",
       "    }\n",
       "\n",
       "    .dataframe thead th {\n",
       "        text-align: right;\n",
       "    }\n",
       "</style>\n",
       "<table border=\"1\" class=\"dataframe\">\n",
       "  <thead>\n",
       "    <tr style=\"text-align: right;\">\n",
       "      <th></th>\n",
       "      <th>event_time</th>\n",
       "      <th>event_type</th>\n",
       "      <th>product_id</th>\n",
       "      <th>category_id</th>\n",
       "      <th>brand</th>\n",
       "      <th>price</th>\n",
       "      <th>user_id</th>\n",
       "      <th>user_session</th>\n",
       "      <th>Purchase_Outcome</th>\n",
       "    </tr>\n",
       "  </thead>\n",
       "  <tbody>\n",
       "    <tr>\n",
       "      <th>0</th>\n",
       "      <td>2019-10-01 00:00:00 UTC</td>\n",
       "      <td>cart</td>\n",
       "      <td>5773203</td>\n",
       "      <td>1487580005134238553</td>\n",
       "      <td>runail</td>\n",
       "      <td>2.62</td>\n",
       "      <td>463240011</td>\n",
       "      <td>26dd6e6e-4dac-4778-8d2c-92e149dab885</td>\n",
       "      <td>0</td>\n",
       "    </tr>\n",
       "    <tr>\n",
       "      <th>1</th>\n",
       "      <td>2019-10-01 00:00:03 UTC</td>\n",
       "      <td>cart</td>\n",
       "      <td>5773353</td>\n",
       "      <td>1487580005134238553</td>\n",
       "      <td>runail</td>\n",
       "      <td>2.62</td>\n",
       "      <td>463240011</td>\n",
       "      <td>26dd6e6e-4dac-4778-8d2c-92e149dab885</td>\n",
       "      <td>0</td>\n",
       "    </tr>\n",
       "    <tr>\n",
       "      <th>2</th>\n",
       "      <td>2019-10-01 00:00:07 UTC</td>\n",
       "      <td>cart</td>\n",
       "      <td>5881589</td>\n",
       "      <td>2151191071051219817</td>\n",
       "      <td>lovely</td>\n",
       "      <td>13.48</td>\n",
       "      <td>429681830</td>\n",
       "      <td>49e8d843-adf3-428b-a2c3-fe8bc6a307c9</td>\n",
       "      <td>0</td>\n",
       "    </tr>\n",
       "    <tr>\n",
       "      <th>3</th>\n",
       "      <td>2019-10-01 00:00:07 UTC</td>\n",
       "      <td>cart</td>\n",
       "      <td>5723490</td>\n",
       "      <td>1487580005134238553</td>\n",
       "      <td>runail</td>\n",
       "      <td>2.62</td>\n",
       "      <td>463240011</td>\n",
       "      <td>26dd6e6e-4dac-4778-8d2c-92e149dab885</td>\n",
       "      <td>0</td>\n",
       "    </tr>\n",
       "    <tr>\n",
       "      <th>4</th>\n",
       "      <td>2019-10-01 00:00:15 UTC</td>\n",
       "      <td>cart</td>\n",
       "      <td>5881449</td>\n",
       "      <td>1487580013522845895</td>\n",
       "      <td>lovely</td>\n",
       "      <td>0.56</td>\n",
       "      <td>429681830</td>\n",
       "      <td>49e8d843-adf3-428b-a2c3-fe8bc6a307c9</td>\n",
       "      <td>0</td>\n",
       "    </tr>\n",
       "  </tbody>\n",
       "</table>\n",
       "</div>"
      ],
      "text/plain": [
       "                event_time event_type  product_id          category_id  \\\n",
       "0  2019-10-01 00:00:00 UTC       cart     5773203  1487580005134238553   \n",
       "1  2019-10-01 00:00:03 UTC       cart     5773353  1487580005134238553   \n",
       "2  2019-10-01 00:00:07 UTC       cart     5881589  2151191071051219817   \n",
       "3  2019-10-01 00:00:07 UTC       cart     5723490  1487580005134238553   \n",
       "4  2019-10-01 00:00:15 UTC       cart     5881449  1487580013522845895   \n",
       "\n",
       "    brand  price    user_id                          user_session  \\\n",
       "0  runail   2.62  463240011  26dd6e6e-4dac-4778-8d2c-92e149dab885   \n",
       "1  runail   2.62  463240011  26dd6e6e-4dac-4778-8d2c-92e149dab885   \n",
       "2  lovely  13.48  429681830  49e8d843-adf3-428b-a2c3-fe8bc6a307c9   \n",
       "3  runail   2.62  463240011  26dd6e6e-4dac-4778-8d2c-92e149dab885   \n",
       "4  lovely   0.56  429681830  49e8d843-adf3-428b-a2c3-fe8bc6a307c9   \n",
       "\n",
       "   Purchase_Outcome  \n",
       "0                 0  \n",
       "1                 0  \n",
       "2                 0  \n",
       "3                 0  \n",
       "4                 0  "
      ]
     },
     "execution_count": 43,
     "metadata": {},
     "output_type": "execute_result"
    }
   ],
   "source": [
    "df.head()"
   ]
  },
  {
   "cell_type": "code",
   "execution_count": 44,
   "metadata": {
    "colab": {
     "base_uri": "https://localhost:8080/",
     "height": 335
    },
    "execution": {
     "iopub.execute_input": "2025-07-03T15:28:32.587971Z",
     "iopub.status.busy": "2025-07-03T15:28:32.587233Z",
     "iopub.status.idle": "2025-07-03T15:28:32.594471Z",
     "shell.execute_reply": "2025-07-03T15:28:32.593704Z",
     "shell.execute_reply.started": "2025-07-03T15:28:32.587822Z"
    },
    "id": "tXbY6IEKuj0A",
    "outputId": "473ca416-867d-4334-9aac-c40c0f5d17e8",
    "trusted": true
   },
   "outputs": [
    {
     "data": {
      "text/plain": [
       "event_time           object\n",
       "event_type           object\n",
       "product_id            int64\n",
       "category_id           int64\n",
       "brand                object\n",
       "price               float64\n",
       "user_id               int64\n",
       "user_session         object\n",
       "Purchase_Outcome      int64\n",
       "dtype: object"
      ]
     },
     "execution_count": 44,
     "metadata": {},
     "output_type": "execute_result"
    }
   ],
   "source": [
    "df.dtypes"
   ]
  },
  {
   "cell_type": "code",
   "execution_count": 45,
   "metadata": {
    "colab": {
     "base_uri": "https://localhost:8080/",
     "height": 335
    },
    "execution": {
     "iopub.execute_input": "2025-07-03T15:28:34.928789Z",
     "iopub.status.busy": "2025-07-03T15:28:34.928471Z",
     "iopub.status.idle": "2025-07-03T15:28:35.851893Z",
     "shell.execute_reply": "2025-07-03T15:28:35.851137Z",
     "shell.execute_reply.started": "2025-07-03T15:28:34.928761Z"
    },
    "id": "2Y7KAsyM5aC6",
    "outputId": "de3b9c7d-6dc0-485b-89f6-474d169a711c",
    "trusted": true
   },
   "outputs": [
    {
     "data": {
      "text/plain": [
       "count    2.068824e+07\n",
       "mean     8.534892e+00\n",
       "std      1.938206e+01\n",
       "min     -7.937000e+01\n",
       "25%      2.060000e+00\n",
       "50%      4.050000e+00\n",
       "75%      7.030000e+00\n",
       "max      3.277800e+02\n",
       "Name: price, dtype: float64"
      ]
     },
     "execution_count": 45,
     "metadata": {},
     "output_type": "execute_result"
    }
   ],
   "source": [
    "df['price'].describe()"
   ]
  },
  {
   "cell_type": "markdown",
   "metadata": {},
   "source": [
    "# Since there is no positive prices for these product_id's, dropping these rows"
   ]
  },
  {
   "cell_type": "code",
   "execution_count": 46,
   "metadata": {
    "execution": {
     "iopub.execute_input": "2025-07-03T15:28:45.454000Z",
     "iopub.status.busy": "2025-07-03T15:28:45.453645Z",
     "iopub.status.idle": "2025-07-03T15:28:48.114915Z",
     "shell.execute_reply": "2025-07-03T15:28:48.113845Z",
     "shell.execute_reply.started": "2025-07-03T15:28:45.453939Z"
    },
    "id": "RSi7xbK56HdA",
    "trusted": true
   },
   "outputs": [],
   "source": [
    "df = df[df['price']>0]"
   ]
  },
  {
   "cell_type": "code",
   "execution_count": 47,
   "metadata": {
    "colab": {
     "base_uri": "https://localhost:8080/",
     "height": 112
    },
    "execution": {
     "iopub.execute_input": "2025-07-03T15:28:48.117222Z",
     "iopub.status.busy": "2025-07-03T15:28:48.116475Z",
     "iopub.status.idle": "2025-07-03T15:30:58.725046Z",
     "shell.execute_reply": "2025-07-03T15:30:58.724146Z",
     "shell.execute_reply.started": "2025-07-03T15:28:48.117186Z"
    },
    "id": "zqQFCQXGujwz",
    "outputId": "e5a2d944-acd3-4ccb-8eb2-6a9e297b40fd",
    "trusted": true
   },
   "outputs": [
    {
     "data": {
      "text/html": [
       "<div>\n",
       "<style scoped>\n",
       "    .dataframe tbody tr th:only-of-type {\n",
       "        vertical-align: middle;\n",
       "    }\n",
       "\n",
       "    .dataframe tbody tr th {\n",
       "        vertical-align: top;\n",
       "    }\n",
       "\n",
       "    .dataframe thead th {\n",
       "        text-align: right;\n",
       "    }\n",
       "</style>\n",
       "<table border=\"1\" class=\"dataframe\">\n",
       "  <thead>\n",
       "    <tr style=\"text-align: right;\">\n",
       "      <th></th>\n",
       "      <th>event_time</th>\n",
       "      <th>event_type</th>\n",
       "      <th>product_id</th>\n",
       "      <th>category_id</th>\n",
       "      <th>brand</th>\n",
       "      <th>price</th>\n",
       "      <th>user_id</th>\n",
       "      <th>user_session</th>\n",
       "      <th>Purchase_Outcome</th>\n",
       "    </tr>\n",
       "  </thead>\n",
       "  <tbody>\n",
       "    <tr>\n",
       "      <th>0</th>\n",
       "      <td>2019-10-01 00:00:00+00:00</td>\n",
       "      <td>cart</td>\n",
       "      <td>5773203</td>\n",
       "      <td>1487580005134238553</td>\n",
       "      <td>runail</td>\n",
       "      <td>2.62</td>\n",
       "      <td>463240011</td>\n",
       "      <td>26dd6e6e-4dac-4778-8d2c-92e149dab885</td>\n",
       "      <td>0</td>\n",
       "    </tr>\n",
       "    <tr>\n",
       "      <th>1</th>\n",
       "      <td>2019-10-01 00:00:03+00:00</td>\n",
       "      <td>cart</td>\n",
       "      <td>5773353</td>\n",
       "      <td>1487580005134238553</td>\n",
       "      <td>runail</td>\n",
       "      <td>2.62</td>\n",
       "      <td>463240011</td>\n",
       "      <td>26dd6e6e-4dac-4778-8d2c-92e149dab885</td>\n",
       "      <td>0</td>\n",
       "    </tr>\n",
       "  </tbody>\n",
       "</table>\n",
       "</div>"
      ],
      "text/plain": [
       "                 event_time event_type  product_id          category_id  \\\n",
       "0 2019-10-01 00:00:00+00:00       cart     5773203  1487580005134238553   \n",
       "1 2019-10-01 00:00:03+00:00       cart     5773353  1487580005134238553   \n",
       "\n",
       "    brand  price    user_id                          user_session  \\\n",
       "0  runail   2.62  463240011  26dd6e6e-4dac-4778-8d2c-92e149dab885   \n",
       "1  runail   2.62  463240011  26dd6e6e-4dac-4778-8d2c-92e149dab885   \n",
       "\n",
       "   Purchase_Outcome  \n",
       "0                 0  \n",
       "1                 0  "
      ]
     },
     "execution_count": 47,
     "metadata": {},
     "output_type": "execute_result"
    }
   ],
   "source": [
    "df['event_time'] = pd.to_datetime(df['event_time'])\n",
    "df.head(2)"
   ]
  },
  {
   "cell_type": "code",
   "execution_count": 69,
   "metadata": {
    "execution": {
     "iopub.execute_input": "2025-07-03T15:52:15.611677Z",
     "iopub.status.busy": "2025-07-03T15:52:15.611271Z",
     "iopub.status.idle": "2025-07-03T15:52:16.109576Z",
     "shell.execute_reply": "2025-07-03T15:52:16.108809Z",
     "shell.execute_reply.started": "2025-07-03T15:52:15.611652Z"
    },
    "trusted": true
   },
   "outputs": [
    {
     "data": {
      "text/html": [
       "<div>\n",
       "<style scoped>\n",
       "    .dataframe tbody tr th:only-of-type {\n",
       "        vertical-align: middle;\n",
       "    }\n",
       "\n",
       "    .dataframe tbody tr th {\n",
       "        vertical-align: top;\n",
       "    }\n",
       "\n",
       "    .dataframe thead th {\n",
       "        text-align: right;\n",
       "    }\n",
       "</style>\n",
       "<table border=\"1\" class=\"dataframe\">\n",
       "  <thead>\n",
       "    <tr style=\"text-align: right;\">\n",
       "      <th></th>\n",
       "      <th>user_id</th>\n",
       "      <th>monetary</th>\n",
       "      <th>avg_purchase_price</th>\n",
       "    </tr>\n",
       "  </thead>\n",
       "  <tbody>\n",
       "    <tr>\n",
       "      <th>0</th>\n",
       "      <td>9794320</td>\n",
       "      <td>12.68</td>\n",
       "      <td>3.170</td>\n",
       "    </tr>\n",
       "    <tr>\n",
       "      <th>1</th>\n",
       "      <td>10079204</td>\n",
       "      <td>25.81</td>\n",
       "      <td>12.905</td>\n",
       "    </tr>\n",
       "  </tbody>\n",
       "</table>\n",
       "</div>"
      ],
      "text/plain": [
       "    user_id  monetary  avg_purchase_price\n",
       "0   9794320     12.68               3.170\n",
       "1  10079204     25.81              12.905"
      ]
     },
     "execution_count": 69,
     "metadata": {},
     "output_type": "execute_result"
    }
   ],
   "source": [
    "purchase_data = df[df['Purchase_Outcome']==1].groupby('user_id').agg({\n",
    "    'price': ['sum','mean']\n",
    "}).reset_index()\n",
    "purchase_data.columns = ['user_id','monetary','avg_purchase_price']\n",
    "purchase_data.head(2)"
   ]
  },
  {
   "cell_type": "code",
   "execution_count": 70,
   "metadata": {
    "execution": {
     "iopub.execute_input": "2025-07-03T15:52:16.862092Z",
     "iopub.status.busy": "2025-07-03T15:52:16.861457Z",
     "iopub.status.idle": "2025-07-03T15:58:12.699173Z",
     "shell.execute_reply": "2025-07-03T15:58:12.698215Z",
     "shell.execute_reply.started": "2025-07-03T15:52:16.862064Z"
    },
    "id": "pxq7jTnWujuE",
    "trusted": true
   },
   "outputs": [],
   "source": [
    "user_agg = df.groupby('user_id').agg({\n",
    "    'event_type': lambda x: x.value_counts().to_dict(),\n",
    "    'price': ['sum', 'mean'],\n",
    "    'user_session': 'nunique',\n",
    "    'event_time': ['min','max'],\n",
    "    'Purchase_Outcome': 'sum',\n",
    "    'category_id': 'nunique'\n",
    "}).reset_index()"
   ]
  },
  {
   "cell_type": "code",
   "execution_count": 71,
   "metadata": {
    "colab": {
     "base_uri": "https://localhost:8080/",
     "height": 143
    },
    "execution": {
     "iopub.execute_input": "2025-07-03T15:58:12.700846Z",
     "iopub.status.busy": "2025-07-03T15:58:12.700520Z",
     "iopub.status.idle": "2025-07-03T15:58:12.715816Z",
     "shell.execute_reply": "2025-07-03T15:58:12.715020Z",
     "shell.execute_reply.started": "2025-07-03T15:58:12.700821Z"
    },
    "id": "qnRuhDLPujrD",
    "outputId": "214654a9-22c9-4a20-f819-123d6db689d2",
    "trusted": true
   },
   "outputs": [
    {
     "data": {
      "text/html": [
       "<div>\n",
       "<style scoped>\n",
       "    .dataframe tbody tr th:only-of-type {\n",
       "        vertical-align: middle;\n",
       "    }\n",
       "\n",
       "    .dataframe tbody tr th {\n",
       "        vertical-align: top;\n",
       "    }\n",
       "\n",
       "    .dataframe thead tr th {\n",
       "        text-align: left;\n",
       "    }\n",
       "</style>\n",
       "<table border=\"1\" class=\"dataframe\">\n",
       "  <thead>\n",
       "    <tr>\n",
       "      <th></th>\n",
       "      <th>user_id</th>\n",
       "      <th>event_type</th>\n",
       "      <th colspan=\"2\" halign=\"left\">price</th>\n",
       "      <th>user_session</th>\n",
       "      <th colspan=\"2\" halign=\"left\">event_time</th>\n",
       "      <th>Purchase_Outcome</th>\n",
       "      <th>category_id</th>\n",
       "    </tr>\n",
       "    <tr>\n",
       "      <th></th>\n",
       "      <th></th>\n",
       "      <th>&lt;lambda&gt;</th>\n",
       "      <th>sum</th>\n",
       "      <th>mean</th>\n",
       "      <th>nunique</th>\n",
       "      <th>min</th>\n",
       "      <th>max</th>\n",
       "      <th>sum</th>\n",
       "      <th>nunique</th>\n",
       "    </tr>\n",
       "  </thead>\n",
       "  <tbody>\n",
       "    <tr>\n",
       "      <th>0</th>\n",
       "      <td>465496</td>\n",
       "      <td>{'view': 3}</td>\n",
       "      <td>30.00</td>\n",
       "      <td>10.00</td>\n",
       "      <td>2</td>\n",
       "      <td>2020-01-14 16:15:21+00:00</td>\n",
       "      <td>2020-01-14 16:27:31+00:00</td>\n",
       "      <td>0</td>\n",
       "      <td>1</td>\n",
       "    </tr>\n",
       "    <tr>\n",
       "      <th>1</th>\n",
       "      <td>1120748</td>\n",
       "      <td>{'view': 1}</td>\n",
       "      <td>4.05</td>\n",
       "      <td>4.05</td>\n",
       "      <td>1</td>\n",
       "      <td>2019-11-04 15:28:57+00:00</td>\n",
       "      <td>2019-11-04 15:28:57+00:00</td>\n",
       "      <td>0</td>\n",
       "      <td>1</td>\n",
       "    </tr>\n",
       "  </tbody>\n",
       "</table>\n",
       "</div>"
      ],
      "text/plain": [
       "   user_id   event_type  price        user_session                event_time  \\\n",
       "               <lambda>    sum   mean      nunique                       min   \n",
       "0   465496  {'view': 3}  30.00  10.00            2 2020-01-14 16:15:21+00:00   \n",
       "1  1120748  {'view': 1}   4.05   4.05            1 2019-11-04 15:28:57+00:00   \n",
       "\n",
       "                            Purchase_Outcome category_id  \n",
       "                        max              sum     nunique  \n",
       "0 2020-01-14 16:27:31+00:00                0           1  \n",
       "1 2019-11-04 15:28:57+00:00                0           1  "
      ]
     },
     "execution_count": 71,
     "metadata": {},
     "output_type": "execute_result"
    }
   ],
   "source": [
    "user_agg.head(2)"
   ]
  },
  {
   "cell_type": "code",
   "execution_count": 72,
   "metadata": {
    "colab": {
     "base_uri": "https://localhost:8080/",
     "height": 112
    },
    "execution": {
     "iopub.execute_input": "2025-07-03T15:58:12.717194Z",
     "iopub.status.busy": "2025-07-03T15:58:12.716826Z",
     "iopub.status.idle": "2025-07-03T15:58:12.744520Z",
     "shell.execute_reply": "2025-07-03T15:58:12.743728Z",
     "shell.execute_reply.started": "2025-07-03T15:58:12.717170Z"
    },
    "id": "RGc_UGzBujoM",
    "outputId": "ffd2e890-a9d8-4e30-e5a9-00b1946624cb",
    "trusted": true
   },
   "outputs": [
    {
     "data": {
      "text/html": [
       "<div>\n",
       "<style scoped>\n",
       "    .dataframe tbody tr th:only-of-type {\n",
       "        vertical-align: middle;\n",
       "    }\n",
       "\n",
       "    .dataframe tbody tr th {\n",
       "        vertical-align: top;\n",
       "    }\n",
       "\n",
       "    .dataframe thead th {\n",
       "        text-align: right;\n",
       "    }\n",
       "</style>\n",
       "<table border=\"1\" class=\"dataframe\">\n",
       "  <thead>\n",
       "    <tr style=\"text-align: right;\">\n",
       "      <th></th>\n",
       "      <th>user_id</th>\n",
       "      <th>event_counts</th>\n",
       "      <th>total_interaction_price</th>\n",
       "      <th>avg_interaction_price</th>\n",
       "      <th>session_count</th>\n",
       "      <th>first_event</th>\n",
       "      <th>last_event</th>\n",
       "      <th>purchase_count</th>\n",
       "      <th>category_diversity</th>\n",
       "    </tr>\n",
       "  </thead>\n",
       "  <tbody>\n",
       "    <tr>\n",
       "      <th>0</th>\n",
       "      <td>465496</td>\n",
       "      <td>{'view': 3}</td>\n",
       "      <td>30.00</td>\n",
       "      <td>10.00</td>\n",
       "      <td>2</td>\n",
       "      <td>2020-01-14 16:15:21+00:00</td>\n",
       "      <td>2020-01-14 16:27:31+00:00</td>\n",
       "      <td>0</td>\n",
       "      <td>1</td>\n",
       "    </tr>\n",
       "    <tr>\n",
       "      <th>1</th>\n",
       "      <td>1120748</td>\n",
       "      <td>{'view': 1}</td>\n",
       "      <td>4.05</td>\n",
       "      <td>4.05</td>\n",
       "      <td>1</td>\n",
       "      <td>2019-11-04 15:28:57+00:00</td>\n",
       "      <td>2019-11-04 15:28:57+00:00</td>\n",
       "      <td>0</td>\n",
       "      <td>1</td>\n",
       "    </tr>\n",
       "  </tbody>\n",
       "</table>\n",
       "</div>"
      ],
      "text/plain": [
       "   user_id event_counts  total_interaction_price  avg_interaction_price  \\\n",
       "0   465496  {'view': 3}                    30.00                  10.00   \n",
       "1  1120748  {'view': 1}                     4.05                   4.05   \n",
       "\n",
       "   session_count               first_event                last_event  \\\n",
       "0              2 2020-01-14 16:15:21+00:00 2020-01-14 16:27:31+00:00   \n",
       "1              1 2019-11-04 15:28:57+00:00 2019-11-04 15:28:57+00:00   \n",
       "\n",
       "   purchase_count  category_diversity  \n",
       "0               0                   1  \n",
       "1               0                   1  "
      ]
     },
     "execution_count": 72,
     "metadata": {},
     "output_type": "execute_result"
    }
   ],
   "source": [
    "user_agg.columns = ['user_id', 'event_counts', 'total_interaction_price', 'avg_interaction_price',\n",
    "                    'session_count',' first_event','last_event','purchase_count','category_diversity']\n",
    "user_agg.head(2)"
   ]
  },
  {
   "cell_type": "code",
   "execution_count": 73,
   "metadata": {
    "execution": {
     "iopub.execute_input": "2025-07-03T15:58:12.746614Z",
     "iopub.status.busy": "2025-07-03T15:58:12.746353Z",
     "iopub.status.idle": "2025-07-03T15:58:12.906774Z",
     "shell.execute_reply": "2025-07-03T15:58:12.906003Z",
     "shell.execute_reply.started": "2025-07-03T15:58:12.746593Z"
    },
    "trusted": true
   },
   "outputs": [],
   "source": [
    "user_agg = pd.merge(user_agg,purchase_data, on = 'user_id', how = 'left')"
   ]
  },
  {
   "cell_type": "code",
   "execution_count": 54,
   "metadata": {
    "execution": {
     "iopub.execute_input": "2025-07-03T14:56:11.307869Z",
     "iopub.status.busy": "2025-07-03T14:56:11.306797Z",
     "iopub.status.idle": "2025-07-03T14:56:11.322554Z",
     "shell.execute_reply": "2025-07-03T14:56:11.321498Z",
     "shell.execute_reply.started": "2025-07-03T14:56:11.307841Z"
    },
    "trusted": true
   },
   "outputs": [
    {
     "name": "stderr",
     "output_type": "stream",
     "text": [
      "/usr/local/lib/python3.11/dist-packages/pandas/io/formats/format.py:1458: RuntimeWarning:\n",
      "\n",
      "invalid value encountered in greater\n",
      "\n",
      "/usr/local/lib/python3.11/dist-packages/pandas/io/formats/format.py:1459: RuntimeWarning:\n",
      "\n",
      "invalid value encountered in less\n",
      "\n",
      "/usr/local/lib/python3.11/dist-packages/pandas/io/formats/format.py:1459: RuntimeWarning:\n",
      "\n",
      "invalid value encountered in greater\n",
      "\n",
      "/usr/local/lib/python3.11/dist-packages/pandas/io/formats/format.py:1458: RuntimeWarning:\n",
      "\n",
      "invalid value encountered in greater\n",
      "\n",
      "/usr/local/lib/python3.11/dist-packages/pandas/io/formats/format.py:1459: RuntimeWarning:\n",
      "\n",
      "invalid value encountered in less\n",
      "\n",
      "/usr/local/lib/python3.11/dist-packages/pandas/io/formats/format.py:1459: RuntimeWarning:\n",
      "\n",
      "invalid value encountered in greater\n",
      "\n"
     ]
    },
    {
     "data": {
      "text/html": [
       "<div>\n",
       "<style scoped>\n",
       "    .dataframe tbody tr th:only-of-type {\n",
       "        vertical-align: middle;\n",
       "    }\n",
       "\n",
       "    .dataframe tbody tr th {\n",
       "        vertical-align: top;\n",
       "    }\n",
       "\n",
       "    .dataframe thead th {\n",
       "        text-align: right;\n",
       "    }\n",
       "</style>\n",
       "<table border=\"1\" class=\"dataframe\">\n",
       "  <thead>\n",
       "    <tr style=\"text-align: right;\">\n",
       "      <th></th>\n",
       "      <th>user_id</th>\n",
       "      <th>event_counts</th>\n",
       "      <th>total_interaction_price</th>\n",
       "      <th>avg_interaction_price</th>\n",
       "      <th>session_count</th>\n",
       "      <th>first_event</th>\n",
       "      <th>last_event</th>\n",
       "      <th>purchase_count</th>\n",
       "      <th>category_diversity</th>\n",
       "      <th>monetary</th>\n",
       "      <th>avg_purchase_price</th>\n",
       "    </tr>\n",
       "  </thead>\n",
       "  <tbody>\n",
       "    <tr>\n",
       "      <th>0</th>\n",
       "      <td>465496</td>\n",
       "      <td>{'view': 3}</td>\n",
       "      <td>30.00</td>\n",
       "      <td>10.00</td>\n",
       "      <td>2</td>\n",
       "      <td>2020-01-14 16:15:21+00:00</td>\n",
       "      <td>2020-01-14 16:27:31+00:00</td>\n",
       "      <td>0</td>\n",
       "      <td>1</td>\n",
       "      <td>NaN</td>\n",
       "      <td>NaN</td>\n",
       "    </tr>\n",
       "    <tr>\n",
       "      <th>1</th>\n",
       "      <td>1120748</td>\n",
       "      <td>{'view': 1}</td>\n",
       "      <td>4.05</td>\n",
       "      <td>4.05</td>\n",
       "      <td>1</td>\n",
       "      <td>2019-11-04 15:28:57+00:00</td>\n",
       "      <td>2019-11-04 15:28:57+00:00</td>\n",
       "      <td>0</td>\n",
       "      <td>1</td>\n",
       "      <td>NaN</td>\n",
       "      <td>NaN</td>\n",
       "    </tr>\n",
       "  </tbody>\n",
       "</table>\n",
       "</div>"
      ],
      "text/plain": [
       "   user_id event_counts  total_interaction_price  avg_interaction_price  \\\n",
       "0   465496  {'view': 3}                    30.00                  10.00   \n",
       "1  1120748  {'view': 1}                     4.05                   4.05   \n",
       "\n",
       "   session_count               first_event                last_event  \\\n",
       "0              2 2020-01-14 16:15:21+00:00 2020-01-14 16:27:31+00:00   \n",
       "1              1 2019-11-04 15:28:57+00:00 2019-11-04 15:28:57+00:00   \n",
       "\n",
       "   purchase_count  category_diversity  monetary  avg_purchase_price  \n",
       "0               0                   1       NaN                 NaN  \n",
       "1               0                   1       NaN                 NaN  "
      ]
     },
     "execution_count": 54,
     "metadata": {},
     "output_type": "execute_result"
    }
   ],
   "source": [
    "user_agg.head(2)"
   ]
  },
  {
   "cell_type": "code",
   "execution_count": 55,
   "metadata": {
    "execution": {
     "iopub.execute_input": "2025-07-03T14:56:15.199431Z",
     "iopub.status.busy": "2025-07-03T14:56:15.199014Z",
     "iopub.status.idle": "2025-07-03T14:56:15.950687Z",
     "shell.execute_reply": "2025-07-03T14:56:15.949718Z",
     "shell.execute_reply.started": "2025-07-03T14:56:15.199405Z"
    },
    "trusted": true
   },
   "outputs": [
    {
     "data": {
      "text/plain": [
       "event_counts\n",
       "0    1527252\n",
       "Name: count, dtype: int64"
      ]
     },
     "execution_count": 55,
     "metadata": {},
     "output_type": "execute_result"
    }
   ],
   "source": [
    "user_agg[user_agg['monetary'].isna()]['event_counts'].apply(lambda x: x.get(\"purchase\",0)).value_counts()"
   ]
  },
  {
   "cell_type": "code",
   "execution_count": 56,
   "metadata": {
    "execution": {
     "iopub.execute_input": "2025-07-03T14:56:17.520324Z",
     "iopub.status.busy": "2025-07-03T14:56:17.519930Z",
     "iopub.status.idle": "2025-07-03T14:56:18.284571Z",
     "shell.execute_reply": "2025-07-03T14:56:18.283452Z",
     "shell.execute_reply.started": "2025-07-03T14:56:17.520295Z"
    },
    "trusted": true
   },
   "outputs": [
    {
     "data": {
      "text/plain": [
       "event_counts\n",
       "0    1527252\n",
       "Name: count, dtype: int64"
      ]
     },
     "execution_count": 56,
     "metadata": {},
     "output_type": "execute_result"
    }
   ],
   "source": [
    "user_agg[user_agg['avg_purchase_price'].isna()]['event_counts'].apply(lambda x: x.get(\"purchase\",0)).value_counts()"
   ]
  },
  {
   "cell_type": "code",
   "execution_count": 74,
   "metadata": {
    "execution": {
     "iopub.execute_input": "2025-07-03T15:58:12.907667Z",
     "iopub.status.busy": "2025-07-03T15:58:12.907463Z",
     "iopub.status.idle": "2025-07-03T15:58:12.942396Z",
     "shell.execute_reply": "2025-07-03T15:58:12.941521Z",
     "shell.execute_reply.started": "2025-07-03T15:58:12.907649Z"
    },
    "trusted": true
   },
   "outputs": [],
   "source": [
    "user_agg['monetary'] = user_agg['monetary'].fillna(0)\n",
    "user_agg['avg_purchase_price'] = user_agg['avg_purchase_price'].fillna(0)"
   ]
  },
  {
   "cell_type": "code",
   "execution_count": 75,
   "metadata": {
    "execution": {
     "iopub.execute_input": "2025-07-03T15:58:12.943472Z",
     "iopub.status.busy": "2025-07-03T15:58:12.943222Z",
     "iopub.status.idle": "2025-07-03T15:58:13.074479Z",
     "shell.execute_reply": "2025-07-03T15:58:13.073684Z",
     "shell.execute_reply.started": "2025-07-03T15:58:12.943451Z"
    },
    "trusted": true
   },
   "outputs": [
    {
     "data": {
      "text/plain": [
       "user_id                    0\n",
       "event_counts               0\n",
       "total_interaction_price    0\n",
       "avg_interaction_price      0\n",
       "session_count              0\n",
       " first_event               0\n",
       "last_event                 0\n",
       "purchase_count             0\n",
       "category_diversity         0\n",
       "monetary                   0\n",
       "avg_purchase_price         0\n",
       "dtype: int64"
      ]
     },
     "execution_count": 75,
     "metadata": {},
     "output_type": "execute_result"
    }
   ],
   "source": [
    "user_agg.isna().sum()"
   ]
  },
  {
   "cell_type": "code",
   "execution_count": 76,
   "metadata": {
    "colab": {
     "base_uri": "https://localhost:8080/"
    },
    "execution": {
     "iopub.execute_input": "2025-07-03T15:58:13.075747Z",
     "iopub.status.busy": "2025-07-03T15:58:13.075388Z",
     "iopub.status.idle": "2025-07-03T15:58:13.137298Z",
     "shell.execute_reply": "2025-07-03T15:58:13.136547Z",
     "shell.execute_reply.started": "2025-07-03T15:58:13.075723Z"
    },
    "id": "8EQ_V7pbujk8",
    "outputId": "273f9b58-b000-4d9a-97f8-18ede726870c",
    "trusted": true
   },
   "outputs": [
    {
     "data": {
      "text/plain": [
       "Timestamp('2020-02-29 23:59:59+0000', tz='UTC')"
      ]
     },
     "execution_count": 76,
     "metadata": {},
     "output_type": "execute_result"
    }
   ],
   "source": [
    "reference_date = df['event_time'].max()\n",
    "reference_date"
   ]
  },
  {
   "cell_type": "code",
   "execution_count": 77,
   "metadata": {
    "execution": {
     "iopub.execute_input": "2025-07-03T15:58:13.138313Z",
     "iopub.status.busy": "2025-07-03T15:58:13.138073Z",
     "iopub.status.idle": "2025-07-03T15:58:16.067055Z",
     "shell.execute_reply": "2025-07-03T15:58:16.066289Z",
     "shell.execute_reply.started": "2025-07-03T15:58:13.138291Z"
    },
    "id": "efdR3APnujh-",
    "trusted": true
   },
   "outputs": [],
   "source": [
    "# Feature Engeneering\n",
    "\n",
    "## RFM Features\n",
    "reference_date = df['event_time'].max()\n",
    "user_agg['recency'] =( reference_date-user_agg['last_event']).dt.days\n",
    "user_agg['frequency'] = user_agg['session_count']\n",
    "\n",
    "## Behavioral Features\n",
    "user_agg['view_count'] = user_agg['event_counts'].apply(lambda x: x.get('view',0))\n",
    "user_agg['remove_count'] = user_agg['event_counts'].apply(lambda x: x.get('remove_from_cart',0))\n",
    "user_agg['cart_count'] = user_agg['event_counts'].apply(lambda x: x.get('cart',0))\n",
    "user_agg['purchase_event_count'] = user_agg['event_counts'].apply(lambda x: x.get('purchase',0))\n",
    "user_agg['total_events']  = user_agg['view_count'] + user_agg['remove_count'] + user_agg['cart_count'] + user_agg['purchase_event_count']\n",
    "user_agg['conversion_rate'] = user_agg['purchase_count']/user_agg['total_events']\n",
    "user_agg['cart_abandonment_rate'] = user_agg['remove_count']/(user_agg['cart_count']+1e-6)\n"
   ]
  },
  {
   "cell_type": "code",
   "execution_count": 78,
   "metadata": {
    "colab": {
     "base_uri": "https://localhost:8080/",
     "height": 143
    },
    "execution": {
     "iopub.execute_input": "2025-07-03T15:58:16.068042Z",
     "iopub.status.busy": "2025-07-03T15:58:16.067764Z",
     "iopub.status.idle": "2025-07-03T15:58:46.963093Z",
     "shell.execute_reply": "2025-07-03T15:58:46.962043Z",
     "shell.execute_reply.started": "2025-07-03T15:58:16.068017Z"
    },
    "id": "u_uIClRAujbo",
    "outputId": "783ec7af-c394-4524-971a-20f0d1bdeb23",
    "trusted": true
   },
   "outputs": [
    {
     "data": {
      "text/html": [
       "<div>\n",
       "<style scoped>\n",
       "    .dataframe tbody tr th:only-of-type {\n",
       "        vertical-align: middle;\n",
       "    }\n",
       "\n",
       "    .dataframe tbody tr th {\n",
       "        vertical-align: top;\n",
       "    }\n",
       "\n",
       "    .dataframe thead tr th {\n",
       "        text-align: left;\n",
       "    }\n",
       "</style>\n",
       "<table border=\"1\" class=\"dataframe\">\n",
       "  <thead>\n",
       "    <tr>\n",
       "      <th></th>\n",
       "      <th>user_id</th>\n",
       "      <th>user_session</th>\n",
       "      <th colspan=\"2\" halign=\"left\">event_time</th>\n",
       "      <th>event_type</th>\n",
       "    </tr>\n",
       "    <tr>\n",
       "      <th></th>\n",
       "      <th></th>\n",
       "      <th></th>\n",
       "      <th>min</th>\n",
       "      <th>max</th>\n",
       "      <th>count</th>\n",
       "    </tr>\n",
       "  </thead>\n",
       "  <tbody>\n",
       "    <tr>\n",
       "      <th>0</th>\n",
       "      <td>465496</td>\n",
       "      <td>8ad668e6-9567-4da9-b43b-250f12ecab5b</td>\n",
       "      <td>2020-01-14 16:15:21+00:00</td>\n",
       "      <td>2020-01-14 16:15:21+00:00</td>\n",
       "      <td>1</td>\n",
       "    </tr>\n",
       "    <tr>\n",
       "      <th>1</th>\n",
       "      <td>465496</td>\n",
       "      <td>d4b9b57f-237c-4427-80e1-b0073b0b0b6c</td>\n",
       "      <td>2020-01-14 16:25:35+00:00</td>\n",
       "      <td>2020-01-14 16:27:31+00:00</td>\n",
       "      <td>2</td>\n",
       "    </tr>\n",
       "  </tbody>\n",
       "</table>\n",
       "</div>"
      ],
      "text/plain": [
       "  user_id                          user_session                event_time  \\\n",
       "                                                                      min   \n",
       "0  465496  8ad668e6-9567-4da9-b43b-250f12ecab5b 2020-01-14 16:15:21+00:00   \n",
       "1  465496  d4b9b57f-237c-4427-80e1-b0073b0b0b6c 2020-01-14 16:25:35+00:00   \n",
       "\n",
       "                            event_type  \n",
       "                        max      count  \n",
       "0 2020-01-14 16:15:21+00:00          1  \n",
       "1 2020-01-14 16:27:31+00:00          2  "
      ]
     },
     "execution_count": 78,
     "metadata": {},
     "output_type": "execute_result"
    }
   ],
   "source": [
    "## Session based aggregation\n",
    "\n",
    "session_agg = df.groupby(['user_id','user_session']).agg({\n",
    "    'event_time': ['min','max'],\n",
    "    'event_type':'count'\n",
    "}).reset_index()\n",
    "\n",
    "\n",
    "session_agg.head(2)"
   ]
  },
  {
   "cell_type": "code",
   "execution_count": 79,
   "metadata": {
    "colab": {
     "base_uri": "https://localhost:8080/"
    },
    "execution": {
     "iopub.execute_input": "2025-07-03T15:58:46.967314Z",
     "iopub.status.busy": "2025-07-03T15:58:46.967027Z",
     "iopub.status.idle": "2025-07-03T15:58:46.973444Z",
     "shell.execute_reply": "2025-07-03T15:58:46.972581Z",
     "shell.execute_reply.started": "2025-07-03T15:58:46.967289Z"
    },
    "id": "M6DZQLLLujYn",
    "outputId": "20198a38-2469-44ee-b554-c029fef4f10b",
    "trusted": true
   },
   "outputs": [
    {
     "data": {
      "text/plain": [
       "MultiIndex([(     'user_id',      ''),\n",
       "            ('user_session',      ''),\n",
       "            (  'event_time',   'min'),\n",
       "            (  'event_time',   'max'),\n",
       "            (  'event_type', 'count')],\n",
       "           )"
      ]
     },
     "execution_count": 79,
     "metadata": {},
     "output_type": "execute_result"
    }
   ],
   "source": [
    "session_agg.columns"
   ]
  },
  {
   "cell_type": "code",
   "execution_count": 80,
   "metadata": {
    "colab": {
     "base_uri": "https://localhost:8080/",
     "height": 143
    },
    "execution": {
     "iopub.execute_input": "2025-07-03T15:58:46.974685Z",
     "iopub.status.busy": "2025-07-03T15:58:46.974357Z",
     "iopub.status.idle": "2025-07-03T15:58:47.178336Z",
     "shell.execute_reply": "2025-07-03T15:58:47.177438Z",
     "shell.execute_reply.started": "2025-07-03T15:58:46.974663Z"
    },
    "id": "8B3iCxPXujVx",
    "outputId": "dd40a5d2-8b42-45a8-ee86-997532c40c9c",
    "trusted": true
   },
   "outputs": [
    {
     "data": {
      "text/html": [
       "<div>\n",
       "<style scoped>\n",
       "    .dataframe tbody tr th:only-of-type {\n",
       "        vertical-align: middle;\n",
       "    }\n",
       "\n",
       "    .dataframe tbody tr th {\n",
       "        vertical-align: top;\n",
       "    }\n",
       "\n",
       "    .dataframe thead tr th {\n",
       "        text-align: left;\n",
       "    }\n",
       "</style>\n",
       "<table border=\"1\" class=\"dataframe\">\n",
       "  <thead>\n",
       "    <tr>\n",
       "      <th></th>\n",
       "      <th>user_id</th>\n",
       "      <th>user_session</th>\n",
       "      <th colspan=\"2\" halign=\"left\">event_time</th>\n",
       "      <th>event_type</th>\n",
       "      <th>duration</th>\n",
       "    </tr>\n",
       "    <tr>\n",
       "      <th></th>\n",
       "      <th></th>\n",
       "      <th></th>\n",
       "      <th>min</th>\n",
       "      <th>max</th>\n",
       "      <th>count</th>\n",
       "      <th></th>\n",
       "    </tr>\n",
       "  </thead>\n",
       "  <tbody>\n",
       "    <tr>\n",
       "      <th>0</th>\n",
       "      <td>465496</td>\n",
       "      <td>8ad668e6-9567-4da9-b43b-250f12ecab5b</td>\n",
       "      <td>2020-01-14 16:15:21+00:00</td>\n",
       "      <td>2020-01-14 16:15:21+00:00</td>\n",
       "      <td>1</td>\n",
       "      <td>0</td>\n",
       "    </tr>\n",
       "    <tr>\n",
       "      <th>1</th>\n",
       "      <td>465496</td>\n",
       "      <td>d4b9b57f-237c-4427-80e1-b0073b0b0b6c</td>\n",
       "      <td>2020-01-14 16:25:35+00:00</td>\n",
       "      <td>2020-01-14 16:27:31+00:00</td>\n",
       "      <td>2</td>\n",
       "      <td>116</td>\n",
       "    </tr>\n",
       "  </tbody>\n",
       "</table>\n",
       "</div>"
      ],
      "text/plain": [
       "  user_id                          user_session                event_time  \\\n",
       "                                                                      min   \n",
       "0  465496  8ad668e6-9567-4da9-b43b-250f12ecab5b 2020-01-14 16:15:21+00:00   \n",
       "1  465496  d4b9b57f-237c-4427-80e1-b0073b0b0b6c 2020-01-14 16:25:35+00:00   \n",
       "\n",
       "                            event_type duration  \n",
       "                        max      count           \n",
       "0 2020-01-14 16:15:21+00:00          1        0  \n",
       "1 2020-01-14 16:27:31+00:00          2      116  "
      ]
     },
     "execution_count": 80,
     "metadata": {},
     "output_type": "execute_result"
    }
   ],
   "source": [
    "session_agg['duration'] = (session_agg['event_time']['max']-session_agg['event_time']['min']).dt.seconds\n",
    "session_agg.head(2)"
   ]
  },
  {
   "cell_type": "code",
   "execution_count": 81,
   "metadata": {
    "colab": {
     "base_uri": "https://localhost:8080/"
    },
    "execution": {
     "iopub.execute_input": "2025-07-03T15:58:47.179661Z",
     "iopub.status.busy": "2025-07-03T15:58:47.179350Z",
     "iopub.status.idle": "2025-07-03T15:58:47.185421Z",
     "shell.execute_reply": "2025-07-03T15:58:47.184437Z",
     "shell.execute_reply.started": "2025-07-03T15:58:47.179629Z"
    },
    "id": "2FC-weBUujS3",
    "outputId": "fcf50928-dbf4-429a-f70d-075077f62ce5",
    "trusted": true
   },
   "outputs": [
    {
     "data": {
      "text/plain": [
       "MultiIndex([(     'user_id',      ''),\n",
       "            ('user_session',      ''),\n",
       "            (  'event_time',   'min'),\n",
       "            (  'event_time',   'max'),\n",
       "            (  'event_type', 'count'),\n",
       "            (    'duration',      '')],\n",
       "           )"
      ]
     },
     "execution_count": 81,
     "metadata": {},
     "output_type": "execute_result"
    }
   ],
   "source": [
    "session_agg.columns"
   ]
  },
  {
   "cell_type": "code",
   "execution_count": 82,
   "metadata": {
    "colab": {
     "base_uri": "https://localhost:8080/",
     "height": 112
    },
    "execution": {
     "iopub.execute_input": "2025-07-03T15:58:47.186697Z",
     "iopub.status.busy": "2025-07-03T15:58:47.186388Z",
     "iopub.status.idle": "2025-07-03T15:58:47.214687Z",
     "shell.execute_reply": "2025-07-03T15:58:47.213838Z",
     "shell.execute_reply.started": "2025-07-03T15:58:47.186665Z"
    },
    "id": "i5olat3DujP2",
    "outputId": "012a9d37-3f40-4d3b-fad3-b48c38350e7b",
    "trusted": true
   },
   "outputs": [
    {
     "data": {
      "text/html": [
       "<div>\n",
       "<style scoped>\n",
       "    .dataframe tbody tr th:only-of-type {\n",
       "        vertical-align: middle;\n",
       "    }\n",
       "\n",
       "    .dataframe tbody tr th {\n",
       "        vertical-align: top;\n",
       "    }\n",
       "\n",
       "    .dataframe thead th {\n",
       "        text-align: right;\n",
       "    }\n",
       "</style>\n",
       "<table border=\"1\" class=\"dataframe\">\n",
       "  <thead>\n",
       "    <tr style=\"text-align: right;\">\n",
       "      <th></th>\n",
       "      <th>user_id</th>\n",
       "      <th>user_session</th>\n",
       "      <th>event_time_min</th>\n",
       "      <th>event_time_max</th>\n",
       "      <th>event_type</th>\n",
       "      <th>duration</th>\n",
       "    </tr>\n",
       "  </thead>\n",
       "  <tbody>\n",
       "    <tr>\n",
       "      <th>0</th>\n",
       "      <td>465496</td>\n",
       "      <td>8ad668e6-9567-4da9-b43b-250f12ecab5b</td>\n",
       "      <td>2020-01-14 16:15:21+00:00</td>\n",
       "      <td>2020-01-14 16:15:21+00:00</td>\n",
       "      <td>1</td>\n",
       "      <td>0</td>\n",
       "    </tr>\n",
       "    <tr>\n",
       "      <th>1</th>\n",
       "      <td>465496</td>\n",
       "      <td>d4b9b57f-237c-4427-80e1-b0073b0b0b6c</td>\n",
       "      <td>2020-01-14 16:25:35+00:00</td>\n",
       "      <td>2020-01-14 16:27:31+00:00</td>\n",
       "      <td>2</td>\n",
       "      <td>116</td>\n",
       "    </tr>\n",
       "  </tbody>\n",
       "</table>\n",
       "</div>"
      ],
      "text/plain": [
       "   user_id                          user_session            event_time_min  \\\n",
       "0   465496  8ad668e6-9567-4da9-b43b-250f12ecab5b 2020-01-14 16:15:21+00:00   \n",
       "1   465496  d4b9b57f-237c-4427-80e1-b0073b0b0b6c 2020-01-14 16:25:35+00:00   \n",
       "\n",
       "             event_time_max  event_type  duration  \n",
       "0 2020-01-14 16:15:21+00:00           1         0  \n",
       "1 2020-01-14 16:27:31+00:00           2       116  "
      ]
     },
     "execution_count": 82,
     "metadata": {},
     "output_type": "execute_result"
    }
   ],
   "source": [
    "session_agg.columns = ['user_id', 'user_session', 'event_time_min', 'event_time_max', 'event_type', 'duration']\n",
    "session_agg.head(2)"
   ]
  },
  {
   "cell_type": "code",
   "execution_count": 83,
   "metadata": {
    "colab": {
     "base_uri": "https://localhost:8080/",
     "height": 211
    },
    "execution": {
     "iopub.execute_input": "2025-07-03T15:58:47.215987Z",
     "iopub.status.busy": "2025-07-03T15:58:47.215671Z",
     "iopub.status.idle": "2025-07-03T15:58:47.916968Z",
     "shell.execute_reply": "2025-07-03T15:58:47.916151Z",
     "shell.execute_reply.started": "2025-07-03T15:58:47.215936Z"
    },
    "id": "p_VKfARSujMp",
    "outputId": "51a26270-2481-4c94-b824-7fac87b42176",
    "trusted": true
   },
   "outputs": [
    {
     "data": {
      "text/html": [
       "<div>\n",
       "<style scoped>\n",
       "    .dataframe tbody tr th:only-of-type {\n",
       "        vertical-align: middle;\n",
       "    }\n",
       "\n",
       "    .dataframe tbody tr th {\n",
       "        vertical-align: top;\n",
       "    }\n",
       "\n",
       "    .dataframe thead th {\n",
       "        text-align: right;\n",
       "    }\n",
       "</style>\n",
       "<table border=\"1\" class=\"dataframe\">\n",
       "  <thead>\n",
       "    <tr style=\"text-align: right;\">\n",
       "      <th></th>\n",
       "      <th>user_id</th>\n",
       "      <th>avg_session_duration</th>\n",
       "      <th>avg_events_per_session</th>\n",
       "    </tr>\n",
       "  </thead>\n",
       "  <tbody>\n",
       "    <tr>\n",
       "      <th>0</th>\n",
       "      <td>465496</td>\n",
       "      <td>58.0</td>\n",
       "      <td>1.5</td>\n",
       "    </tr>\n",
       "    <tr>\n",
       "      <th>1</th>\n",
       "      <td>1120748</td>\n",
       "      <td>0.0</td>\n",
       "      <td>1.0</td>\n",
       "    </tr>\n",
       "  </tbody>\n",
       "</table>\n",
       "</div>"
      ],
      "text/plain": [
       "   user_id  avg_session_duration  avg_events_per_session\n",
       "0   465496                  58.0                     1.5\n",
       "1  1120748                   0.0                     1.0"
      ]
     },
     "execution_count": 83,
     "metadata": {},
     "output_type": "execute_result"
    }
   ],
   "source": [
    "session_summary = session_agg.groupby('user_id').agg({\n",
    "    'duration': 'mean',\n",
    "    'event_type': 'mean'\n",
    "}).reset_index()\n",
    "\n",
    "session_summary.columns = ['user_id','avg_session_duration','avg_events_per_session']\n",
    "session_summary.head(2)"
   ]
  },
  {
   "cell_type": "code",
   "execution_count": 84,
   "metadata": {
    "colab": {
     "base_uri": "https://localhost:8080/",
     "height": 196
    },
    "execution": {
     "iopub.execute_input": "2025-07-03T15:58:47.918011Z",
     "iopub.status.busy": "2025-07-03T15:58:47.917760Z",
     "iopub.status.idle": "2025-07-03T15:58:48.283489Z",
     "shell.execute_reply": "2025-07-03T15:58:48.282528Z",
     "shell.execute_reply.started": "2025-07-03T15:58:47.917981Z"
    },
    "id": "tFXi0FNHujJG",
    "outputId": "dd108fc6-0605-4301-edf7-c7e4b52f69a2",
    "trusted": true
   },
   "outputs": [
    {
     "data": {
      "text/html": [
       "<div>\n",
       "<style scoped>\n",
       "    .dataframe tbody tr th:only-of-type {\n",
       "        vertical-align: middle;\n",
       "    }\n",
       "\n",
       "    .dataframe tbody tr th {\n",
       "        vertical-align: top;\n",
       "    }\n",
       "\n",
       "    .dataframe thead th {\n",
       "        text-align: right;\n",
       "    }\n",
       "</style>\n",
       "<table border=\"1\" class=\"dataframe\">\n",
       "  <thead>\n",
       "    <tr style=\"text-align: right;\">\n",
       "      <th></th>\n",
       "      <th>user_id</th>\n",
       "      <th>event_counts</th>\n",
       "      <th>total_interaction_price</th>\n",
       "      <th>avg_interaction_price</th>\n",
       "      <th>session_count</th>\n",
       "      <th>first_event</th>\n",
       "      <th>last_event</th>\n",
       "      <th>purchase_count</th>\n",
       "      <th>category_diversity</th>\n",
       "      <th>monetary</th>\n",
       "      <th>...</th>\n",
       "      <th>frequency</th>\n",
       "      <th>view_count</th>\n",
       "      <th>remove_count</th>\n",
       "      <th>cart_count</th>\n",
       "      <th>purchase_event_count</th>\n",
       "      <th>total_events</th>\n",
       "      <th>conversion_rate</th>\n",
       "      <th>cart_abandonment_rate</th>\n",
       "      <th>avg_session_duration</th>\n",
       "      <th>avg_events_per_session</th>\n",
       "    </tr>\n",
       "  </thead>\n",
       "  <tbody>\n",
       "    <tr>\n",
       "      <th>0</th>\n",
       "      <td>465496</td>\n",
       "      <td>{'view': 3}</td>\n",
       "      <td>30.00</td>\n",
       "      <td>10.00</td>\n",
       "      <td>2</td>\n",
       "      <td>2020-01-14 16:15:21+00:00</td>\n",
       "      <td>2020-01-14 16:27:31+00:00</td>\n",
       "      <td>0</td>\n",
       "      <td>1</td>\n",
       "      <td>0.0</td>\n",
       "      <td>...</td>\n",
       "      <td>2</td>\n",
       "      <td>3</td>\n",
       "      <td>0</td>\n",
       "      <td>0</td>\n",
       "      <td>0</td>\n",
       "      <td>3</td>\n",
       "      <td>0.0</td>\n",
       "      <td>0.0</td>\n",
       "      <td>58.0</td>\n",
       "      <td>1.5</td>\n",
       "    </tr>\n",
       "    <tr>\n",
       "      <th>1</th>\n",
       "      <td>1120748</td>\n",
       "      <td>{'view': 1}</td>\n",
       "      <td>4.05</td>\n",
       "      <td>4.05</td>\n",
       "      <td>1</td>\n",
       "      <td>2019-11-04 15:28:57+00:00</td>\n",
       "      <td>2019-11-04 15:28:57+00:00</td>\n",
       "      <td>0</td>\n",
       "      <td>1</td>\n",
       "      <td>0.0</td>\n",
       "      <td>...</td>\n",
       "      <td>1</td>\n",
       "      <td>1</td>\n",
       "      <td>0</td>\n",
       "      <td>0</td>\n",
       "      <td>0</td>\n",
       "      <td>1</td>\n",
       "      <td>0.0</td>\n",
       "      <td>0.0</td>\n",
       "      <td>0.0</td>\n",
       "      <td>1.0</td>\n",
       "    </tr>\n",
       "  </tbody>\n",
       "</table>\n",
       "<p>2 rows × 22 columns</p>\n",
       "</div>"
      ],
      "text/plain": [
       "   user_id event_counts  total_interaction_price  avg_interaction_price  \\\n",
       "0   465496  {'view': 3}                    30.00                  10.00   \n",
       "1  1120748  {'view': 1}                     4.05                   4.05   \n",
       "\n",
       "   session_count               first_event                last_event  \\\n",
       "0              2 2020-01-14 16:15:21+00:00 2020-01-14 16:27:31+00:00   \n",
       "1              1 2019-11-04 15:28:57+00:00 2019-11-04 15:28:57+00:00   \n",
       "\n",
       "   purchase_count  category_diversity  monetary  ...  frequency  view_count  \\\n",
       "0               0                   1       0.0  ...          2           3   \n",
       "1               0                   1       0.0  ...          1           1   \n",
       "\n",
       "   remove_count  cart_count  purchase_event_count  total_events  \\\n",
       "0             0           0                     0             3   \n",
       "1             0           0                     0             1   \n",
       "\n",
       "   conversion_rate  cart_abandonment_rate  avg_session_duration  \\\n",
       "0              0.0                    0.0                  58.0   \n",
       "1              0.0                    0.0                   0.0   \n",
       "\n",
       "   avg_events_per_session  \n",
       "0                     1.5  \n",
       "1                     1.0  \n",
       "\n",
       "[2 rows x 22 columns]"
      ]
     },
     "execution_count": 84,
     "metadata": {},
     "output_type": "execute_result"
    }
   ],
   "source": [
    "## Merge session features\n",
    "user_agg = pd.merge(user_agg, session_summary, on='user_id', how = 'left')\n",
    "user_agg.head(2)"
   ]
  },
  {
   "cell_type": "code",
   "execution_count": 85,
   "metadata": {
    "colab": {
     "base_uri": "https://localhost:8080/",
     "height": 112
    },
    "execution": {
     "iopub.execute_input": "2025-07-03T15:58:48.284763Z",
     "iopub.status.busy": "2025-07-03T15:58:48.284498Z",
     "iopub.status.idle": "2025-07-03T16:07:19.350750Z",
     "shell.execute_reply": "2025-07-03T16:07:19.349970Z",
     "shell.execute_reply.started": "2025-07-03T15:58:48.284732Z"
    },
    "id": "y43HWNveujFq",
    "outputId": "6a862622-e0cb-4965-ff81-25657e24d632",
    "trusted": true
   },
   "outputs": [
    {
     "data": {
      "text/html": [
       "<div>\n",
       "<style scoped>\n",
       "    .dataframe tbody tr th:only-of-type {\n",
       "        vertical-align: middle;\n",
       "    }\n",
       "\n",
       "    .dataframe tbody tr th {\n",
       "        vertical-align: top;\n",
       "    }\n",
       "\n",
       "    .dataframe thead th {\n",
       "        text-align: right;\n",
       "    }\n",
       "</style>\n",
       "<table border=\"1\" class=\"dataframe\">\n",
       "  <thead>\n",
       "    <tr style=\"text-align: right;\">\n",
       "      <th></th>\n",
       "      <th>user_id</th>\n",
       "      <th>most_common_hour</th>\n",
       "    </tr>\n",
       "  </thead>\n",
       "  <tbody>\n",
       "    <tr>\n",
       "      <th>0</th>\n",
       "      <td>465496</td>\n",
       "      <td>16</td>\n",
       "    </tr>\n",
       "    <tr>\n",
       "      <th>1</th>\n",
       "      <td>1120748</td>\n",
       "      <td>15</td>\n",
       "    </tr>\n",
       "  </tbody>\n",
       "</table>\n",
       "</div>"
      ],
      "text/plain": [
       "   user_id  most_common_hour\n",
       "0   465496                16\n",
       "1  1120748                15"
      ]
     },
     "execution_count": 85,
     "metadata": {},
     "output_type": "execute_result"
    }
   ],
   "source": [
    "user_hour = df.groupby('user_id')['event_time'].apply(lambda x: x.dt.hour.mode().iloc[0]).reset_index()\n",
    "user_hour.columns = ['user_id', 'most_common_hour']\n",
    "user_hour.head(2)"
   ]
  },
  {
   "cell_type": "code",
   "execution_count": 86,
   "metadata": {
    "colab": {
     "base_uri": "https://localhost:8080/",
     "height": 196
    },
    "execution": {
     "iopub.execute_input": "2025-07-03T16:07:19.352060Z",
     "iopub.status.busy": "2025-07-03T16:07:19.351716Z",
     "iopub.status.idle": "2025-07-03T16:07:19.370982Z",
     "shell.execute_reply": "2025-07-03T16:07:19.370131Z",
     "shell.execute_reply.started": "2025-07-03T16:07:19.352030Z"
    },
    "id": "jNZtXQHmujCi",
    "outputId": "9a3d491c-8f7c-47e7-b11c-fa29de62676b",
    "trusted": true
   },
   "outputs": [
    {
     "data": {
      "text/html": [
       "<div>\n",
       "<style scoped>\n",
       "    .dataframe tbody tr th:only-of-type {\n",
       "        vertical-align: middle;\n",
       "    }\n",
       "\n",
       "    .dataframe tbody tr th {\n",
       "        vertical-align: top;\n",
       "    }\n",
       "\n",
       "    .dataframe thead th {\n",
       "        text-align: right;\n",
       "    }\n",
       "</style>\n",
       "<table border=\"1\" class=\"dataframe\">\n",
       "  <thead>\n",
       "    <tr style=\"text-align: right;\">\n",
       "      <th></th>\n",
       "      <th>user_id</th>\n",
       "      <th>event_counts</th>\n",
       "      <th>total_interaction_price</th>\n",
       "      <th>avg_interaction_price</th>\n",
       "      <th>session_count</th>\n",
       "      <th>first_event</th>\n",
       "      <th>last_event</th>\n",
       "      <th>purchase_count</th>\n",
       "      <th>category_diversity</th>\n",
       "      <th>monetary</th>\n",
       "      <th>...</th>\n",
       "      <th>frequency</th>\n",
       "      <th>view_count</th>\n",
       "      <th>remove_count</th>\n",
       "      <th>cart_count</th>\n",
       "      <th>purchase_event_count</th>\n",
       "      <th>total_events</th>\n",
       "      <th>conversion_rate</th>\n",
       "      <th>cart_abandonment_rate</th>\n",
       "      <th>avg_session_duration</th>\n",
       "      <th>avg_events_per_session</th>\n",
       "    </tr>\n",
       "  </thead>\n",
       "  <tbody>\n",
       "    <tr>\n",
       "      <th>0</th>\n",
       "      <td>465496</td>\n",
       "      <td>{'view': 3}</td>\n",
       "      <td>30.00</td>\n",
       "      <td>10.00</td>\n",
       "      <td>2</td>\n",
       "      <td>2020-01-14 16:15:21+00:00</td>\n",
       "      <td>2020-01-14 16:27:31+00:00</td>\n",
       "      <td>0</td>\n",
       "      <td>1</td>\n",
       "      <td>0.0</td>\n",
       "      <td>...</td>\n",
       "      <td>2</td>\n",
       "      <td>3</td>\n",
       "      <td>0</td>\n",
       "      <td>0</td>\n",
       "      <td>0</td>\n",
       "      <td>3</td>\n",
       "      <td>0.0</td>\n",
       "      <td>0.0</td>\n",
       "      <td>58.0</td>\n",
       "      <td>1.5</td>\n",
       "    </tr>\n",
       "    <tr>\n",
       "      <th>1</th>\n",
       "      <td>1120748</td>\n",
       "      <td>{'view': 1}</td>\n",
       "      <td>4.05</td>\n",
       "      <td>4.05</td>\n",
       "      <td>1</td>\n",
       "      <td>2019-11-04 15:28:57+00:00</td>\n",
       "      <td>2019-11-04 15:28:57+00:00</td>\n",
       "      <td>0</td>\n",
       "      <td>1</td>\n",
       "      <td>0.0</td>\n",
       "      <td>...</td>\n",
       "      <td>1</td>\n",
       "      <td>1</td>\n",
       "      <td>0</td>\n",
       "      <td>0</td>\n",
       "      <td>0</td>\n",
       "      <td>1</td>\n",
       "      <td>0.0</td>\n",
       "      <td>0.0</td>\n",
       "      <td>0.0</td>\n",
       "      <td>1.0</td>\n",
       "    </tr>\n",
       "  </tbody>\n",
       "</table>\n",
       "<p>2 rows × 22 columns</p>\n",
       "</div>"
      ],
      "text/plain": [
       "   user_id event_counts  total_interaction_price  avg_interaction_price  \\\n",
       "0   465496  {'view': 3}                    30.00                  10.00   \n",
       "1  1120748  {'view': 1}                     4.05                   4.05   \n",
       "\n",
       "   session_count               first_event                last_event  \\\n",
       "0              2 2020-01-14 16:15:21+00:00 2020-01-14 16:27:31+00:00   \n",
       "1              1 2019-11-04 15:28:57+00:00 2019-11-04 15:28:57+00:00   \n",
       "\n",
       "   purchase_count  category_diversity  monetary  ...  frequency  view_count  \\\n",
       "0               0                   1       0.0  ...          2           3   \n",
       "1               0                   1       0.0  ...          1           1   \n",
       "\n",
       "   remove_count  cart_count  purchase_event_count  total_events  \\\n",
       "0             0           0                     0             3   \n",
       "1             0           0                     0             1   \n",
       "\n",
       "   conversion_rate  cart_abandonment_rate  avg_session_duration  \\\n",
       "0              0.0                    0.0                  58.0   \n",
       "1              0.0                    0.0                   0.0   \n",
       "\n",
       "   avg_events_per_session  \n",
       "0                     1.5  \n",
       "1                     1.0  \n",
       "\n",
       "[2 rows x 22 columns]"
      ]
     },
     "execution_count": 86,
     "metadata": {},
     "output_type": "execute_result"
    }
   ],
   "source": [
    "user_agg.head(2)"
   ]
  },
  {
   "cell_type": "code",
   "execution_count": 87,
   "metadata": {
    "colab": {
     "base_uri": "https://localhost:8080/",
     "height": 196
    },
    "execution": {
     "iopub.execute_input": "2025-07-03T16:07:19.372121Z",
     "iopub.status.busy": "2025-07-03T16:07:19.371834Z",
     "iopub.status.idle": "2025-07-03T16:07:19.600032Z",
     "shell.execute_reply": "2025-07-03T16:07:19.599280Z",
     "shell.execute_reply.started": "2025-07-03T16:07:19.372099Z"
    },
    "id": "k3mB0-4mui_G",
    "outputId": "d86beb13-746a-4678-d2de-ca7682afaa9c",
    "trusted": true
   },
   "outputs": [
    {
     "data": {
      "text/html": [
       "<div>\n",
       "<style scoped>\n",
       "    .dataframe tbody tr th:only-of-type {\n",
       "        vertical-align: middle;\n",
       "    }\n",
       "\n",
       "    .dataframe tbody tr th {\n",
       "        vertical-align: top;\n",
       "    }\n",
       "\n",
       "    .dataframe thead th {\n",
       "        text-align: right;\n",
       "    }\n",
       "</style>\n",
       "<table border=\"1\" class=\"dataframe\">\n",
       "  <thead>\n",
       "    <tr style=\"text-align: right;\">\n",
       "      <th></th>\n",
       "      <th>user_id</th>\n",
       "      <th>event_counts</th>\n",
       "      <th>total_interaction_price</th>\n",
       "      <th>avg_interaction_price</th>\n",
       "      <th>session_count</th>\n",
       "      <th>first_event</th>\n",
       "      <th>last_event</th>\n",
       "      <th>purchase_count</th>\n",
       "      <th>category_diversity</th>\n",
       "      <th>monetary</th>\n",
       "      <th>...</th>\n",
       "      <th>view_count</th>\n",
       "      <th>remove_count</th>\n",
       "      <th>cart_count</th>\n",
       "      <th>purchase_event_count</th>\n",
       "      <th>total_events</th>\n",
       "      <th>conversion_rate</th>\n",
       "      <th>cart_abandonment_rate</th>\n",
       "      <th>avg_session_duration</th>\n",
       "      <th>avg_events_per_session</th>\n",
       "      <th>most_common_hour</th>\n",
       "    </tr>\n",
       "  </thead>\n",
       "  <tbody>\n",
       "    <tr>\n",
       "      <th>0</th>\n",
       "      <td>465496</td>\n",
       "      <td>{'view': 3}</td>\n",
       "      <td>30.00</td>\n",
       "      <td>10.00</td>\n",
       "      <td>2</td>\n",
       "      <td>2020-01-14 16:15:21+00:00</td>\n",
       "      <td>2020-01-14 16:27:31+00:00</td>\n",
       "      <td>0</td>\n",
       "      <td>1</td>\n",
       "      <td>0.0</td>\n",
       "      <td>...</td>\n",
       "      <td>3</td>\n",
       "      <td>0</td>\n",
       "      <td>0</td>\n",
       "      <td>0</td>\n",
       "      <td>3</td>\n",
       "      <td>0.0</td>\n",
       "      <td>0.0</td>\n",
       "      <td>58.0</td>\n",
       "      <td>1.5</td>\n",
       "      <td>16</td>\n",
       "    </tr>\n",
       "    <tr>\n",
       "      <th>1</th>\n",
       "      <td>1120748</td>\n",
       "      <td>{'view': 1}</td>\n",
       "      <td>4.05</td>\n",
       "      <td>4.05</td>\n",
       "      <td>1</td>\n",
       "      <td>2019-11-04 15:28:57+00:00</td>\n",
       "      <td>2019-11-04 15:28:57+00:00</td>\n",
       "      <td>0</td>\n",
       "      <td>1</td>\n",
       "      <td>0.0</td>\n",
       "      <td>...</td>\n",
       "      <td>1</td>\n",
       "      <td>0</td>\n",
       "      <td>0</td>\n",
       "      <td>0</td>\n",
       "      <td>1</td>\n",
       "      <td>0.0</td>\n",
       "      <td>0.0</td>\n",
       "      <td>0.0</td>\n",
       "      <td>1.0</td>\n",
       "      <td>15</td>\n",
       "    </tr>\n",
       "  </tbody>\n",
       "</table>\n",
       "<p>2 rows × 23 columns</p>\n",
       "</div>"
      ],
      "text/plain": [
       "   user_id event_counts  total_interaction_price  avg_interaction_price  \\\n",
       "0   465496  {'view': 3}                    30.00                  10.00   \n",
       "1  1120748  {'view': 1}                     4.05                   4.05   \n",
       "\n",
       "   session_count               first_event                last_event  \\\n",
       "0              2 2020-01-14 16:15:21+00:00 2020-01-14 16:27:31+00:00   \n",
       "1              1 2019-11-04 15:28:57+00:00 2019-11-04 15:28:57+00:00   \n",
       "\n",
       "   purchase_count  category_diversity  monetary  ...  view_count  \\\n",
       "0               0                   1       0.0  ...           3   \n",
       "1               0                   1       0.0  ...           1   \n",
       "\n",
       "   remove_count  cart_count  purchase_event_count  total_events  \\\n",
       "0             0           0                     0             3   \n",
       "1             0           0                     0             1   \n",
       "\n",
       "   conversion_rate  cart_abandonment_rate  avg_session_duration  \\\n",
       "0              0.0                    0.0                  58.0   \n",
       "1              0.0                    0.0                   0.0   \n",
       "\n",
       "   avg_events_per_session  most_common_hour  \n",
       "0                     1.5                16  \n",
       "1                     1.0                15  \n",
       "\n",
       "[2 rows x 23 columns]"
      ]
     },
     "execution_count": 87,
     "metadata": {},
     "output_type": "execute_result"
    }
   ],
   "source": [
    "user_agg = pd.merge(user_agg, user_hour, on = 'user_id', how='left')\n",
    "user_agg.head(2)"
   ]
  },
  {
   "cell_type": "code",
   "execution_count": 88,
   "metadata": {
    "colab": {
     "base_uri": "https://localhost:8080/",
     "height": 335
    },
    "execution": {
     "iopub.execute_input": "2025-07-03T16:07:19.601256Z",
     "iopub.status.busy": "2025-07-03T16:07:19.600926Z",
     "iopub.status.idle": "2025-07-03T16:07:22.890574Z",
     "shell.execute_reply": "2025-07-03T16:07:22.889675Z",
     "shell.execute_reply.started": "2025-07-03T16:07:19.601228Z"
    },
    "id": "OLrrRBy6ui8P",
    "outputId": "a0926bc2-51f1-4d28-d6d3-04b7109320f7",
    "trusted": true
   },
   "outputs": [
    {
     "data": {
      "text/plain": [
       "event_time          0\n",
       "event_type          0\n",
       "product_id          0\n",
       "category_id         0\n",
       "brand               0\n",
       "price               0\n",
       "user_id             0\n",
       "user_session        0\n",
       "Purchase_Outcome    0\n",
       "dtype: int64"
      ]
     },
     "execution_count": 88,
     "metadata": {},
     "output_type": "execute_result"
    }
   ],
   "source": [
    "df.isna().sum()"
   ]
  },
  {
   "cell_type": "code",
   "execution_count": 69,
   "metadata": {
    "execution": {
     "iopub.execute_input": "2025-07-02T10:59:26.211190Z",
     "iopub.status.busy": "2025-07-02T10:59:26.210490Z",
     "iopub.status.idle": "2025-07-02T10:59:26.343596Z",
     "shell.execute_reply": "2025-07-02T10:59:26.342907Z",
     "shell.execute_reply.started": "2025-07-02T10:59:26.211165Z"
    },
    "trusted": true
   },
   "outputs": [
    {
     "data": {
      "text/plain": [
       "523"
      ]
     },
     "execution_count": 69,
     "metadata": {},
     "output_type": "execute_result"
    }
   ],
   "source": [
    "df['category_id'].nunique()"
   ]
  },
  {
   "cell_type": "code",
   "execution_count": 73,
   "metadata": {
    "execution": {
     "iopub.execute_input": "2025-07-02T11:01:30.673709Z",
     "iopub.status.busy": "2025-07-02T11:01:30.673404Z",
     "iopub.status.idle": "2025-07-02T11:01:32.205328Z",
     "shell.execute_reply": "2025-07-02T11:01:32.204602Z",
     "shell.execute_reply.started": "2025-07-02T11:01:30.673687Z"
    },
    "trusted": true
   },
   "outputs": [
    {
     "data": {
      "text/plain": [
       "event_type\n",
       "view                9627298\n",
       "cart                5715188\n",
       "remove_from_cart    3954589\n",
       "purchase            1286880\n",
       "Name: count, dtype: int64"
      ]
     },
     "execution_count": 73,
     "metadata": {},
     "output_type": "execute_result"
    }
   ],
   "source": [
    "df['event_type'].value_counts()"
   ]
  },
  {
   "cell_type": "code",
   "execution_count": 76,
   "metadata": {
    "execution": {
     "iopub.execute_input": "2025-07-02T11:02:36.235096Z",
     "iopub.status.busy": "2025-07-02T11:02:36.234324Z",
     "iopub.status.idle": "2025-07-02T11:02:36.364408Z",
     "shell.execute_reply": "2025-07-02T11:02:36.363519Z",
     "shell.execute_reply.started": "2025-07-02T11:02:36.235066Z"
    },
    "trusted": true
   },
   "outputs": [
    {
     "data": {
      "text/plain": [
       "category_id\n",
       "1487580007675986893    1045608\n",
       "1487580005595612013     786934\n",
       "1487580005092295511     769070\n",
       "1487580005671109489     677263\n",
       "1487580006317032337     643394\n",
       "                        ...   \n",
       "1487580007155893175          2\n",
       "1487580009890578479          1\n",
       "1487580011056595041          1\n",
       "1487580009706029097          1\n",
       "1487580010897211483          1\n",
       "Name: count, Length: 523, dtype: int64"
      ]
     },
     "execution_count": 76,
     "metadata": {},
     "output_type": "execute_result"
    }
   ],
   "source": [
    "df['category_id'].value_counts()"
   ]
  },
  {
   "cell_type": "code",
   "execution_count": 75,
   "metadata": {
    "execution": {
     "iopub.execute_input": "2025-07-02T11:02:13.846585Z",
     "iopub.status.busy": "2025-07-02T11:02:13.846287Z",
     "iopub.status.idle": "2025-07-02T11:02:15.560716Z",
     "shell.execute_reply": "2025-07-02T11:02:15.560069Z",
     "shell.execute_reply.started": "2025-07-02T11:02:13.846563Z"
    },
    "trusted": true
   },
   "outputs": [
    {
     "data": {
      "text/plain": [
       "category_id\n",
       "1487580007675986893    80137\n",
       "1487580006317032337    50555\n",
       "1487580005092295511    44870\n",
       "1487580005595612013    44334\n",
       "1487580005671109489    43451\n",
       "                       ...  \n",
       "1487580005318787937        1\n",
       "1487580008951054345        1\n",
       "2166295400451933025        1\n",
       "1487580013564788937        1\n",
       "1842735764450837316        1\n",
       "Name: count, Length: 468, dtype: int64"
      ]
     },
     "execution_count": 75,
     "metadata": {},
     "output_type": "execute_result"
    }
   ],
   "source": [
    "df[df['event_type'] == 'purchase']['category_id'].value_counts()"
   ]
  },
  {
   "cell_type": "code",
   "execution_count": 89,
   "metadata": {
    "colab": {
     "base_uri": "https://localhost:8080/",
     "height": 81
    },
    "execution": {
     "iopub.execute_input": "2025-07-03T16:07:22.891771Z",
     "iopub.status.busy": "2025-07-03T16:07:22.891543Z",
     "iopub.status.idle": "2025-07-03T16:07:23.395267Z",
     "shell.execute_reply": "2025-07-03T16:07:23.394341Z",
     "shell.execute_reply.started": "2025-07-03T16:07:22.891752Z"
    },
    "id": "L2oTZCmfui5G",
    "outputId": "2573b4aa-03ab-4ccf-ed47-233f66f405f8",
    "trusted": true
   },
   "outputs": [
    {
     "data": {
      "text/html": [
       "<div>\n",
       "<style scoped>\n",
       "    .dataframe tbody tr th:only-of-type {\n",
       "        vertical-align: middle;\n",
       "    }\n",
       "\n",
       "    .dataframe tbody tr th {\n",
       "        vertical-align: top;\n",
       "    }\n",
       "\n",
       "    .dataframe thead th {\n",
       "        text-align: right;\n",
       "    }\n",
       "</style>\n",
       "<table border=\"1\" class=\"dataframe\">\n",
       "  <thead>\n",
       "    <tr style=\"text-align: right;\">\n",
       "      <th></th>\n",
       "      <th>event_time</th>\n",
       "      <th>event_type</th>\n",
       "      <th>product_id</th>\n",
       "      <th>category_id</th>\n",
       "      <th>brand</th>\n",
       "      <th>price</th>\n",
       "      <th>user_id</th>\n",
       "      <th>user_session</th>\n",
       "      <th>Purchase_Outcome</th>\n",
       "      <th>category_freq</th>\n",
       "    </tr>\n",
       "  </thead>\n",
       "  <tbody>\n",
       "    <tr>\n",
       "      <th>0</th>\n",
       "      <td>2019-10-01 00:00:00+00:00</td>\n",
       "      <td>cart</td>\n",
       "      <td>5773203</td>\n",
       "      <td>1487580005134238553</td>\n",
       "      <td>runail</td>\n",
       "      <td>2.62</td>\n",
       "      <td>463240011</td>\n",
       "      <td>26dd6e6e-4dac-4778-8d2c-92e149dab885</td>\n",
       "      <td>0</td>\n",
       "      <td>394389</td>\n",
       "    </tr>\n",
       "  </tbody>\n",
       "</table>\n",
       "</div>"
      ],
      "text/plain": [
       "                 event_time event_type  product_id          category_id  \\\n",
       "0 2019-10-01 00:00:00+00:00       cart     5773203  1487580005134238553   \n",
       "\n",
       "    brand  price    user_id                          user_session  \\\n",
       "0  runail   2.62  463240011  26dd6e6e-4dac-4778-8d2c-92e149dab885   \n",
       "\n",
       "   Purchase_Outcome  category_freq  \n",
       "0                 0         394389  "
      ]
     },
     "execution_count": 89,
     "metadata": {},
     "output_type": "execute_result"
    }
   ],
   "source": [
    "category_freq = df['category_id'].value_counts().to_dict()\n",
    "\n",
    "df['category_freq'] = df['category_id'].map(category_freq)\n",
    "df.head(1)"
   ]
  },
  {
   "cell_type": "code",
   "execution_count": 90,
   "metadata": {
    "colab": {
     "base_uri": "https://localhost:8080/",
     "height": 206
    },
    "execution": {
     "iopub.execute_input": "2025-07-03T16:07:23.396536Z",
     "iopub.status.busy": "2025-07-03T16:07:23.396235Z",
     "iopub.status.idle": "2025-07-03T16:07:25.119047Z",
     "shell.execute_reply": "2025-07-03T16:07:25.118315Z",
     "shell.execute_reply.started": "2025-07-03T16:07:23.396506Z"
    },
    "id": "pq0x5ZMIui2B",
    "outputId": "90e49a7f-ef77-4d9d-c394-95bf7329468c",
    "trusted": true
   },
   "outputs": [
    {
     "data": {
      "text/html": [
       "<div>\n",
       "<style scoped>\n",
       "    .dataframe tbody tr th:only-of-type {\n",
       "        vertical-align: middle;\n",
       "    }\n",
       "\n",
       "    .dataframe tbody tr th {\n",
       "        vertical-align: top;\n",
       "    }\n",
       "\n",
       "    .dataframe thead th {\n",
       "        text-align: right;\n",
       "    }\n",
       "</style>\n",
       "<table border=\"1\" class=\"dataframe\">\n",
       "  <thead>\n",
       "    <tr style=\"text-align: right;\">\n",
       "      <th></th>\n",
       "      <th>user_id</th>\n",
       "      <th>avg_category_freq</th>\n",
       "    </tr>\n",
       "  </thead>\n",
       "  <tbody>\n",
       "    <tr>\n",
       "      <th>0</th>\n",
       "      <td>465496</td>\n",
       "      <td>39226.000000</td>\n",
       "    </tr>\n",
       "    <tr>\n",
       "      <th>1</th>\n",
       "      <td>1120748</td>\n",
       "      <td>31120.000000</td>\n",
       "    </tr>\n",
       "    <tr>\n",
       "      <th>2</th>\n",
       "      <td>1180452</td>\n",
       "      <td>119609.000000</td>\n",
       "    </tr>\n",
       "    <tr>\n",
       "      <th>3</th>\n",
       "      <td>1458813</td>\n",
       "      <td>71265.448276</td>\n",
       "    </tr>\n",
       "    <tr>\n",
       "      <th>4</th>\n",
       "      <td>2038666</td>\n",
       "      <td>28437.000000</td>\n",
       "    </tr>\n",
       "  </tbody>\n",
       "</table>\n",
       "</div>"
      ],
      "text/plain": [
       "   user_id  avg_category_freq\n",
       "0   465496       39226.000000\n",
       "1  1120748       31120.000000\n",
       "2  1180452      119609.000000\n",
       "3  1458813       71265.448276\n",
       "4  2038666       28437.000000"
      ]
     },
     "execution_count": 90,
     "metadata": {},
     "output_type": "execute_result"
    }
   ],
   "source": [
    "avg_cat_freq = df.groupby('user_id')['category_freq'].mean().reset_index()\n",
    "avg_cat_freq.columns = ['user_id','avg_category_freq' ]\n",
    "avg_cat_freq.head()"
   ]
  },
  {
   "cell_type": "code",
   "execution_count": 91,
   "metadata": {
    "colab": {
     "base_uri": "https://localhost:8080/",
     "height": 196
    },
    "execution": {
     "iopub.execute_input": "2025-07-03T16:07:25.120108Z",
     "iopub.status.busy": "2025-07-03T16:07:25.119844Z",
     "iopub.status.idle": "2025-07-03T16:07:25.254697Z",
     "shell.execute_reply": "2025-07-03T16:07:25.253973Z",
     "shell.execute_reply.started": "2025-07-03T16:07:25.120087Z"
    },
    "id": "Z25jZoy-uizI",
    "outputId": "fa455cea-d210-44a4-8ea1-db6806a0e496",
    "trusted": true
   },
   "outputs": [
    {
     "data": {
      "text/html": [
       "<div>\n",
       "<style scoped>\n",
       "    .dataframe tbody tr th:only-of-type {\n",
       "        vertical-align: middle;\n",
       "    }\n",
       "\n",
       "    .dataframe tbody tr th {\n",
       "        vertical-align: top;\n",
       "    }\n",
       "\n",
       "    .dataframe thead th {\n",
       "        text-align: right;\n",
       "    }\n",
       "</style>\n",
       "<table border=\"1\" class=\"dataframe\">\n",
       "  <thead>\n",
       "    <tr style=\"text-align: right;\">\n",
       "      <th></th>\n",
       "      <th>user_id</th>\n",
       "      <th>event_counts</th>\n",
       "      <th>total_interaction_price</th>\n",
       "      <th>avg_interaction_price</th>\n",
       "      <th>session_count</th>\n",
       "      <th>first_event</th>\n",
       "      <th>last_event</th>\n",
       "      <th>purchase_count</th>\n",
       "      <th>category_diversity</th>\n",
       "      <th>monetary</th>\n",
       "      <th>...</th>\n",
       "      <th>remove_count</th>\n",
       "      <th>cart_count</th>\n",
       "      <th>purchase_event_count</th>\n",
       "      <th>total_events</th>\n",
       "      <th>conversion_rate</th>\n",
       "      <th>cart_abandonment_rate</th>\n",
       "      <th>avg_session_duration</th>\n",
       "      <th>avg_events_per_session</th>\n",
       "      <th>most_common_hour</th>\n",
       "      <th>avg_category_freq</th>\n",
       "    </tr>\n",
       "  </thead>\n",
       "  <tbody>\n",
       "    <tr>\n",
       "      <th>0</th>\n",
       "      <td>465496</td>\n",
       "      <td>{'view': 3}</td>\n",
       "      <td>30.00</td>\n",
       "      <td>10.00</td>\n",
       "      <td>2</td>\n",
       "      <td>2020-01-14 16:15:21+00:00</td>\n",
       "      <td>2020-01-14 16:27:31+00:00</td>\n",
       "      <td>0</td>\n",
       "      <td>1</td>\n",
       "      <td>0.0</td>\n",
       "      <td>...</td>\n",
       "      <td>0</td>\n",
       "      <td>0</td>\n",
       "      <td>0</td>\n",
       "      <td>3</td>\n",
       "      <td>0.0</td>\n",
       "      <td>0.0</td>\n",
       "      <td>58.0</td>\n",
       "      <td>1.5</td>\n",
       "      <td>16</td>\n",
       "      <td>39226.0</td>\n",
       "    </tr>\n",
       "    <tr>\n",
       "      <th>1</th>\n",
       "      <td>1120748</td>\n",
       "      <td>{'view': 1}</td>\n",
       "      <td>4.05</td>\n",
       "      <td>4.05</td>\n",
       "      <td>1</td>\n",
       "      <td>2019-11-04 15:28:57+00:00</td>\n",
       "      <td>2019-11-04 15:28:57+00:00</td>\n",
       "      <td>0</td>\n",
       "      <td>1</td>\n",
       "      <td>0.0</td>\n",
       "      <td>...</td>\n",
       "      <td>0</td>\n",
       "      <td>0</td>\n",
       "      <td>0</td>\n",
       "      <td>1</td>\n",
       "      <td>0.0</td>\n",
       "      <td>0.0</td>\n",
       "      <td>0.0</td>\n",
       "      <td>1.0</td>\n",
       "      <td>15</td>\n",
       "      <td>31120.0</td>\n",
       "    </tr>\n",
       "  </tbody>\n",
       "</table>\n",
       "<p>2 rows × 24 columns</p>\n",
       "</div>"
      ],
      "text/plain": [
       "   user_id event_counts  total_interaction_price  avg_interaction_price  \\\n",
       "0   465496  {'view': 3}                    30.00                  10.00   \n",
       "1  1120748  {'view': 1}                     4.05                   4.05   \n",
       "\n",
       "   session_count               first_event                last_event  \\\n",
       "0              2 2020-01-14 16:15:21+00:00 2020-01-14 16:27:31+00:00   \n",
       "1              1 2019-11-04 15:28:57+00:00 2019-11-04 15:28:57+00:00   \n",
       "\n",
       "   purchase_count  category_diversity  monetary  ...  remove_count  \\\n",
       "0               0                   1       0.0  ...             0   \n",
       "1               0                   1       0.0  ...             0   \n",
       "\n",
       "   cart_count  purchase_event_count  total_events  conversion_rate  \\\n",
       "0           0                     0             3              0.0   \n",
       "1           0                     0             1              0.0   \n",
       "\n",
       "   cart_abandonment_rate  avg_session_duration  avg_events_per_session  \\\n",
       "0                    0.0                  58.0                     1.5   \n",
       "1                    0.0                   0.0                     1.0   \n",
       "\n",
       "   most_common_hour  avg_category_freq  \n",
       "0                16            39226.0  \n",
       "1                15            31120.0  \n",
       "\n",
       "[2 rows x 24 columns]"
      ]
     },
     "execution_count": 91,
     "metadata": {},
     "output_type": "execute_result"
    }
   ],
   "source": [
    "user_agg = pd.merge(user_agg, avg_cat_freq, on ='user_id',how='left')\n",
    "user_agg.head(2)"
   ]
  },
  {
   "cell_type": "code",
   "execution_count": 92,
   "metadata": {
    "colab": {
     "base_uri": "https://localhost:8080/",
     "height": 112
    },
    "execution": {
     "iopub.execute_input": "2025-07-03T16:07:25.255760Z",
     "iopub.status.busy": "2025-07-03T16:07:25.255542Z",
     "iopub.status.idle": "2025-07-03T16:07:29.257722Z",
     "shell.execute_reply": "2025-07-03T16:07:29.256894Z",
     "shell.execute_reply.started": "2025-07-03T16:07:25.255741Z"
    },
    "id": "VJp7uOrpwLeW",
    "outputId": "d472ef37-4069-48a7-b649-7b71b2f7408e",
    "trusted": true
   },
   "outputs": [
    {
     "data": {
      "text/html": [
       "<div>\n",
       "<style scoped>\n",
       "    .dataframe tbody tr th:only-of-type {\n",
       "        vertical-align: middle;\n",
       "    }\n",
       "\n",
       "    .dataframe tbody tr th {\n",
       "        vertical-align: top;\n",
       "    }\n",
       "\n",
       "    .dataframe thead th {\n",
       "        text-align: right;\n",
       "    }\n",
       "</style>\n",
       "<table border=\"1\" class=\"dataframe\">\n",
       "  <thead>\n",
       "    <tr style=\"text-align: right;\">\n",
       "      <th></th>\n",
       "      <th>user_id</th>\n",
       "      <th>avg_view_price</th>\n",
       "    </tr>\n",
       "  </thead>\n",
       "  <tbody>\n",
       "    <tr>\n",
       "      <th>0</th>\n",
       "      <td>465496</td>\n",
       "      <td>10.00</td>\n",
       "    </tr>\n",
       "    <tr>\n",
       "      <th>1</th>\n",
       "      <td>1120748</td>\n",
       "      <td>4.05</td>\n",
       "    </tr>\n",
       "  </tbody>\n",
       "</table>\n",
       "</div>"
      ],
      "text/plain": [
       "   user_id  avg_view_price\n",
       "0   465496           10.00\n",
       "1  1120748            4.05"
      ]
     },
     "execution_count": 92,
     "metadata": {},
     "output_type": "execute_result"
    }
   ],
   "source": [
    "## Price Sensitivity features\n",
    "view_prices = df[df['event_type']=='view'].groupby('user_id')['price'].mean().reset_index()\n",
    "view_prices.columns = ['user_id','avg_view_price']\n",
    "view_prices.head(2)"
   ]
  },
  {
   "cell_type": "code",
   "execution_count": 93,
   "metadata": {
    "colab": {
     "base_uri": "https://localhost:8080/",
     "height": 360
    },
    "execution": {
     "iopub.execute_input": "2025-07-03T16:07:29.259009Z",
     "iopub.status.busy": "2025-07-03T16:07:29.258660Z",
     "iopub.status.idle": "2025-07-03T16:07:29.537313Z",
     "shell.execute_reply": "2025-07-03T16:07:29.536408Z",
     "shell.execute_reply.started": "2025-07-03T16:07:29.258945Z"
    },
    "id": "nAE9n0v9wLbl",
    "outputId": "9da2fe1d-f463-4737-cbfe-b92e8f2137ac",
    "trusted": true
   },
   "outputs": [
    {
     "data": {
      "text/html": [
       "<div>\n",
       "<style scoped>\n",
       "    .dataframe tbody tr th:only-of-type {\n",
       "        vertical-align: middle;\n",
       "    }\n",
       "\n",
       "    .dataframe tbody tr th {\n",
       "        vertical-align: top;\n",
       "    }\n",
       "\n",
       "    .dataframe thead th {\n",
       "        text-align: right;\n",
       "    }\n",
       "</style>\n",
       "<table border=\"1\" class=\"dataframe\">\n",
       "  <thead>\n",
       "    <tr style=\"text-align: right;\">\n",
       "      <th></th>\n",
       "      <th>user_id</th>\n",
       "      <th>event_counts</th>\n",
       "      <th>total_interaction_price</th>\n",
       "      <th>avg_interaction_price</th>\n",
       "      <th>session_count</th>\n",
       "      <th>first_event</th>\n",
       "      <th>last_event</th>\n",
       "      <th>purchase_count</th>\n",
       "      <th>category_diversity</th>\n",
       "      <th>monetary</th>\n",
       "      <th>...</th>\n",
       "      <th>cart_count</th>\n",
       "      <th>purchase_event_count</th>\n",
       "      <th>total_events</th>\n",
       "      <th>conversion_rate</th>\n",
       "      <th>cart_abandonment_rate</th>\n",
       "      <th>avg_session_duration</th>\n",
       "      <th>avg_events_per_session</th>\n",
       "      <th>most_common_hour</th>\n",
       "      <th>avg_category_freq</th>\n",
       "      <th>avg_view_price</th>\n",
       "    </tr>\n",
       "  </thead>\n",
       "  <tbody>\n",
       "    <tr>\n",
       "      <th>0</th>\n",
       "      <td>465496</td>\n",
       "      <td>{'view': 3}</td>\n",
       "      <td>30.00</td>\n",
       "      <td>10.000000</td>\n",
       "      <td>2</td>\n",
       "      <td>2020-01-14 16:15:21+00:00</td>\n",
       "      <td>2020-01-14 16:27:31+00:00</td>\n",
       "      <td>0</td>\n",
       "      <td>1</td>\n",
       "      <td>0.0</td>\n",
       "      <td>...</td>\n",
       "      <td>0</td>\n",
       "      <td>0</td>\n",
       "      <td>3</td>\n",
       "      <td>0.0</td>\n",
       "      <td>0.0</td>\n",
       "      <td>58.00</td>\n",
       "      <td>1.50</td>\n",
       "      <td>16</td>\n",
       "      <td>39226.000000</td>\n",
       "      <td>10.000000</td>\n",
       "    </tr>\n",
       "    <tr>\n",
       "      <th>1</th>\n",
       "      <td>1120748</td>\n",
       "      <td>{'view': 1}</td>\n",
       "      <td>4.05</td>\n",
       "      <td>4.050000</td>\n",
       "      <td>1</td>\n",
       "      <td>2019-11-04 15:28:57+00:00</td>\n",
       "      <td>2019-11-04 15:28:57+00:00</td>\n",
       "      <td>0</td>\n",
       "      <td>1</td>\n",
       "      <td>0.0</td>\n",
       "      <td>...</td>\n",
       "      <td>0</td>\n",
       "      <td>0</td>\n",
       "      <td>1</td>\n",
       "      <td>0.0</td>\n",
       "      <td>0.0</td>\n",
       "      <td>0.00</td>\n",
       "      <td>1.00</td>\n",
       "      <td>15</td>\n",
       "      <td>31120.000000</td>\n",
       "      <td>4.050000</td>\n",
       "    </tr>\n",
       "    <tr>\n",
       "      <th>2</th>\n",
       "      <td>1180452</td>\n",
       "      <td>{'view': 1}</td>\n",
       "      <td>25.40</td>\n",
       "      <td>25.400000</td>\n",
       "      <td>1</td>\n",
       "      <td>2019-12-28 14:32:56+00:00</td>\n",
       "      <td>2019-12-28 14:32:56+00:00</td>\n",
       "      <td>0</td>\n",
       "      <td>1</td>\n",
       "      <td>0.0</td>\n",
       "      <td>...</td>\n",
       "      <td>0</td>\n",
       "      <td>0</td>\n",
       "      <td>1</td>\n",
       "      <td>0.0</td>\n",
       "      <td>0.0</td>\n",
       "      <td>0.00</td>\n",
       "      <td>1.00</td>\n",
       "      <td>14</td>\n",
       "      <td>119609.000000</td>\n",
       "      <td>25.400000</td>\n",
       "    </tr>\n",
       "    <tr>\n",
       "      <th>3</th>\n",
       "      <td>1458813</td>\n",
       "      <td>{'view': 29}</td>\n",
       "      <td>159.36</td>\n",
       "      <td>5.495172</td>\n",
       "      <td>4</td>\n",
       "      <td>2019-11-19 09:56:09+00:00</td>\n",
       "      <td>2019-11-21 06:02:40+00:00</td>\n",
       "      <td>0</td>\n",
       "      <td>5</td>\n",
       "      <td>0.0</td>\n",
       "      <td>...</td>\n",
       "      <td>0</td>\n",
       "      <td>0</td>\n",
       "      <td>29</td>\n",
       "      <td>0.0</td>\n",
       "      <td>0.0</td>\n",
       "      <td>947.25</td>\n",
       "      <td>7.25</td>\n",
       "      <td>12</td>\n",
       "      <td>71265.448276</td>\n",
       "      <td>5.495172</td>\n",
       "    </tr>\n",
       "    <tr>\n",
       "      <th>4</th>\n",
       "      <td>2038666</td>\n",
       "      <td>{'view': 1}</td>\n",
       "      <td>25.38</td>\n",
       "      <td>25.380000</td>\n",
       "      <td>1</td>\n",
       "      <td>2020-02-16 13:19:37+00:00</td>\n",
       "      <td>2020-02-16 13:19:37+00:00</td>\n",
       "      <td>0</td>\n",
       "      <td>1</td>\n",
       "      <td>0.0</td>\n",
       "      <td>...</td>\n",
       "      <td>0</td>\n",
       "      <td>0</td>\n",
       "      <td>1</td>\n",
       "      <td>0.0</td>\n",
       "      <td>0.0</td>\n",
       "      <td>0.00</td>\n",
       "      <td>1.00</td>\n",
       "      <td>13</td>\n",
       "      <td>28437.000000</td>\n",
       "      <td>25.380000</td>\n",
       "    </tr>\n",
       "  </tbody>\n",
       "</table>\n",
       "<p>5 rows × 25 columns</p>\n",
       "</div>"
      ],
      "text/plain": [
       "   user_id  event_counts  total_interaction_price  avg_interaction_price  \\\n",
       "0   465496   {'view': 3}                    30.00              10.000000   \n",
       "1  1120748   {'view': 1}                     4.05               4.050000   \n",
       "2  1180452   {'view': 1}                    25.40              25.400000   \n",
       "3  1458813  {'view': 29}                   159.36               5.495172   \n",
       "4  2038666   {'view': 1}                    25.38              25.380000   \n",
       "\n",
       "   session_count               first_event                last_event  \\\n",
       "0              2 2020-01-14 16:15:21+00:00 2020-01-14 16:27:31+00:00   \n",
       "1              1 2019-11-04 15:28:57+00:00 2019-11-04 15:28:57+00:00   \n",
       "2              1 2019-12-28 14:32:56+00:00 2019-12-28 14:32:56+00:00   \n",
       "3              4 2019-11-19 09:56:09+00:00 2019-11-21 06:02:40+00:00   \n",
       "4              1 2020-02-16 13:19:37+00:00 2020-02-16 13:19:37+00:00   \n",
       "\n",
       "   purchase_count  category_diversity  monetary  ...  cart_count  \\\n",
       "0               0                   1       0.0  ...           0   \n",
       "1               0                   1       0.0  ...           0   \n",
       "2               0                   1       0.0  ...           0   \n",
       "3               0                   5       0.0  ...           0   \n",
       "4               0                   1       0.0  ...           0   \n",
       "\n",
       "   purchase_event_count  total_events  conversion_rate  cart_abandonment_rate  \\\n",
       "0                     0             3              0.0                    0.0   \n",
       "1                     0             1              0.0                    0.0   \n",
       "2                     0             1              0.0                    0.0   \n",
       "3                     0            29              0.0                    0.0   \n",
       "4                     0             1              0.0                    0.0   \n",
       "\n",
       "   avg_session_duration  avg_events_per_session  most_common_hour  \\\n",
       "0                 58.00                    1.50                16   \n",
       "1                  0.00                    1.00                15   \n",
       "2                  0.00                    1.00                14   \n",
       "3                947.25                    7.25                12   \n",
       "4                  0.00                    1.00                13   \n",
       "\n",
       "   avg_category_freq  avg_view_price  \n",
       "0       39226.000000       10.000000  \n",
       "1       31120.000000        4.050000  \n",
       "2      119609.000000       25.400000  \n",
       "3       71265.448276        5.495172  \n",
       "4       28437.000000       25.380000  \n",
       "\n",
       "[5 rows x 25 columns]"
      ]
     },
     "execution_count": 93,
     "metadata": {},
     "output_type": "execute_result"
    }
   ],
   "source": [
    "user_agg = pd.merge(user_agg,view_prices,on='user_id',how ='left')\n",
    "user_agg.head()"
   ]
  },
  {
   "cell_type": "code",
   "execution_count": 94,
   "metadata": {
    "colab": {
     "base_uri": "https://localhost:8080/"
    },
    "execution": {
     "iopub.execute_input": "2025-07-03T16:07:29.538545Z",
     "iopub.status.busy": "2025-07-03T16:07:29.538293Z",
     "iopub.status.idle": "2025-07-03T16:07:29.544752Z",
     "shell.execute_reply": "2025-07-03T16:07:29.543856Z",
     "shell.execute_reply.started": "2025-07-03T16:07:29.538523Z"
    },
    "id": "othp_XGswLYR",
    "outputId": "f2e6c79f-60fd-406d-9402-5dea4a2d17fe",
    "trusted": true
   },
   "outputs": [
    {
     "data": {
      "text/plain": [
       "Index(['user_id', 'event_counts', 'total_interaction_price',\n",
       "       'avg_interaction_price', 'session_count', ' first_event', 'last_event',\n",
       "       'purchase_count', 'category_diversity', 'monetary',\n",
       "       'avg_purchase_price', 'recency', 'frequency', 'view_count',\n",
       "       'remove_count', 'cart_count', 'purchase_event_count', 'total_events',\n",
       "       'conversion_rate', 'cart_abandonment_rate', 'avg_session_duration',\n",
       "       'avg_events_per_session', 'most_common_hour', 'avg_category_freq',\n",
       "       'avg_view_price'],\n",
       "      dtype='object')"
      ]
     },
     "execution_count": 94,
     "metadata": {},
     "output_type": "execute_result"
    }
   ],
   "source": [
    "user_agg.columns"
   ]
  },
  {
   "cell_type": "code",
   "execution_count": 95,
   "metadata": {
    "colab": {
     "base_uri": "https://localhost:8080/",
     "height": 837
    },
    "execution": {
     "iopub.execute_input": "2025-07-03T16:07:29.546136Z",
     "iopub.status.busy": "2025-07-03T16:07:29.545784Z",
     "iopub.status.idle": "2025-07-03T16:07:29.752430Z",
     "shell.execute_reply": "2025-07-03T16:07:29.751452Z",
     "shell.execute_reply.started": "2025-07-03T16:07:29.546104Z"
    },
    "id": "a5yQlT5EwLUT",
    "outputId": "c2f58a9a-3cde-4c00-aa4a-c18c9ff974b1",
    "trusted": true
   },
   "outputs": [
    {
     "data": {
      "text/plain": [
       "user_id                        0\n",
       "event_counts                   0\n",
       "total_interaction_price        0\n",
       "avg_interaction_price          0\n",
       "session_count                  0\n",
       " first_event                   0\n",
       "last_event                     0\n",
       "purchase_count                 0\n",
       "category_diversity             0\n",
       "monetary                       0\n",
       "avg_purchase_price             0\n",
       "recency                        0\n",
       "frequency                      0\n",
       "view_count                     0\n",
       "remove_count                   0\n",
       "cart_count                     0\n",
       "purchase_event_count           0\n",
       "total_events                   0\n",
       "conversion_rate                0\n",
       "cart_abandonment_rate          0\n",
       "avg_session_duration           0\n",
       "avg_events_per_session         0\n",
       "most_common_hour               0\n",
       "avg_category_freq              0\n",
       "avg_view_price             41411\n",
       "dtype: int64"
      ]
     },
     "execution_count": 95,
     "metadata": {},
     "output_type": "execute_result"
    }
   ],
   "source": [
    "user_agg.isna().sum()"
   ]
  },
  {
   "cell_type": "markdown",
   "metadata": {},
   "source": [
    "# so based on this avg_view_price column is null for records which has no \"view\" as the event type. hence imputing it with value 0"
   ]
  },
  {
   "cell_type": "code",
   "execution_count": 96,
   "metadata": {
    "execution": {
     "iopub.execute_input": "2025-07-03T16:07:29.756448Z",
     "iopub.status.busy": "2025-07-03T16:07:29.756095Z",
     "iopub.status.idle": "2025-07-03T16:07:29.762313Z",
     "shell.execute_reply": "2025-07-03T16:07:29.761417Z",
     "shell.execute_reply.started": "2025-07-03T16:07:29.756423Z"
    },
    "trusted": true
   },
   "outputs": [
    {
     "data": {
      "text/plain": [
       "Index(['user_id', 'event_counts', 'total_interaction_price',\n",
       "       'avg_interaction_price', 'session_count', ' first_event', 'last_event',\n",
       "       'purchase_count', 'category_diversity', 'monetary',\n",
       "       'avg_purchase_price', 'recency', 'frequency', 'view_count',\n",
       "       'remove_count', 'cart_count', 'purchase_event_count', 'total_events',\n",
       "       'conversion_rate', 'cart_abandonment_rate', 'avg_session_duration',\n",
       "       'avg_events_per_session', 'most_common_hour', 'avg_category_freq',\n",
       "       'avg_view_price'],\n",
       "      dtype='object')"
      ]
     },
     "execution_count": 96,
     "metadata": {},
     "output_type": "execute_result"
    }
   ],
   "source": [
    "user_agg.columns"
   ]
  },
  {
   "cell_type": "code",
   "execution_count": 97,
   "metadata": {
    "execution": {
     "iopub.execute_input": "2025-07-03T16:07:29.763786Z",
     "iopub.status.busy": "2025-07-03T16:07:29.763190Z",
     "iopub.status.idle": "2025-07-03T16:07:29.794530Z",
     "shell.execute_reply": "2025-07-03T16:07:29.793567Z",
     "shell.execute_reply.started": "2025-07-03T16:07:29.763763Z"
    },
    "trusted": true
   },
   "outputs": [],
   "source": [
    "user_agg['avg_view_price'] = user_agg['avg_view_price'].fillna(0)"
   ]
  },
  {
   "cell_type": "code",
   "execution_count": 98,
   "metadata": {
    "execution": {
     "iopub.execute_input": "2025-07-03T16:07:29.795773Z",
     "iopub.status.busy": "2025-07-03T16:07:29.795504Z",
     "iopub.status.idle": "2025-07-03T16:07:29.799912Z",
     "shell.execute_reply": "2025-07-03T16:07:29.799001Z",
     "shell.execute_reply.started": "2025-07-03T16:07:29.795743Z"
    },
    "id": "u2AKLq6kwLRo",
    "trusted": true
   },
   "outputs": [],
   "source": [
    "pd.set_option('display.max_columns', None)"
   ]
  },
  {
   "cell_type": "code",
   "execution_count": 99,
   "metadata": {
    "execution": {
     "iopub.execute_input": "2025-07-03T16:07:29.801103Z",
     "iopub.status.busy": "2025-07-03T16:07:29.800780Z",
     "iopub.status.idle": "2025-07-03T16:07:29.830564Z",
     "shell.execute_reply": "2025-07-03T16:07:29.829543Z",
     "shell.execute_reply.started": "2025-07-03T16:07:29.801074Z"
    },
    "id": "yL5A44k8wbL7",
    "trusted": true
   },
   "outputs": [],
   "source": [
    "user_agg['price_ratio'] = user_agg['avg_purchase_price'] / (user_agg['avg_view_price']+ 1e-6)"
   ]
  },
  {
   "cell_type": "code",
   "execution_count": 100,
   "metadata": {
    "colab": {
     "base_uri": "https://localhost:8080/",
     "height": 868
    },
    "execution": {
     "iopub.execute_input": "2025-07-03T16:07:29.832087Z",
     "iopub.status.busy": "2025-07-03T16:07:29.831775Z",
     "iopub.status.idle": "2025-07-03T16:07:30.051841Z",
     "shell.execute_reply": "2025-07-03T16:07:30.051159Z",
     "shell.execute_reply.started": "2025-07-03T16:07:29.832063Z"
    },
    "id": "wmKUeLQIwbJH",
    "outputId": "921e6f31-73ce-4efd-b493-b109ae779029",
    "trusted": true
   },
   "outputs": [
    {
     "data": {
      "text/plain": [
       "user_id                    0\n",
       "event_counts               0\n",
       "total_interaction_price    0\n",
       "avg_interaction_price      0\n",
       "session_count              0\n",
       " first_event               0\n",
       "last_event                 0\n",
       "purchase_count             0\n",
       "category_diversity         0\n",
       "monetary                   0\n",
       "avg_purchase_price         0\n",
       "recency                    0\n",
       "frequency                  0\n",
       "view_count                 0\n",
       "remove_count               0\n",
       "cart_count                 0\n",
       "purchase_event_count       0\n",
       "total_events               0\n",
       "conversion_rate            0\n",
       "cart_abandonment_rate      0\n",
       "avg_session_duration       0\n",
       "avg_events_per_session     0\n",
       "most_common_hour           0\n",
       "avg_category_freq          0\n",
       "avg_view_price             0\n",
       "price_ratio                0\n",
       "dtype: int64"
      ]
     },
     "execution_count": 100,
     "metadata": {},
     "output_type": "execute_result"
    }
   ],
   "source": [
    "user_agg.isna().sum()"
   ]
  },
  {
   "cell_type": "code",
   "execution_count": 101,
   "metadata": {
    "colab": {
     "base_uri": "https://localhost:8080/"
    },
    "execution": {
     "iopub.execute_input": "2025-07-03T16:07:30.052839Z",
     "iopub.status.busy": "2025-07-03T16:07:30.052637Z",
     "iopub.status.idle": "2025-07-03T16:07:30.059069Z",
     "shell.execute_reply": "2025-07-03T16:07:30.058244Z",
     "shell.execute_reply.started": "2025-07-03T16:07:30.052822Z"
    },
    "id": "LdTKiRJ1wbC1",
    "outputId": "a6a0c0a9-e1d4-4ad2-b923-e51529d31ce0",
    "trusted": true
   },
   "outputs": [
    {
     "data": {
      "text/plain": [
       "Index(['user_id', 'event_counts', 'total_interaction_price',\n",
       "       'avg_interaction_price', 'session_count', ' first_event', 'last_event',\n",
       "       'purchase_count', 'category_diversity', 'monetary',\n",
       "       'avg_purchase_price', 'recency', 'frequency', 'view_count',\n",
       "       'remove_count', 'cart_count', 'purchase_event_count', 'total_events',\n",
       "       'conversion_rate', 'cart_abandonment_rate', 'avg_session_duration',\n",
       "       'avg_events_per_session', 'most_common_hour', 'avg_category_freq',\n",
       "       'avg_view_price', 'price_ratio'],\n",
       "      dtype='object')"
      ]
     },
     "execution_count": 101,
     "metadata": {},
     "output_type": "execute_result"
    }
   ],
   "source": [
    "user_agg.columns"
   ]
  },
  {
   "cell_type": "code",
   "execution_count": 102,
   "metadata": {
    "colab": {
     "base_uri": "https://localhost:8080/",
     "height": 167
    },
    "execution": {
     "iopub.execute_input": "2025-07-03T16:07:30.060396Z",
     "iopub.status.busy": "2025-07-03T16:07:30.060056Z",
     "iopub.status.idle": "2025-07-03T16:07:30.087945Z",
     "shell.execute_reply": "2025-07-03T16:07:30.086918Z",
     "shell.execute_reply.started": "2025-07-03T16:07:30.060366Z"
    },
    "id": "t5i-ZIGtwbAZ",
    "outputId": "f3e1348f-6f55-42da-d961-fc6e8056c111",
    "trusted": true
   },
   "outputs": [
    {
     "data": {
      "text/html": [
       "<div>\n",
       "<style scoped>\n",
       "    .dataframe tbody tr th:only-of-type {\n",
       "        vertical-align: middle;\n",
       "    }\n",
       "\n",
       "    .dataframe tbody tr th {\n",
       "        vertical-align: top;\n",
       "    }\n",
       "\n",
       "    .dataframe thead th {\n",
       "        text-align: right;\n",
       "    }\n",
       "</style>\n",
       "<table border=\"1\" class=\"dataframe\">\n",
       "  <thead>\n",
       "    <tr style=\"text-align: right;\">\n",
       "      <th></th>\n",
       "      <th>user_id</th>\n",
       "      <th>event_counts</th>\n",
       "      <th>total_interaction_price</th>\n",
       "      <th>avg_interaction_price</th>\n",
       "      <th>session_count</th>\n",
       "      <th>first_event</th>\n",
       "      <th>last_event</th>\n",
       "      <th>purchase_count</th>\n",
       "      <th>category_diversity</th>\n",
       "      <th>monetary</th>\n",
       "      <th>avg_purchase_price</th>\n",
       "      <th>recency</th>\n",
       "      <th>frequency</th>\n",
       "      <th>view_count</th>\n",
       "      <th>remove_count</th>\n",
       "      <th>cart_count</th>\n",
       "      <th>purchase_event_count</th>\n",
       "      <th>total_events</th>\n",
       "      <th>conversion_rate</th>\n",
       "      <th>cart_abandonment_rate</th>\n",
       "      <th>avg_session_duration</th>\n",
       "      <th>avg_events_per_session</th>\n",
       "      <th>most_common_hour</th>\n",
       "      <th>avg_category_freq</th>\n",
       "      <th>avg_view_price</th>\n",
       "      <th>price_ratio</th>\n",
       "    </tr>\n",
       "  </thead>\n",
       "  <tbody>\n",
       "    <tr>\n",
       "      <th>0</th>\n",
       "      <td>465496</td>\n",
       "      <td>{'view': 3}</td>\n",
       "      <td>30.00</td>\n",
       "      <td>10.00</td>\n",
       "      <td>2</td>\n",
       "      <td>2020-01-14 16:15:21+00:00</td>\n",
       "      <td>2020-01-14 16:27:31+00:00</td>\n",
       "      <td>0</td>\n",
       "      <td>1</td>\n",
       "      <td>0.0</td>\n",
       "      <td>0.0</td>\n",
       "      <td>46</td>\n",
       "      <td>2</td>\n",
       "      <td>3</td>\n",
       "      <td>0</td>\n",
       "      <td>0</td>\n",
       "      <td>0</td>\n",
       "      <td>3</td>\n",
       "      <td>0.0</td>\n",
       "      <td>0.0</td>\n",
       "      <td>58.0</td>\n",
       "      <td>1.5</td>\n",
       "      <td>16</td>\n",
       "      <td>39226.0</td>\n",
       "      <td>10.00</td>\n",
       "      <td>0.0</td>\n",
       "    </tr>\n",
       "    <tr>\n",
       "      <th>1</th>\n",
       "      <td>1120748</td>\n",
       "      <td>{'view': 1}</td>\n",
       "      <td>4.05</td>\n",
       "      <td>4.05</td>\n",
       "      <td>1</td>\n",
       "      <td>2019-11-04 15:28:57+00:00</td>\n",
       "      <td>2019-11-04 15:28:57+00:00</td>\n",
       "      <td>0</td>\n",
       "      <td>1</td>\n",
       "      <td>0.0</td>\n",
       "      <td>0.0</td>\n",
       "      <td>117</td>\n",
       "      <td>1</td>\n",
       "      <td>1</td>\n",
       "      <td>0</td>\n",
       "      <td>0</td>\n",
       "      <td>0</td>\n",
       "      <td>1</td>\n",
       "      <td>0.0</td>\n",
       "      <td>0.0</td>\n",
       "      <td>0.0</td>\n",
       "      <td>1.0</td>\n",
       "      <td>15</td>\n",
       "      <td>31120.0</td>\n",
       "      <td>4.05</td>\n",
       "      <td>0.0</td>\n",
       "    </tr>\n",
       "  </tbody>\n",
       "</table>\n",
       "</div>"
      ],
      "text/plain": [
       "   user_id event_counts  total_interaction_price  avg_interaction_price  \\\n",
       "0   465496  {'view': 3}                    30.00                  10.00   \n",
       "1  1120748  {'view': 1}                     4.05                   4.05   \n",
       "\n",
       "   session_count               first_event                last_event  \\\n",
       "0              2 2020-01-14 16:15:21+00:00 2020-01-14 16:27:31+00:00   \n",
       "1              1 2019-11-04 15:28:57+00:00 2019-11-04 15:28:57+00:00   \n",
       "\n",
       "   purchase_count  category_diversity  monetary  avg_purchase_price  recency  \\\n",
       "0               0                   1       0.0                 0.0       46   \n",
       "1               0                   1       0.0                 0.0      117   \n",
       "\n",
       "   frequency  view_count  remove_count  cart_count  purchase_event_count  \\\n",
       "0          2           3             0           0                     0   \n",
       "1          1           1             0           0                     0   \n",
       "\n",
       "   total_events  conversion_rate  cart_abandonment_rate  avg_session_duration  \\\n",
       "0             3              0.0                    0.0                  58.0   \n",
       "1             1              0.0                    0.0                   0.0   \n",
       "\n",
       "   avg_events_per_session  most_common_hour  avg_category_freq  \\\n",
       "0                     1.5                16            39226.0   \n",
       "1                     1.0                15            31120.0   \n",
       "\n",
       "   avg_view_price  price_ratio  \n",
       "0           10.00          0.0  \n",
       "1            4.05          0.0  "
      ]
     },
     "execution_count": 102,
     "metadata": {},
     "output_type": "execute_result"
    }
   ],
   "source": [
    "user_agg.head(2)"
   ]
  },
  {
   "cell_type": "code",
   "execution_count": 103,
   "metadata": {
    "execution": {
     "iopub.execute_input": "2025-07-03T16:18:23.969274Z",
     "iopub.status.busy": "2025-07-03T16:18:23.968938Z",
     "iopub.status.idle": "2025-07-03T16:18:23.975869Z",
     "shell.execute_reply": "2025-07-03T16:18:23.975208Z",
     "shell.execute_reply.started": "2025-07-03T16:18:23.969253Z"
    },
    "trusted": true
   },
   "outputs": [
    {
     "data": {
      "text/plain": [
       "Index(['user_id', 'event_counts', 'total_interaction_price',\n",
       "       'avg_interaction_price', 'session_count', ' first_event', 'last_event',\n",
       "       'purchase_count', 'category_diversity', 'monetary',\n",
       "       'avg_purchase_price', 'recency', 'frequency', 'view_count',\n",
       "       'remove_count', 'cart_count', 'purchase_event_count', 'total_events',\n",
       "       'conversion_rate', 'cart_abandonment_rate', 'avg_session_duration',\n",
       "       'avg_events_per_session', 'most_common_hour', 'avg_category_freq',\n",
       "       'avg_view_price', 'price_ratio'],\n",
       "      dtype='object')"
      ]
     },
     "execution_count": 103,
     "metadata": {},
     "output_type": "execute_result"
    }
   ],
   "source": [
    "user_agg.columns"
   ]
  },
  {
   "cell_type": "markdown",
   "metadata": {},
   "source": [
    "# Now removing the unwanted columns."
   ]
  },
  {
   "cell_type": "code",
   "execution_count": 104,
   "metadata": {
    "execution": {
     "iopub.execute_input": "2025-07-03T16:18:37.120809Z",
     "iopub.status.busy": "2025-07-03T16:18:37.120195Z",
     "iopub.status.idle": "2025-07-03T16:18:37.267979Z",
     "shell.execute_reply": "2025-07-03T16:18:37.267139Z",
     "shell.execute_reply.started": "2025-07-03T16:18:37.120780Z"
    },
    "trusted": true
   },
   "outputs": [
    {
     "data": {
      "text/html": [
       "<div>\n",
       "<style scoped>\n",
       "    .dataframe tbody tr th:only-of-type {\n",
       "        vertical-align: middle;\n",
       "    }\n",
       "\n",
       "    .dataframe tbody tr th {\n",
       "        vertical-align: top;\n",
       "    }\n",
       "\n",
       "    .dataframe thead th {\n",
       "        text-align: right;\n",
       "    }\n",
       "</style>\n",
       "<table border=\"1\" class=\"dataframe\">\n",
       "  <thead>\n",
       "    <tr style=\"text-align: right;\">\n",
       "      <th></th>\n",
       "      <th>user_id</th>\n",
       "      <th>total_interaction_price</th>\n",
       "      <th>avg_interaction_price</th>\n",
       "      <th>session_count</th>\n",
       "      <th>purchase_count</th>\n",
       "      <th>category_diversity</th>\n",
       "      <th>monetary</th>\n",
       "      <th>avg_purchase_price</th>\n",
       "      <th>recency</th>\n",
       "      <th>frequency</th>\n",
       "      <th>view_count</th>\n",
       "      <th>remove_count</th>\n",
       "      <th>cart_count</th>\n",
       "      <th>purchase_event_count</th>\n",
       "      <th>total_events</th>\n",
       "      <th>conversion_rate</th>\n",
       "      <th>cart_abandonment_rate</th>\n",
       "      <th>avg_session_duration</th>\n",
       "      <th>avg_events_per_session</th>\n",
       "      <th>most_common_hour</th>\n",
       "      <th>avg_category_freq</th>\n",
       "      <th>avg_view_price</th>\n",
       "      <th>price_ratio</th>\n",
       "    </tr>\n",
       "  </thead>\n",
       "  <tbody>\n",
       "    <tr>\n",
       "      <th>0</th>\n",
       "      <td>465496</td>\n",
       "      <td>30.00</td>\n",
       "      <td>10.00</td>\n",
       "      <td>2</td>\n",
       "      <td>0</td>\n",
       "      <td>1</td>\n",
       "      <td>0.0</td>\n",
       "      <td>0.0</td>\n",
       "      <td>46</td>\n",
       "      <td>2</td>\n",
       "      <td>3</td>\n",
       "      <td>0</td>\n",
       "      <td>0</td>\n",
       "      <td>0</td>\n",
       "      <td>3</td>\n",
       "      <td>0.0</td>\n",
       "      <td>0.0</td>\n",
       "      <td>58.0</td>\n",
       "      <td>1.5</td>\n",
       "      <td>16</td>\n",
       "      <td>39226.0</td>\n",
       "      <td>10.00</td>\n",
       "      <td>0.0</td>\n",
       "    </tr>\n",
       "    <tr>\n",
       "      <th>1</th>\n",
       "      <td>1120748</td>\n",
       "      <td>4.05</td>\n",
       "      <td>4.05</td>\n",
       "      <td>1</td>\n",
       "      <td>0</td>\n",
       "      <td>1</td>\n",
       "      <td>0.0</td>\n",
       "      <td>0.0</td>\n",
       "      <td>117</td>\n",
       "      <td>1</td>\n",
       "      <td>1</td>\n",
       "      <td>0</td>\n",
       "      <td>0</td>\n",
       "      <td>0</td>\n",
       "      <td>1</td>\n",
       "      <td>0.0</td>\n",
       "      <td>0.0</td>\n",
       "      <td>0.0</td>\n",
       "      <td>1.0</td>\n",
       "      <td>15</td>\n",
       "      <td>31120.0</td>\n",
       "      <td>4.05</td>\n",
       "      <td>0.0</td>\n",
       "    </tr>\n",
       "  </tbody>\n",
       "</table>\n",
       "</div>"
      ],
      "text/plain": [
       "   user_id  total_interaction_price  avg_interaction_price  session_count  \\\n",
       "0   465496                    30.00                  10.00              2   \n",
       "1  1120748                     4.05                   4.05              1   \n",
       "\n",
       "   purchase_count  category_diversity  monetary  avg_purchase_price  recency  \\\n",
       "0               0                   1       0.0                 0.0       46   \n",
       "1               0                   1       0.0                 0.0      117   \n",
       "\n",
       "   frequency  view_count  remove_count  cart_count  purchase_event_count  \\\n",
       "0          2           3             0           0                     0   \n",
       "1          1           1             0           0                     0   \n",
       "\n",
       "   total_events  conversion_rate  cart_abandonment_rate  avg_session_duration  \\\n",
       "0             3              0.0                    0.0                  58.0   \n",
       "1             1              0.0                    0.0                   0.0   \n",
       "\n",
       "   avg_events_per_session  most_common_hour  avg_category_freq  \\\n",
       "0                     1.5                16            39226.0   \n",
       "1                     1.0                15            31120.0   \n",
       "\n",
       "   avg_view_price  price_ratio  \n",
       "0           10.00          0.0  \n",
       "1            4.05          0.0  "
      ]
     },
     "execution_count": 104,
     "metadata": {},
     "output_type": "execute_result"
    }
   ],
   "source": [
    "# user_agg_final = user_agg.drop(columns = ['user_id','event_counts',' first_event','last_event'] , axis = 0)\n",
    "user_agg_final = user_agg.drop(columns = ['event_counts',' first_event','last_event'] , axis = 0)\n",
    "\n",
    "user_agg_final.head(2)"
   ]
  },
  {
   "cell_type": "code",
   "execution_count": 105,
   "metadata": {
    "execution": {
     "iopub.execute_input": "2025-07-03T16:18:38.568107Z",
     "iopub.status.busy": "2025-07-03T16:18:38.567771Z",
     "iopub.status.idle": "2025-07-03T16:18:38.573801Z",
     "shell.execute_reply": "2025-07-03T16:18:38.573081Z",
     "shell.execute_reply.started": "2025-07-03T16:18:38.568081Z"
    },
    "trusted": true
   },
   "outputs": [
    {
     "data": {
      "text/plain": [
       "(1637770, 23)"
      ]
     },
     "execution_count": 105,
     "metadata": {},
     "output_type": "execute_result"
    }
   ],
   "source": [
    "user_agg_final.shape"
   ]
  },
  {
   "cell_type": "markdown",
   "metadata": {
    "id": "CqYKdlsNBWwA"
   },
   "source": [
    "# Checking vif using all numerical sensible variables"
   ]
  },
  {
   "cell_type": "code",
   "execution_count": 113,
   "metadata": {
    "execution": {
     "iopub.execute_input": "2025-06-27T14:08:41.769262Z",
     "iopub.status.busy": "2025-06-27T14:08:41.768996Z",
     "iopub.status.idle": "2025-06-27T14:08:41.774451Z",
     "shell.execute_reply": "2025-06-27T14:08:41.773230Z",
     "shell.execute_reply.started": "2025-06-27T14:08:41.769241Z"
    },
    "id": "mdaNQ6HBwa93",
    "trusted": true
   },
   "outputs": [],
   "source": [
    "features = ['total_spend', 'avg_price', 'session_count',\n",
    "        'purchase_count', 'category_diversity',\n",
    "       'recency', 'frequency', 'monetary', 'view_count', 'remove_count',\n",
    "       'cart_count','purchase_event_count', 'total_events', 'conversion_rate',\n",
    "       'cart_abandonment_rate', 'avg_session_duration',\n",
    "       'avg_events_per_session', 'most_common_hour', 'avg_category_freq',\n",
    "       'avg_view_price', 'price_ratio']"
   ]
  },
  {
   "cell_type": "code",
   "execution_count": null,
   "metadata": {
    "colab": {
     "base_uri": "https://localhost:8080/",
     "height": 1000
    },
    "execution": {
     "execution_failed": "2025-06-27T18:17:22.303Z",
     "iopub.execute_input": "2025-06-27T14:08:43.337212Z",
     "iopub.status.busy": "2025-06-27T14:08:43.336928Z",
     "iopub.status.idle": "2025-06-27T14:08:45.854159Z"
    },
    "id": "EqgaMbh9wa7A",
    "outputId": "37f8ff4f-5f4f-4db3-e6a2-28760901c9b5",
    "trusted": true
   },
   "outputs": [],
   "source": [
    "mat = user_agg[features].corr()\n",
    "mask = np.triu(mat)\n",
    "plt.figure(figsize=(18,15))\n",
    "sns.heatmap(mat, cmap='Blues', annot=True,mask=mask)\n",
    "plt.show()"
   ]
  },
  {
   "cell_type": "code",
   "execution_count": 115,
   "metadata": {
    "execution": {
     "iopub.execute_input": "2025-06-27T14:08:45.855317Z",
     "iopub.status.busy": "2025-06-27T14:08:45.855074Z",
     "iopub.status.idle": "2025-06-27T14:08:45.927841Z",
     "shell.execute_reply": "2025-06-27T14:08:45.926976Z",
     "shell.execute_reply.started": "2025-06-27T14:08:45.855299Z"
    },
    "id": "kLuEfVefwa4U",
    "trusted": true
   },
   "outputs": [],
   "source": [
    "X= user_agg[features]"
   ]
  },
  {
   "cell_type": "code",
   "execution_count": null,
   "metadata": {
    "colab": {
     "base_uri": "https://localhost:8080/"
    },
    "execution": {
     "execution_failed": "2025-06-27T18:17:22.316Z"
    },
    "id": "Txkr-PWzway_",
    "outputId": "c18be423-6c38-4386-b0c5-399bbab9dbd5",
    "trusted": true
   },
   "outputs": [],
   "source": [
    "np.isinf(X).values.sum()"
   ]
  },
  {
   "cell_type": "code",
   "execution_count": 116,
   "metadata": {
    "colab": {
     "base_uri": "https://localhost:8080/",
     "height": 777
    },
    "execution": {
     "iopub.execute_input": "2025-06-27T14:08:48.051138Z",
     "iopub.status.busy": "2025-06-27T14:08:48.050848Z",
     "iopub.status.idle": "2025-06-27T14:09:36.102414Z",
     "shell.execute_reply": "2025-06-27T14:09:36.101629Z",
     "shell.execute_reply.started": "2025-06-27T14:08:48.051105Z"
    },
    "id": "S-QpIa9dwt22",
    "outputId": "02d152dd-674c-46a8-d2a3-3f8e944063b1",
    "trusted": true
   },
   "outputs": [
    {
     "name": "stderr",
     "output_type": "stream",
     "text": [
      "/usr/local/lib/python3.11/dist-packages/statsmodels/stats/outliers_influence.py:197: RuntimeWarning:\n",
      "\n",
      "divide by zero encountered in scalar divide\n",
      "\n"
     ]
    },
    {
     "data": {
      "text/html": [
       "<div>\n",
       "<style scoped>\n",
       "    .dataframe tbody tr th:only-of-type {\n",
       "        vertical-align: middle;\n",
       "    }\n",
       "\n",
       "    .dataframe tbody tr th {\n",
       "        vertical-align: top;\n",
       "    }\n",
       "\n",
       "    .dataframe thead th {\n",
       "        text-align: right;\n",
       "    }\n",
       "</style>\n",
       "<table border=\"1\" class=\"dataframe\">\n",
       "  <thead>\n",
       "    <tr style=\"text-align: right;\">\n",
       "      <th></th>\n",
       "      <th>features</th>\n",
       "      <th>VIF</th>\n",
       "    </tr>\n",
       "  </thead>\n",
       "  <tbody>\n",
       "    <tr>\n",
       "      <th>0</th>\n",
       "      <td>total_spend</td>\n",
       "      <td>inf</td>\n",
       "    </tr>\n",
       "    <tr>\n",
       "      <th>1</th>\n",
       "      <td>avg_price</td>\n",
       "      <td>80.793866</td>\n",
       "    </tr>\n",
       "    <tr>\n",
       "      <th>2</th>\n",
       "      <td>session_count</td>\n",
       "      <td>inf</td>\n",
       "    </tr>\n",
       "    <tr>\n",
       "      <th>3</th>\n",
       "      <td>purchase_count</td>\n",
       "      <td>inf</td>\n",
       "    </tr>\n",
       "    <tr>\n",
       "      <th>4</th>\n",
       "      <td>category_diversity</td>\n",
       "      <td>3.550452</td>\n",
       "    </tr>\n",
       "    <tr>\n",
       "      <th>5</th>\n",
       "      <td>recency</td>\n",
       "      <td>2.576960</td>\n",
       "    </tr>\n",
       "    <tr>\n",
       "      <th>6</th>\n",
       "      <td>frequency</td>\n",
       "      <td>inf</td>\n",
       "    </tr>\n",
       "    <tr>\n",
       "      <th>7</th>\n",
       "      <td>monetary</td>\n",
       "      <td>inf</td>\n",
       "    </tr>\n",
       "    <tr>\n",
       "      <th>8</th>\n",
       "      <td>view_count</td>\n",
       "      <td>inf</td>\n",
       "    </tr>\n",
       "    <tr>\n",
       "      <th>9</th>\n",
       "      <td>remove_count</td>\n",
       "      <td>inf</td>\n",
       "    </tr>\n",
       "    <tr>\n",
       "      <th>10</th>\n",
       "      <td>cart_count</td>\n",
       "      <td>inf</td>\n",
       "    </tr>\n",
       "    <tr>\n",
       "      <th>11</th>\n",
       "      <td>purchase_event_count</td>\n",
       "      <td>inf</td>\n",
       "    </tr>\n",
       "    <tr>\n",
       "      <th>12</th>\n",
       "      <td>total_events</td>\n",
       "      <td>inf</td>\n",
       "    </tr>\n",
       "    <tr>\n",
       "      <th>13</th>\n",
       "      <td>conversion_rate</td>\n",
       "      <td>1.390118</td>\n",
       "    </tr>\n",
       "    <tr>\n",
       "      <th>14</th>\n",
       "      <td>cart_abandonment_rate</td>\n",
       "      <td>1.006383</td>\n",
       "    </tr>\n",
       "    <tr>\n",
       "      <th>15</th>\n",
       "      <td>avg_session_duration</td>\n",
       "      <td>1.086235</td>\n",
       "    </tr>\n",
       "    <tr>\n",
       "      <th>16</th>\n",
       "      <td>avg_events_per_session</td>\n",
       "      <td>1.342561</td>\n",
       "    </tr>\n",
       "    <tr>\n",
       "      <th>17</th>\n",
       "      <td>most_common_hour</td>\n",
       "      <td>3.175588</td>\n",
       "    </tr>\n",
       "    <tr>\n",
       "      <th>18</th>\n",
       "      <td>avg_category_freq</td>\n",
       "      <td>1.857171</td>\n",
       "    </tr>\n",
       "    <tr>\n",
       "      <th>19</th>\n",
       "      <td>avg_view_price</td>\n",
       "      <td>81.018431</td>\n",
       "    </tr>\n",
       "    <tr>\n",
       "      <th>20</th>\n",
       "      <td>price_ratio</td>\n",
       "      <td>1.712351</td>\n",
       "    </tr>\n",
       "  </tbody>\n",
       "</table>\n",
       "</div>"
      ],
      "text/plain": [
       "                  features        VIF\n",
       "0              total_spend        inf\n",
       "1                avg_price  80.793866\n",
       "2            session_count        inf\n",
       "3           purchase_count        inf\n",
       "4       category_diversity   3.550452\n",
       "5                  recency   2.576960\n",
       "6                frequency        inf\n",
       "7                 monetary        inf\n",
       "8               view_count        inf\n",
       "9             remove_count        inf\n",
       "10              cart_count        inf\n",
       "11    purchase_event_count        inf\n",
       "12            total_events        inf\n",
       "13         conversion_rate   1.390118\n",
       "14   cart_abandonment_rate   1.006383\n",
       "15    avg_session_duration   1.086235\n",
       "16  avg_events_per_session   1.342561\n",
       "17        most_common_hour   3.175588\n",
       "18       avg_category_freq   1.857171\n",
       "19          avg_view_price  81.018431\n",
       "20             price_ratio   1.712351"
      ]
     },
     "execution_count": 116,
     "metadata": {},
     "output_type": "execute_result"
    }
   ],
   "source": [
    "\n",
    "from statsmodels.stats.outliers_influence import variance_inflation_factor\n",
    "vif_df= pd.DataFrame()\n",
    "vif_df['features'] = X.columns\n",
    "vif_df['VIF'] = [variance_inflation_factor(X.values,i) for i in range(len(X.columns))]\n",
    "vif_df"
   ]
  },
  {
   "cell_type": "markdown",
   "metadata": {
    "id": "wv67WPXbBcvf"
   },
   "source": [
    "# Checking Vif using version1 columns"
   ]
  },
  {
   "cell_type": "code",
   "execution_count": 117,
   "metadata": {
    "execution": {
     "iopub.execute_input": "2025-06-27T14:09:36.103745Z",
     "iopub.status.busy": "2025-06-27T14:09:36.103514Z",
     "iopub.status.idle": "2025-06-27T14:09:36.107846Z",
     "shell.execute_reply": "2025-06-27T14:09:36.106546Z",
     "shell.execute_reply.started": "2025-06-27T14:09:36.103726Z"
    },
    "id": "gJwnbT4Jwtzu",
    "trusted": true
   },
   "outputs": [],
   "source": [
    "version1 = [\n",
    "    'recency', 'frequency', 'monetary', 'conversion_rate',\n",
    "    'cart_abandonment_rate', 'avg_session_duration', 'category_diversity'\n",
    "]"
   ]
  },
  {
   "cell_type": "code",
   "execution_count": 118,
   "metadata": {
    "execution": {
     "iopub.execute_input": "2025-06-27T14:09:36.108901Z",
     "iopub.status.busy": "2025-06-27T14:09:36.108612Z",
     "iopub.status.idle": "2025-06-27T14:09:36.146022Z",
     "shell.execute_reply": "2025-06-27T14:09:36.145341Z",
     "shell.execute_reply.started": "2025-06-27T14:09:36.108882Z"
    },
    "id": "5x7cG_oFwtxQ",
    "trusted": true
   },
   "outputs": [],
   "source": [
    "X1= user_agg[version1]"
   ]
  },
  {
   "cell_type": "code",
   "execution_count": 119,
   "metadata": {
    "colab": {
     "base_uri": "https://localhost:8080/",
     "height": 269
    },
    "execution": {
     "iopub.execute_input": "2025-06-27T14:09:36.147362Z",
     "iopub.status.busy": "2025-06-27T14:09:36.147186Z",
     "iopub.status.idle": "2025-06-27T14:09:39.714066Z",
     "shell.execute_reply": "2025-06-27T14:09:39.713380Z",
     "shell.execute_reply.started": "2025-06-27T14:09:36.147345Z"
    },
    "id": "05xjcmd_wtuf",
    "outputId": "f20b3cb3-6129-4c17-b1f2-52a59ec09a4c",
    "trusted": true
   },
   "outputs": [
    {
     "data": {
      "text/html": [
       "<div>\n",
       "<style scoped>\n",
       "    .dataframe tbody tr th:only-of-type {\n",
       "        vertical-align: middle;\n",
       "    }\n",
       "\n",
       "    .dataframe tbody tr th {\n",
       "        vertical-align: top;\n",
       "    }\n",
       "\n",
       "    .dataframe thead th {\n",
       "        text-align: right;\n",
       "    }\n",
       "</style>\n",
       "<table border=\"1\" class=\"dataframe\">\n",
       "  <thead>\n",
       "    <tr style=\"text-align: right;\">\n",
       "      <th></th>\n",
       "      <th>features</th>\n",
       "      <th>VIF</th>\n",
       "    </tr>\n",
       "  </thead>\n",
       "  <tbody>\n",
       "    <tr>\n",
       "      <th>0</th>\n",
       "      <td>recency</td>\n",
       "      <td>1.108701</td>\n",
       "    </tr>\n",
       "    <tr>\n",
       "      <th>1</th>\n",
       "      <td>frequency</td>\n",
       "      <td>1.363301</td>\n",
       "    </tr>\n",
       "    <tr>\n",
       "      <th>2</th>\n",
       "      <td>monetary</td>\n",
       "      <td>2.139575</td>\n",
       "    </tr>\n",
       "    <tr>\n",
       "      <th>3</th>\n",
       "      <td>conversion_rate</td>\n",
       "      <td>1.134035</td>\n",
       "    </tr>\n",
       "    <tr>\n",
       "      <th>4</th>\n",
       "      <td>cart_abandonment_rate</td>\n",
       "      <td>1.001028</td>\n",
       "    </tr>\n",
       "    <tr>\n",
       "      <th>5</th>\n",
       "      <td>avg_session_duration</td>\n",
       "      <td>1.043033</td>\n",
       "    </tr>\n",
       "    <tr>\n",
       "      <th>6</th>\n",
       "      <td>category_diversity</td>\n",
       "      <td>2.193036</td>\n",
       "    </tr>\n",
       "  </tbody>\n",
       "</table>\n",
       "</div>"
      ],
      "text/plain": [
       "                features       VIF\n",
       "0                recency  1.108701\n",
       "1              frequency  1.363301\n",
       "2               monetary  2.139575\n",
       "3        conversion_rate  1.134035\n",
       "4  cart_abandonment_rate  1.001028\n",
       "5   avg_session_duration  1.043033\n",
       "6     category_diversity  2.193036"
      ]
     },
     "execution_count": 119,
     "metadata": {},
     "output_type": "execute_result"
    }
   ],
   "source": [
    "\n",
    "vif_df1= pd.DataFrame()\n",
    "vif_df1['features'] = X1.columns\n",
    "vif_df1['VIF'] = [variance_inflation_factor(X1.values,i) for i in range(len(X1.columns))]\n",
    "vif_df1"
   ]
  },
  {
   "cell_type": "markdown",
   "metadata": {
    "id": "F2wXncN-D_ya"
   },
   "source": [
    "# Checking for Vif using version 2 columns"
   ]
  },
  {
   "cell_type": "code",
   "execution_count": 120,
   "metadata": {
    "execution": {
     "iopub.execute_input": "2025-06-27T14:09:39.714960Z",
     "iopub.status.busy": "2025-06-27T14:09:39.714722Z",
     "iopub.status.idle": "2025-06-27T14:09:39.720110Z",
     "shell.execute_reply": "2025-06-27T14:09:39.718852Z",
     "shell.execute_reply.started": "2025-06-27T14:09:39.714940Z"
    },
    "id": "YVYIj0l5D_ZS",
    "trusted": true
   },
   "outputs": [],
   "source": [
    "version2 = [\n",
    "    'recency', 'frequency', 'monetary', 'conversion_rate',\n",
    "    'cart_abandonment_rate', 'avg_session_duration', 'category_diversity',\n",
    "    'avg_category_freq', 'price_ratio'\n",
    "]"
   ]
  },
  {
   "cell_type": "code",
   "execution_count": 121,
   "metadata": {
    "execution": {
     "iopub.execute_input": "2025-06-27T14:09:39.721823Z",
     "iopub.status.busy": "2025-06-27T14:09:39.721526Z",
     "iopub.status.idle": "2025-06-27T14:09:39.768281Z",
     "shell.execute_reply": "2025-06-27T14:09:39.767015Z",
     "shell.execute_reply.started": "2025-06-27T14:09:39.721799Z"
    },
    "id": "ye2sVJZSD_Pi",
    "trusted": true
   },
   "outputs": [],
   "source": [
    "X2= user_agg[version2]"
   ]
  },
  {
   "cell_type": "code",
   "execution_count": 122,
   "metadata": {
    "colab": {
     "base_uri": "https://localhost:8080/",
     "height": 332
    },
    "execution": {
     "iopub.execute_input": "2025-06-27T14:09:39.769129Z",
     "iopub.status.busy": "2025-06-27T14:09:39.768924Z",
     "iopub.status.idle": "2025-06-27T14:09:46.393399Z",
     "shell.execute_reply": "2025-06-27T14:09:46.392467Z",
     "shell.execute_reply.started": "2025-06-27T14:09:39.769111Z"
    },
    "id": "w2ldp_2twtrg",
    "outputId": "ec97397d-9eb0-464e-9b4a-c3aacab3de90",
    "trusted": true
   },
   "outputs": [
    {
     "data": {
      "text/html": [
       "<div>\n",
       "<style scoped>\n",
       "    .dataframe tbody tr th:only-of-type {\n",
       "        vertical-align: middle;\n",
       "    }\n",
       "\n",
       "    .dataframe tbody tr th {\n",
       "        vertical-align: top;\n",
       "    }\n",
       "\n",
       "    .dataframe thead th {\n",
       "        text-align: right;\n",
       "    }\n",
       "</style>\n",
       "<table border=\"1\" class=\"dataframe\">\n",
       "  <thead>\n",
       "    <tr style=\"text-align: right;\">\n",
       "      <th></th>\n",
       "      <th>features</th>\n",
       "      <th>VIF</th>\n",
       "    </tr>\n",
       "  </thead>\n",
       "  <tbody>\n",
       "    <tr>\n",
       "      <th>0</th>\n",
       "      <td>recency</td>\n",
       "      <td>1.586491</td>\n",
       "    </tr>\n",
       "    <tr>\n",
       "      <th>1</th>\n",
       "      <td>frequency</td>\n",
       "      <td>1.363751</td>\n",
       "    </tr>\n",
       "    <tr>\n",
       "      <th>2</th>\n",
       "      <td>monetary</td>\n",
       "      <td>2.143729</td>\n",
       "    </tr>\n",
       "    <tr>\n",
       "      <th>3</th>\n",
       "      <td>conversion_rate</td>\n",
       "      <td>1.139871</td>\n",
       "    </tr>\n",
       "    <tr>\n",
       "      <th>4</th>\n",
       "      <td>cart_abandonment_rate</td>\n",
       "      <td>1.001157</td>\n",
       "    </tr>\n",
       "    <tr>\n",
       "      <th>5</th>\n",
       "      <td>avg_session_duration</td>\n",
       "      <td>1.045222</td>\n",
       "    </tr>\n",
       "    <tr>\n",
       "      <th>6</th>\n",
       "      <td>category_diversity</td>\n",
       "      <td>2.264244</td>\n",
       "    </tr>\n",
       "    <tr>\n",
       "      <th>7</th>\n",
       "      <td>avg_category_freq</td>\n",
       "      <td>1.650818</td>\n",
       "    </tr>\n",
       "    <tr>\n",
       "      <th>8</th>\n",
       "      <td>price_ratio</td>\n",
       "      <td>1.009282</td>\n",
       "    </tr>\n",
       "  </tbody>\n",
       "</table>\n",
       "</div>"
      ],
      "text/plain": [
       "                features       VIF\n",
       "0                recency  1.586491\n",
       "1              frequency  1.363751\n",
       "2               monetary  2.143729\n",
       "3        conversion_rate  1.139871\n",
       "4  cart_abandonment_rate  1.001157\n",
       "5   avg_session_duration  1.045222\n",
       "6     category_diversity  2.264244\n",
       "7      avg_category_freq  1.650818\n",
       "8            price_ratio  1.009282"
      ]
     },
     "execution_count": 122,
     "metadata": {},
     "output_type": "execute_result"
    }
   ],
   "source": [
    "\n",
    "from statsmodels.stats.outliers_influence import variance_inflation_factor\n",
    "vif_df2= pd.DataFrame()\n",
    "vif_df2['features'] = X2.columns\n",
    "vif_df2['VIF'] = [variance_inflation_factor(X2.values,i) for i in range(len(X2.columns))]\n",
    "vif_df2"
   ]
  },
  {
   "cell_type": "markdown",
   "metadata": {
    "id": "sYz1KmBYJZVE"
   },
   "source": [
    "# Checking for vif using own version3"
   ]
  },
  {
   "cell_type": "code",
   "execution_count": 123,
   "metadata": {
    "execution": {
     "iopub.execute_input": "2025-06-27T14:09:46.394509Z",
     "iopub.status.busy": "2025-06-27T14:09:46.394255Z",
     "iopub.status.idle": "2025-06-27T14:09:46.399035Z",
     "shell.execute_reply": "2025-06-27T14:09:46.397969Z",
     "shell.execute_reply.started": "2025-06-27T14:09:46.394491Z"
    },
    "id": "nG6TOtX-EyWD",
    "trusted": true
   },
   "outputs": [],
   "source": [
    "version3 = [\n",
    "         'category_diversity',\n",
    "       'recency', 'frequency', 'monetary', 'total_events', 'conversion_rate',\n",
    "       'cart_abandonment_rate', 'avg_session_duration',\n",
    "       'avg_events_per_session', 'most_common_hour', 'avg_category_freq',\n",
    "       'avg_view_price', 'price_ratio']"
   ]
  },
  {
   "cell_type": "code",
   "execution_count": 124,
   "metadata": {
    "execution": {
     "iopub.execute_input": "2025-06-27T14:09:46.400198Z",
     "iopub.status.busy": "2025-06-27T14:09:46.399980Z",
     "iopub.status.idle": "2025-06-27T14:09:46.466059Z",
     "shell.execute_reply": "2025-06-27T14:09:46.465079Z",
     "shell.execute_reply.started": "2025-06-27T14:09:46.400180Z"
    },
    "id": "abatEjo6JXdf",
    "trusted": true
   },
   "outputs": [],
   "source": [
    "X3= user_agg[version3]"
   ]
  },
  {
   "cell_type": "code",
   "execution_count": 125,
   "metadata": {
    "colab": {
     "base_uri": "https://localhost:8080/",
     "height": 457
    },
    "execution": {
     "iopub.execute_input": "2025-06-27T14:09:46.468421Z",
     "iopub.status.busy": "2025-06-27T14:09:46.468198Z",
     "iopub.status.idle": "2025-06-27T14:10:02.591062Z",
     "shell.execute_reply": "2025-06-27T14:10:02.590515Z",
     "shell.execute_reply.started": "2025-06-27T14:09:46.468406Z"
    },
    "id": "6hBy30MaJXaN",
    "outputId": "19dbb32b-88e4-4511-afbd-a1cd893042b6",
    "trusted": true
   },
   "outputs": [
    {
     "data": {
      "text/html": [
       "<div>\n",
       "<style scoped>\n",
       "    .dataframe tbody tr th:only-of-type {\n",
       "        vertical-align: middle;\n",
       "    }\n",
       "\n",
       "    .dataframe tbody tr th {\n",
       "        vertical-align: top;\n",
       "    }\n",
       "\n",
       "    .dataframe thead th {\n",
       "        text-align: right;\n",
       "    }\n",
       "</style>\n",
       "<table border=\"1\" class=\"dataframe\">\n",
       "  <thead>\n",
       "    <tr style=\"text-align: right;\">\n",
       "      <th></th>\n",
       "      <th>features</th>\n",
       "      <th>VIF</th>\n",
       "    </tr>\n",
       "  </thead>\n",
       "  <tbody>\n",
       "    <tr>\n",
       "      <th>0</th>\n",
       "      <td>category_diversity</td>\n",
       "      <td>3.203232</td>\n",
       "    </tr>\n",
       "    <tr>\n",
       "      <th>1</th>\n",
       "      <td>recency</td>\n",
       "      <td>2.573331</td>\n",
       "    </tr>\n",
       "    <tr>\n",
       "      <th>2</th>\n",
       "      <td>frequency</td>\n",
       "      <td>1.586142</td>\n",
       "    </tr>\n",
       "    <tr>\n",
       "      <th>3</th>\n",
       "      <td>monetary</td>\n",
       "      <td>3.030649</td>\n",
       "    </tr>\n",
       "    <tr>\n",
       "      <th>4</th>\n",
       "      <td>total_events</td>\n",
       "      <td>4.327605</td>\n",
       "    </tr>\n",
       "    <tr>\n",
       "      <th>5</th>\n",
       "      <td>conversion_rate</td>\n",
       "      <td>1.154014</td>\n",
       "    </tr>\n",
       "    <tr>\n",
       "      <th>6</th>\n",
       "      <td>cart_abandonment_rate</td>\n",
       "      <td>1.002212</td>\n",
       "    </tr>\n",
       "    <tr>\n",
       "      <th>7</th>\n",
       "      <td>avg_session_duration</td>\n",
       "      <td>1.085222</td>\n",
       "    </tr>\n",
       "    <tr>\n",
       "      <th>8</th>\n",
       "      <td>avg_events_per_session</td>\n",
       "      <td>1.333216</td>\n",
       "    </tr>\n",
       "    <tr>\n",
       "      <th>9</th>\n",
       "      <td>most_common_hour</td>\n",
       "      <td>3.163793</td>\n",
       "    </tr>\n",
       "    <tr>\n",
       "      <th>10</th>\n",
       "      <td>avg_category_freq</td>\n",
       "      <td>1.856666</td>\n",
       "    </tr>\n",
       "    <tr>\n",
       "      <th>11</th>\n",
       "      <td>avg_view_price</td>\n",
       "      <td>1.362218</td>\n",
       "    </tr>\n",
       "    <tr>\n",
       "      <th>12</th>\n",
       "      <td>price_ratio</td>\n",
       "      <td>1.011349</td>\n",
       "    </tr>\n",
       "  </tbody>\n",
       "</table>\n",
       "</div>"
      ],
      "text/plain": [
       "                  features       VIF\n",
       "0       category_diversity  3.203232\n",
       "1                  recency  2.573331\n",
       "2                frequency  1.586142\n",
       "3                 monetary  3.030649\n",
       "4             total_events  4.327605\n",
       "5          conversion_rate  1.154014\n",
       "6    cart_abandonment_rate  1.002212\n",
       "7     avg_session_duration  1.085222\n",
       "8   avg_events_per_session  1.333216\n",
       "9         most_common_hour  3.163793\n",
       "10       avg_category_freq  1.856666\n",
       "11          avg_view_price  1.362218\n",
       "12             price_ratio  1.011349"
      ]
     },
     "execution_count": 125,
     "metadata": {},
     "output_type": "execute_result"
    }
   ],
   "source": [
    "\n",
    "from statsmodels.stats.outliers_influence import variance_inflation_factor\n",
    "vif_df3= pd.DataFrame()\n",
    "vif_df3['features'] = X3.columns\n",
    "vif_df3['VIF'] = [variance_inflation_factor(X3.values,i) for i in range(len(X3.columns))]\n",
    "vif_df3"
   ]
  },
  {
   "cell_type": "code",
   "execution_count": 126,
   "metadata": {
    "colab": {
     "base_uri": "https://localhost:8080/",
     "height": 426
    },
    "execution": {
     "iopub.execute_input": "2025-06-27T14:10:02.591841Z",
     "iopub.status.busy": "2025-06-27T14:10:02.591589Z",
     "iopub.status.idle": "2025-06-27T14:10:16.066373Z",
     "shell.execute_reply": "2025-06-27T14:10:16.065513Z",
     "shell.execute_reply.started": "2025-06-27T14:10:02.591744Z"
    },
    "id": "AKdlBSXgJXXX",
    "outputId": "df8efa6a-0315-4a4f-dd27-af2d1ff3f8b4",
    "trusted": true
   },
   "outputs": [
    {
     "data": {
      "text/html": [
       "<div>\n",
       "<style scoped>\n",
       "    .dataframe tbody tr th:only-of-type {\n",
       "        vertical-align: middle;\n",
       "    }\n",
       "\n",
       "    .dataframe tbody tr th {\n",
       "        vertical-align: top;\n",
       "    }\n",
       "\n",
       "    .dataframe thead th {\n",
       "        text-align: right;\n",
       "    }\n",
       "</style>\n",
       "<table border=\"1\" class=\"dataframe\">\n",
       "  <thead>\n",
       "    <tr style=\"text-align: right;\">\n",
       "      <th></th>\n",
       "      <th>features</th>\n",
       "      <th>VIF</th>\n",
       "    </tr>\n",
       "  </thead>\n",
       "  <tbody>\n",
       "    <tr>\n",
       "      <th>0</th>\n",
       "      <td>category_diversity</td>\n",
       "      <td>2.475347</td>\n",
       "    </tr>\n",
       "    <tr>\n",
       "      <th>1</th>\n",
       "      <td>recency</td>\n",
       "      <td>2.570935</td>\n",
       "    </tr>\n",
       "    <tr>\n",
       "      <th>2</th>\n",
       "      <td>frequency</td>\n",
       "      <td>1.402467</td>\n",
       "    </tr>\n",
       "    <tr>\n",
       "      <th>3</th>\n",
       "      <td>monetary</td>\n",
       "      <td>2.278848</td>\n",
       "    </tr>\n",
       "    <tr>\n",
       "      <th>4</th>\n",
       "      <td>conversion_rate</td>\n",
       "      <td>1.151070</td>\n",
       "    </tr>\n",
       "    <tr>\n",
       "      <th>5</th>\n",
       "      <td>cart_abandonment_rate</td>\n",
       "      <td>1.002105</td>\n",
       "    </tr>\n",
       "    <tr>\n",
       "      <th>6</th>\n",
       "      <td>avg_session_duration</td>\n",
       "      <td>1.084064</td>\n",
       "    </tr>\n",
       "    <tr>\n",
       "      <th>7</th>\n",
       "      <td>avg_events_per_session</td>\n",
       "      <td>1.287676</td>\n",
       "    </tr>\n",
       "    <tr>\n",
       "      <th>8</th>\n",
       "      <td>most_common_hour</td>\n",
       "      <td>3.147583</td>\n",
       "    </tr>\n",
       "    <tr>\n",
       "      <th>9</th>\n",
       "      <td>avg_category_freq</td>\n",
       "      <td>1.856656</td>\n",
       "    </tr>\n",
       "    <tr>\n",
       "      <th>10</th>\n",
       "      <td>avg_view_price</td>\n",
       "      <td>1.336153</td>\n",
       "    </tr>\n",
       "    <tr>\n",
       "      <th>11</th>\n",
       "      <td>price_ratio</td>\n",
       "      <td>1.011266</td>\n",
       "    </tr>\n",
       "  </tbody>\n",
       "</table>\n",
       "</div>"
      ],
      "text/plain": [
       "                  features       VIF\n",
       "0       category_diversity  2.475347\n",
       "1                  recency  2.570935\n",
       "2                frequency  1.402467\n",
       "3                 monetary  2.278848\n",
       "4          conversion_rate  1.151070\n",
       "5    cart_abandonment_rate  1.002105\n",
       "6     avg_session_duration  1.084064\n",
       "7   avg_events_per_session  1.287676\n",
       "8         most_common_hour  3.147583\n",
       "9        avg_category_freq  1.856656\n",
       "10          avg_view_price  1.336153\n",
       "11             price_ratio  1.011266"
      ]
     },
     "execution_count": 126,
     "metadata": {},
     "output_type": "execute_result"
    }
   ],
   "source": [
    "version4 = [\n",
    "         'category_diversity',\n",
    "       'recency', 'frequency', 'monetary', 'conversion_rate',\n",
    "       'cart_abandonment_rate', 'avg_session_duration',\n",
    "       'avg_events_per_session', 'most_common_hour', 'avg_category_freq',\n",
    "       'avg_view_price', 'price_ratio']\n",
    "X4= user_agg[version4]\n",
    "vif_df4= pd.DataFrame()\n",
    "vif_df4['features'] = X4.columns\n",
    "vif_df4['VIF'] = [variance_inflation_factor(X4.values,i) for i in range(len(X4.columns))]\n",
    "vif_df4"
   ]
  },
  {
   "cell_type": "code",
   "execution_count": 127,
   "metadata": {
    "colab": {
     "base_uri": "https://localhost:8080/",
     "height": 394
    },
    "execution": {
     "iopub.execute_input": "2025-06-27T14:10:16.067471Z",
     "iopub.status.busy": "2025-06-27T14:10:16.067252Z",
     "iopub.status.idle": "2025-06-27T14:10:27.087459Z",
     "shell.execute_reply": "2025-06-27T14:10:27.086681Z",
     "shell.execute_reply.started": "2025-06-27T14:10:16.067454Z"
    },
    "id": "HL6lxQLPJXUK",
    "outputId": "7a175cee-9a3b-4fca-e75e-6012f97de5e3",
    "trusted": true
   },
   "outputs": [
    {
     "data": {
      "text/html": [
       "<div>\n",
       "<style scoped>\n",
       "    .dataframe tbody tr th:only-of-type {\n",
       "        vertical-align: middle;\n",
       "    }\n",
       "\n",
       "    .dataframe tbody tr th {\n",
       "        vertical-align: top;\n",
       "    }\n",
       "\n",
       "    .dataframe thead th {\n",
       "        text-align: right;\n",
       "    }\n",
       "</style>\n",
       "<table border=\"1\" class=\"dataframe\">\n",
       "  <thead>\n",
       "    <tr style=\"text-align: right;\">\n",
       "      <th></th>\n",
       "      <th>features</th>\n",
       "      <th>VIF</th>\n",
       "    </tr>\n",
       "  </thead>\n",
       "  <tbody>\n",
       "    <tr>\n",
       "      <th>0</th>\n",
       "      <td>category_diversity</td>\n",
       "      <td>2.378114</td>\n",
       "    </tr>\n",
       "    <tr>\n",
       "      <th>1</th>\n",
       "      <td>recency</td>\n",
       "      <td>1.750441</td>\n",
       "    </tr>\n",
       "    <tr>\n",
       "      <th>2</th>\n",
       "      <td>frequency</td>\n",
       "      <td>1.401622</td>\n",
       "    </tr>\n",
       "    <tr>\n",
       "      <th>3</th>\n",
       "      <td>monetary</td>\n",
       "      <td>2.262807</td>\n",
       "    </tr>\n",
       "    <tr>\n",
       "      <th>4</th>\n",
       "      <td>conversion_rate</td>\n",
       "      <td>1.150172</td>\n",
       "    </tr>\n",
       "    <tr>\n",
       "      <th>5</th>\n",
       "      <td>cart_abandonment_rate</td>\n",
       "      <td>1.002094</td>\n",
       "    </tr>\n",
       "    <tr>\n",
       "      <th>6</th>\n",
       "      <td>avg_session_duration</td>\n",
       "      <td>1.083942</td>\n",
       "    </tr>\n",
       "    <tr>\n",
       "      <th>7</th>\n",
       "      <td>avg_events_per_session</td>\n",
       "      <td>1.287201</td>\n",
       "    </tr>\n",
       "    <tr>\n",
       "      <th>8</th>\n",
       "      <td>avg_category_freq</td>\n",
       "      <td>1.668712</td>\n",
       "    </tr>\n",
       "    <tr>\n",
       "      <th>9</th>\n",
       "      <td>avg_view_price</td>\n",
       "      <td>1.269897</td>\n",
       "    </tr>\n",
       "    <tr>\n",
       "      <th>10</th>\n",
       "      <td>price_ratio</td>\n",
       "      <td>1.010346</td>\n",
       "    </tr>\n",
       "  </tbody>\n",
       "</table>\n",
       "</div>"
      ],
      "text/plain": [
       "                  features       VIF\n",
       "0       category_diversity  2.378114\n",
       "1                  recency  1.750441\n",
       "2                frequency  1.401622\n",
       "3                 monetary  2.262807\n",
       "4          conversion_rate  1.150172\n",
       "5    cart_abandonment_rate  1.002094\n",
       "6     avg_session_duration  1.083942\n",
       "7   avg_events_per_session  1.287201\n",
       "8        avg_category_freq  1.668712\n",
       "9           avg_view_price  1.269897\n",
       "10             price_ratio  1.010346"
      ]
     },
     "execution_count": 127,
     "metadata": {},
     "output_type": "execute_result"
    }
   ],
   "source": [
    "version5 = [\n",
    "         'category_diversity',\n",
    "       'recency', 'frequency', 'monetary', 'conversion_rate',\n",
    "       'cart_abandonment_rate', 'avg_session_duration',\n",
    "       'avg_events_per_session', 'avg_category_freq',\n",
    "       'avg_view_price', 'price_ratio']\n",
    "X5= user_agg[version5]\n",
    "vif_df5= pd.DataFrame()\n",
    "vif_df5['features'] = X5.columns\n",
    "vif_df5['VIF'] = [variance_inflation_factor(X5.values,i) for i in range(len(X5.columns))]\n",
    "vif_df5"
   ]
  },
  {
   "cell_type": "code",
   "execution_count": 69,
   "metadata": {
    "colab": {
     "base_uri": "https://localhost:8080/",
     "height": 332
    },
    "execution": {
     "iopub.execute_input": "2025-06-28T08:54:08.579515Z",
     "iopub.status.busy": "2025-06-28T08:54:08.579217Z",
     "iopub.status.idle": "2025-06-28T08:54:16.857083Z",
     "shell.execute_reply": "2025-06-28T08:54:16.856348Z",
     "shell.execute_reply.started": "2025-06-28T08:54:08.579492Z"
    },
    "id": "AxHgftTL7XDb",
    "outputId": "e3fb9688-9675-472c-839c-9b07526eb523",
    "trusted": true
   },
   "outputs": [
    {
     "data": {
      "text/html": [
       "<div>\n",
       "<style scoped>\n",
       "    .dataframe tbody tr th:only-of-type {\n",
       "        vertical-align: middle;\n",
       "    }\n",
       "\n",
       "    .dataframe tbody tr th {\n",
       "        vertical-align: top;\n",
       "    }\n",
       "\n",
       "    .dataframe thead th {\n",
       "        text-align: right;\n",
       "    }\n",
       "</style>\n",
       "<table border=\"1\" class=\"dataframe\">\n",
       "  <thead>\n",
       "    <tr style=\"text-align: right;\">\n",
       "      <th></th>\n",
       "      <th>features</th>\n",
       "      <th>VIF</th>\n",
       "    </tr>\n",
       "  </thead>\n",
       "  <tbody>\n",
       "    <tr>\n",
       "      <th>0</th>\n",
       "      <td>recency</td>\n",
       "      <td>1.586491</td>\n",
       "    </tr>\n",
       "    <tr>\n",
       "      <th>1</th>\n",
       "      <td>frequency</td>\n",
       "      <td>1.363751</td>\n",
       "    </tr>\n",
       "    <tr>\n",
       "      <th>2</th>\n",
       "      <td>monetary</td>\n",
       "      <td>2.143729</td>\n",
       "    </tr>\n",
       "    <tr>\n",
       "      <th>3</th>\n",
       "      <td>conversion_rate</td>\n",
       "      <td>1.139871</td>\n",
       "    </tr>\n",
       "    <tr>\n",
       "      <th>4</th>\n",
       "      <td>cart_abandonment_rate</td>\n",
       "      <td>1.001157</td>\n",
       "    </tr>\n",
       "    <tr>\n",
       "      <th>5</th>\n",
       "      <td>avg_session_duration</td>\n",
       "      <td>1.045222</td>\n",
       "    </tr>\n",
       "    <tr>\n",
       "      <th>6</th>\n",
       "      <td>category_diversity</td>\n",
       "      <td>2.264244</td>\n",
       "    </tr>\n",
       "    <tr>\n",
       "      <th>7</th>\n",
       "      <td>avg_category_freq</td>\n",
       "      <td>1.650818</td>\n",
       "    </tr>\n",
       "    <tr>\n",
       "      <th>8</th>\n",
       "      <td>price_ratio</td>\n",
       "      <td>1.009282</td>\n",
       "    </tr>\n",
       "  </tbody>\n",
       "</table>\n",
       "</div>"
      ],
      "text/plain": [
       "                features       VIF\n",
       "0                recency  1.586491\n",
       "1              frequency  1.363751\n",
       "2               monetary  2.143729\n",
       "3        conversion_rate  1.139871\n",
       "4  cart_abandonment_rate  1.001157\n",
       "5   avg_session_duration  1.045222\n",
       "6     category_diversity  2.264244\n",
       "7      avg_category_freq  1.650818\n",
       "8            price_ratio  1.009282"
      ]
     },
     "execution_count": 69,
     "metadata": {},
     "output_type": "execute_result"
    }
   ],
   "source": [
    "version6 = [\n",
    "\n",
    "       'recency', 'frequency', 'monetary', 'conversion_rate',\n",
    "       'cart_abandonment_rate', 'avg_session_duration',\n",
    "       'category_diversity', 'avg_category_freq',\n",
    "        'price_ratio']\n",
    "X6= user_agg[version6]\n",
    "vif_df6= pd.DataFrame()\n",
    "vif_df6['features'] = X6.columns\n",
    "vif_df6['VIF'] = [variance_inflation_factor(X6.values,i) for i in range(len(X6.columns))]\n",
    "vif_df6"
   ]
  },
  {
   "cell_type": "code",
   "execution_count": 70,
   "metadata": {
    "colab": {
     "base_uri": "https://localhost:8080/",
     "height": 366
    },
    "execution": {
     "iopub.execute_input": "2025-06-28T08:54:21.977439Z",
     "iopub.status.busy": "2025-06-28T08:54:21.976512Z",
     "iopub.status.idle": "2025-06-28T08:54:22.069248Z",
     "shell.execute_reply": "2025-06-28T08:54:22.068493Z",
     "shell.execute_reply.started": "2025-06-28T08:54:21.977404Z"
    },
    "id": "MPhEJnmX9yDV",
    "outputId": "18ce5954-07b2-4960-df37-d33f62c27f6d",
    "trusted": true
   },
   "outputs": [
    {
     "data": {
      "text/plain": [
       "recency                  0\n",
       "frequency                0\n",
       "monetary                 0\n",
       "conversion_rate          0\n",
       "cart_abandonment_rate    0\n",
       "avg_session_duration     0\n",
       "category_diversity       0\n",
       "avg_category_freq        0\n",
       "price_ratio              0\n",
       "dtype: int64"
      ]
     },
     "execution_count": 70,
     "metadata": {},
     "output_type": "execute_result"
    }
   ],
   "source": [
    "user_agg[version6].isna().sum()"
   ]
  },
  {
   "cell_type": "code",
   "execution_count": 71,
   "metadata": {
    "execution": {
     "iopub.execute_input": "2025-06-28T08:54:24.637219Z",
     "iopub.status.busy": "2025-06-28T08:54:24.636942Z",
     "iopub.status.idle": "2025-06-28T08:54:25.253635Z",
     "shell.execute_reply": "2025-06-28T08:54:25.252793Z",
     "shell.execute_reply.started": "2025-06-28T08:54:24.637199Z"
    },
    "id": "Q6z0ysoy9x-v",
    "trusted": true
   },
   "outputs": [],
   "source": [
    "from sklearn.preprocessing import StandardScaler\n",
    "from sklearn.cluster import KMeans"
   ]
  },
  {
   "cell_type": "code",
   "execution_count": 72,
   "metadata": {
    "execution": {
     "iopub.execute_input": "2025-06-28T08:54:45.958553Z",
     "iopub.status.busy": "2025-06-28T08:54:45.958260Z",
     "iopub.status.idle": "2025-06-28T08:54:55.462927Z",
     "shell.execute_reply": "2025-06-28T08:54:55.462139Z",
     "shell.execute_reply.started": "2025-06-28T08:54:45.958531Z"
    },
    "id": "RfYM3_Pt9x7l",
    "trusted": true
   },
   "outputs": [
    {
     "name": "stderr",
     "output_type": "stream",
     "text": [
      "/usr/local/lib/python3.11/dist-packages/sklearn/cluster/_kmeans.py:870: FutureWarning:\n",
      "\n",
      "The default value of `n_init` will change from 10 to 'auto' in 1.4. Set the value of `n_init` explicitly to suppress the warning\n",
      "\n"
     ]
    }
   ],
   "source": [
    "X = user_agg[version6]\n",
    "scaler = StandardScaler()\n",
    "X_scaled = scaler.fit_transform(X)\n",
    "kmeans = KMeans(n_clusters = 3, init = 'k-means++', random_state = 42)\n",
    "user_agg['cluster'] = kmeans.fit_predict(X_scaled)"
   ]
  },
  {
   "cell_type": "code",
   "execution_count": 73,
   "metadata": {
    "colab": {
     "base_uri": "https://localhost:8080/",
     "height": 330
    },
    "execution": {
     "iopub.execute_input": "2025-06-28T08:54:56.101656Z",
     "iopub.status.busy": "2025-06-28T08:54:56.101334Z",
     "iopub.status.idle": "2025-06-28T08:54:56.122353Z",
     "shell.execute_reply": "2025-06-28T08:54:56.121411Z",
     "shell.execute_reply.started": "2025-06-28T08:54:56.101629Z"
    },
    "id": "2FMztdc-9x4r",
    "outputId": "9abe0d50-a9d6-4c52-b688-94a0f1026f21",
    "trusted": true
   },
   "outputs": [
    {
     "data": {
      "text/html": [
       "<div>\n",
       "<style scoped>\n",
       "    .dataframe tbody tr th:only-of-type {\n",
       "        vertical-align: middle;\n",
       "    }\n",
       "\n",
       "    .dataframe tbody tr th {\n",
       "        vertical-align: top;\n",
       "    }\n",
       "\n",
       "    .dataframe thead th {\n",
       "        text-align: right;\n",
       "    }\n",
       "</style>\n",
       "<table border=\"1\" class=\"dataframe\">\n",
       "  <thead>\n",
       "    <tr style=\"text-align: right;\">\n",
       "      <th></th>\n",
       "      <th>user_id</th>\n",
       "      <th>event_counts</th>\n",
       "      <th>total_spend</th>\n",
       "      <th>avg_price</th>\n",
       "      <th>session_count</th>\n",
       "      <th>first_event</th>\n",
       "      <th>last_event</th>\n",
       "      <th>purchase_count</th>\n",
       "      <th>category_diversity</th>\n",
       "      <th>recency</th>\n",
       "      <th>frequency</th>\n",
       "      <th>monetary</th>\n",
       "      <th>view_count</th>\n",
       "      <th>remove_count</th>\n",
       "      <th>cart_count</th>\n",
       "      <th>purchase_event_count</th>\n",
       "      <th>total_events</th>\n",
       "      <th>conversion_rate</th>\n",
       "      <th>cart_abandonment_rate</th>\n",
       "      <th>avg_session_duration</th>\n",
       "      <th>avg_events_per_session</th>\n",
       "      <th>most_common_hour</th>\n",
       "      <th>avg_category_freq</th>\n",
       "      <th>avg_view_price</th>\n",
       "      <th>price_ratio</th>\n",
       "      <th>cluster</th>\n",
       "    </tr>\n",
       "  </thead>\n",
       "  <tbody>\n",
       "    <tr>\n",
       "      <th>0</th>\n",
       "      <td>465496</td>\n",
       "      <td>{'view': 3}</td>\n",
       "      <td>30.00</td>\n",
       "      <td>10.000000</td>\n",
       "      <td>2</td>\n",
       "      <td>2020-01-14 16:15:21+00:00</td>\n",
       "      <td>2020-01-14 16:27:31+00:00</td>\n",
       "      <td>0</td>\n",
       "      <td>1</td>\n",
       "      <td>46</td>\n",
       "      <td>2</td>\n",
       "      <td>30.00</td>\n",
       "      <td>3</td>\n",
       "      <td>0</td>\n",
       "      <td>0</td>\n",
       "      <td>0</td>\n",
       "      <td>3</td>\n",
       "      <td>0.0</td>\n",
       "      <td>0.0</td>\n",
       "      <td>58.00</td>\n",
       "      <td>1.50</td>\n",
       "      <td>16</td>\n",
       "      <td>39226.000000</td>\n",
       "      <td>10.000000</td>\n",
       "      <td>1.0</td>\n",
       "      <td>1</td>\n",
       "    </tr>\n",
       "    <tr>\n",
       "      <th>1</th>\n",
       "      <td>1120748</td>\n",
       "      <td>{'view': 1}</td>\n",
       "      <td>4.05</td>\n",
       "      <td>4.050000</td>\n",
       "      <td>1</td>\n",
       "      <td>2019-11-04 15:28:57+00:00</td>\n",
       "      <td>2019-11-04 15:28:57+00:00</td>\n",
       "      <td>0</td>\n",
       "      <td>1</td>\n",
       "      <td>117</td>\n",
       "      <td>1</td>\n",
       "      <td>4.05</td>\n",
       "      <td>1</td>\n",
       "      <td>0</td>\n",
       "      <td>0</td>\n",
       "      <td>0</td>\n",
       "      <td>1</td>\n",
       "      <td>0.0</td>\n",
       "      <td>0.0</td>\n",
       "      <td>0.00</td>\n",
       "      <td>1.00</td>\n",
       "      <td>15</td>\n",
       "      <td>31120.000000</td>\n",
       "      <td>4.050000</td>\n",
       "      <td>1.0</td>\n",
       "      <td>0</td>\n",
       "    </tr>\n",
       "    <tr>\n",
       "      <th>2</th>\n",
       "      <td>1180452</td>\n",
       "      <td>{'view': 1}</td>\n",
       "      <td>25.40</td>\n",
       "      <td>25.400000</td>\n",
       "      <td>1</td>\n",
       "      <td>2019-12-28 14:32:56+00:00</td>\n",
       "      <td>2019-12-28 14:32:56+00:00</td>\n",
       "      <td>0</td>\n",
       "      <td>1</td>\n",
       "      <td>63</td>\n",
       "      <td>1</td>\n",
       "      <td>25.40</td>\n",
       "      <td>1</td>\n",
       "      <td>0</td>\n",
       "      <td>0</td>\n",
       "      <td>0</td>\n",
       "      <td>1</td>\n",
       "      <td>0.0</td>\n",
       "      <td>0.0</td>\n",
       "      <td>0.00</td>\n",
       "      <td>1.00</td>\n",
       "      <td>14</td>\n",
       "      <td>119609.000000</td>\n",
       "      <td>25.400000</td>\n",
       "      <td>1.0</td>\n",
       "      <td>1</td>\n",
       "    </tr>\n",
       "    <tr>\n",
       "      <th>3</th>\n",
       "      <td>1458813</td>\n",
       "      <td>{'view': 29}</td>\n",
       "      <td>159.36</td>\n",
       "      <td>5.495172</td>\n",
       "      <td>4</td>\n",
       "      <td>2019-11-19 09:56:09+00:00</td>\n",
       "      <td>2019-11-21 06:02:40+00:00</td>\n",
       "      <td>0</td>\n",
       "      <td>5</td>\n",
       "      <td>100</td>\n",
       "      <td>4</td>\n",
       "      <td>159.36</td>\n",
       "      <td>29</td>\n",
       "      <td>0</td>\n",
       "      <td>0</td>\n",
       "      <td>0</td>\n",
       "      <td>29</td>\n",
       "      <td>0.0</td>\n",
       "      <td>0.0</td>\n",
       "      <td>947.25</td>\n",
       "      <td>7.25</td>\n",
       "      <td>12</td>\n",
       "      <td>71265.448276</td>\n",
       "      <td>5.495172</td>\n",
       "      <td>1.0</td>\n",
       "      <td>0</td>\n",
       "    </tr>\n",
       "    <tr>\n",
       "      <th>4</th>\n",
       "      <td>2038666</td>\n",
       "      <td>{'view': 1}</td>\n",
       "      <td>25.38</td>\n",
       "      <td>25.380000</td>\n",
       "      <td>1</td>\n",
       "      <td>2020-02-16 13:19:37+00:00</td>\n",
       "      <td>2020-02-16 13:19:37+00:00</td>\n",
       "      <td>0</td>\n",
       "      <td>1</td>\n",
       "      <td>13</td>\n",
       "      <td>1</td>\n",
       "      <td>25.38</td>\n",
       "      <td>1</td>\n",
       "      <td>0</td>\n",
       "      <td>0</td>\n",
       "      <td>0</td>\n",
       "      <td>1</td>\n",
       "      <td>0.0</td>\n",
       "      <td>0.0</td>\n",
       "      <td>0.00</td>\n",
       "      <td>1.00</td>\n",
       "      <td>13</td>\n",
       "      <td>28437.000000</td>\n",
       "      <td>25.380000</td>\n",
       "      <td>1.0</td>\n",
       "      <td>1</td>\n",
       "    </tr>\n",
       "  </tbody>\n",
       "</table>\n",
       "</div>"
      ],
      "text/plain": [
       "   user_id  event_counts  total_spend  avg_price  session_count  \\\n",
       "0   465496   {'view': 3}        30.00  10.000000              2   \n",
       "1  1120748   {'view': 1}         4.05   4.050000              1   \n",
       "2  1180452   {'view': 1}        25.40  25.400000              1   \n",
       "3  1458813  {'view': 29}       159.36   5.495172              4   \n",
       "4  2038666   {'view': 1}        25.38  25.380000              1   \n",
       "\n",
       "                first_event                last_event  purchase_count  \\\n",
       "0 2020-01-14 16:15:21+00:00 2020-01-14 16:27:31+00:00               0   \n",
       "1 2019-11-04 15:28:57+00:00 2019-11-04 15:28:57+00:00               0   \n",
       "2 2019-12-28 14:32:56+00:00 2019-12-28 14:32:56+00:00               0   \n",
       "3 2019-11-19 09:56:09+00:00 2019-11-21 06:02:40+00:00               0   \n",
       "4 2020-02-16 13:19:37+00:00 2020-02-16 13:19:37+00:00               0   \n",
       "\n",
       "   category_diversity  recency  frequency  monetary  view_count  remove_count  \\\n",
       "0                   1       46          2     30.00           3             0   \n",
       "1                   1      117          1      4.05           1             0   \n",
       "2                   1       63          1     25.40           1             0   \n",
       "3                   5      100          4    159.36          29             0   \n",
       "4                   1       13          1     25.38           1             0   \n",
       "\n",
       "   cart_count  purchase_event_count  total_events  conversion_rate  \\\n",
       "0           0                     0             3              0.0   \n",
       "1           0                     0             1              0.0   \n",
       "2           0                     0             1              0.0   \n",
       "3           0                     0            29              0.0   \n",
       "4           0                     0             1              0.0   \n",
       "\n",
       "   cart_abandonment_rate  avg_session_duration  avg_events_per_session  \\\n",
       "0                    0.0                 58.00                    1.50   \n",
       "1                    0.0                  0.00                    1.00   \n",
       "2                    0.0                  0.00                    1.00   \n",
       "3                    0.0                947.25                    7.25   \n",
       "4                    0.0                  0.00                    1.00   \n",
       "\n",
       "   most_common_hour  avg_category_freq  avg_view_price  price_ratio  cluster  \n",
       "0                16       39226.000000       10.000000          1.0        1  \n",
       "1                15       31120.000000        4.050000          1.0        0  \n",
       "2                14      119609.000000       25.400000          1.0        1  \n",
       "3                12       71265.448276        5.495172          1.0        0  \n",
       "4                13       28437.000000       25.380000          1.0        1  "
      ]
     },
     "execution_count": 73,
     "metadata": {},
     "output_type": "execute_result"
    }
   ],
   "source": [
    "user_agg.head()"
   ]
  },
  {
   "cell_type": "code",
   "execution_count": 74,
   "metadata": {
    "colab": {
     "base_uri": "https://localhost:8080/",
     "height": 241
    },
    "execution": {
     "iopub.execute_input": "2025-06-28T08:54:56.845825Z",
     "iopub.status.busy": "2025-06-28T08:54:56.845495Z",
     "iopub.status.idle": "2025-06-28T08:54:56.864477Z",
     "shell.execute_reply": "2025-06-28T08:54:56.863479Z",
     "shell.execute_reply.started": "2025-06-28T08:54:56.845801Z"
    },
    "id": "F9vN0AR49x1R",
    "outputId": "c71f5a88-636f-4df2-b187-90c7546084e5",
    "trusted": true
   },
   "outputs": [
    {
     "data": {
      "text/plain": [
       "cluster\n",
       "1    803423\n",
       "0    736185\n",
       "2     98162\n",
       "Name: count, dtype: int64"
      ]
     },
     "execution_count": 74,
     "metadata": {},
     "output_type": "execute_result"
    }
   ],
   "source": [
    "user_agg['cluster'].value_counts()"
   ]
  },
  {
   "cell_type": "code",
   "execution_count": 75,
   "metadata": {
    "execution": {
     "iopub.execute_input": "2025-06-28T08:55:00.110340Z",
     "iopub.status.busy": "2025-06-28T08:55:00.109611Z",
     "iopub.status.idle": "2025-06-28T08:55:06.260481Z",
     "shell.execute_reply": "2025-06-28T08:55:06.259408Z",
     "shell.execute_reply.started": "2025-06-28T08:55:00.110306Z"
    },
    "id": "MHN7Nl5FMDd8",
    "trusted": true
   },
   "outputs": [],
   "source": [
    "df_c = df.copy()"
   ]
  },
  {
   "cell_type": "code",
   "execution_count": 85,
   "metadata": {
    "execution": {
     "iopub.execute_input": "2025-06-28T08:58:20.757748Z",
     "iopub.status.busy": "2025-06-28T08:58:20.757385Z",
     "iopub.status.idle": "2025-06-28T08:58:27.258494Z",
     "shell.execute_reply": "2025-06-28T08:58:27.257745Z",
     "shell.execute_reply.started": "2025-06-28T08:58:20.757718Z"
    },
    "id": "y7ykZksX9xyR",
    "trusted": true
   },
   "outputs": [],
   "source": [
    "df_with_segments = pd.merge(df_c, user_agg[['user_id','cluster']], on = 'user_id',how= 'left')\n",
    "\n",
    "# funnel analysis by kmeans cluster\n",
    "\n",
    "funnel_by_cluster = df_with_segments.groupby(['cluster','event_type']).size().unstack().fillna(0)\n",
    "\n",
    "funnel_by_cluster['view_to_cart'] = funnel_by_cluster['cart']/funnel_by_cluster['view']\n",
    "funnel_by_cluster['cart_to_purchase'] = funnel_by_cluster['purchase']/funnel_by_cluster['cart']\n",
    "funnel_by_cluster['dropoff_cart'] = 1- funnel_by_cluster['view_to_cart']\n",
    "funnel_by_cluster['dropoff_purchase'] = 1- funnel_by_cluster['cart_to_purchase']\n",
    "funnel_by_cluster['remove_from_cart_rate'] = funnel_by_cluster['remove_from_cart']/funnel_by_cluster['view']\n",
    "funnel_by_cluster['view_to_remove'] = funnel_by_cluster['remove_from_cart']/funnel_by_cluster['view']"
   ]
  },
  {
   "cell_type": "code",
   "execution_count": 77,
   "metadata": {
    "colab": {
     "base_uri": "https://localhost:8080/",
     "height": 206
    },
    "execution": {
     "iopub.execute_input": "2025-06-28T08:55:17.659252Z",
     "iopub.status.busy": "2025-06-28T08:55:17.658927Z",
     "iopub.status.idle": "2025-06-28T08:55:17.671748Z",
     "shell.execute_reply": "2025-06-28T08:55:17.670597Z",
     "shell.execute_reply.started": "2025-06-28T08:55:17.659227Z"
    },
    "id": "jylqGEhZBh9W",
    "outputId": "6af14734-942f-4cc0-a6b8-17dd1cc20780",
    "trusted": true
   },
   "outputs": [
    {
     "data": {
      "text/html": [
       "<div>\n",
       "<style scoped>\n",
       "    .dataframe tbody tr th:only-of-type {\n",
       "        vertical-align: middle;\n",
       "    }\n",
       "\n",
       "    .dataframe tbody tr th {\n",
       "        vertical-align: top;\n",
       "    }\n",
       "\n",
       "    .dataframe thead th {\n",
       "        text-align: right;\n",
       "    }\n",
       "</style>\n",
       "<table border=\"1\" class=\"dataframe\">\n",
       "  <thead>\n",
       "    <tr style=\"text-align: right;\">\n",
       "      <th>event_type</th>\n",
       "      <th>cart</th>\n",
       "      <th>purchase</th>\n",
       "      <th>remove_from_cart</th>\n",
       "      <th>view</th>\n",
       "      <th>view_to_cart</th>\n",
       "      <th>cart_to_purchase</th>\n",
       "      <th>dropoff_cart</th>\n",
       "      <th>dropoff_purchase</th>\n",
       "      <th>remove_from_cart_rate</th>\n",
       "      <th>view_to_remove</th>\n",
       "    </tr>\n",
       "    <tr>\n",
       "      <th>cluster</th>\n",
       "      <th></th>\n",
       "      <th></th>\n",
       "      <th></th>\n",
       "      <th></th>\n",
       "      <th></th>\n",
       "      <th></th>\n",
       "      <th></th>\n",
       "      <th></th>\n",
       "      <th></th>\n",
       "      <th></th>\n",
       "    </tr>\n",
       "  </thead>\n",
       "  <tbody>\n",
       "    <tr>\n",
       "      <th>0</th>\n",
       "      <td>875405</td>\n",
       "      <td>33237</td>\n",
       "      <td>334744</td>\n",
       "      <td>1979472</td>\n",
       "      <td>0.442242</td>\n",
       "      <td>0.037968</td>\n",
       "      <td>0.557758</td>\n",
       "      <td>0.962032</td>\n",
       "      <td>0.169108</td>\n",
       "      <td>0.169108</td>\n",
       "    </tr>\n",
       "    <tr>\n",
       "      <th>1</th>\n",
       "      <td>1073359</td>\n",
       "      <td>47976</td>\n",
       "      <td>548668</td>\n",
       "      <td>2920602</td>\n",
       "      <td>0.367513</td>\n",
       "      <td>0.044697</td>\n",
       "      <td>0.632487</td>\n",
       "      <td>0.955303</td>\n",
       "      <td>0.187861</td>\n",
       "      <td>0.187861</td>\n",
       "    </tr>\n",
       "    <tr>\n",
       "      <th>2</th>\n",
       "      <td>3766424</td>\n",
       "      <td>1205667</td>\n",
       "      <td>3071177</td>\n",
       "      <td>4727224</td>\n",
       "      <td>0.796752</td>\n",
       "      <td>0.320109</td>\n",
       "      <td>0.203248</td>\n",
       "      <td>0.679891</td>\n",
       "      <td>0.649679</td>\n",
       "      <td>0.649679</td>\n",
       "    </tr>\n",
       "  </tbody>\n",
       "</table>\n",
       "</div>"
      ],
      "text/plain": [
       "event_type     cart  purchase  remove_from_cart     view  view_to_cart  \\\n",
       "cluster                                                                  \n",
       "0            875405     33237            334744  1979472      0.442242   \n",
       "1           1073359     47976            548668  2920602      0.367513   \n",
       "2           3766424   1205667           3071177  4727224      0.796752   \n",
       "\n",
       "event_type  cart_to_purchase  dropoff_cart  dropoff_purchase  \\\n",
       "cluster                                                        \n",
       "0                   0.037968      0.557758          0.962032   \n",
       "1                   0.044697      0.632487          0.955303   \n",
       "2                   0.320109      0.203248          0.679891   \n",
       "\n",
       "event_type  remove_from_cart_rate  view_to_remove  \n",
       "cluster                                            \n",
       "0                        0.169108        0.169108  \n",
       "1                        0.187861        0.187861  \n",
       "2                        0.649679        0.649679  "
      ]
     },
     "execution_count": 77,
     "metadata": {},
     "output_type": "execute_result"
    }
   ],
   "source": [
    "funnel_by_cluster"
   ]
  },
  {
   "cell_type": "code",
   "execution_count": 86,
   "metadata": {
    "execution": {
     "iopub.execute_input": "2025-06-28T09:00:29.821222Z",
     "iopub.status.busy": "2025-06-28T09:00:29.820875Z",
     "iopub.status.idle": "2025-06-28T09:00:29.829133Z",
     "shell.execute_reply": "2025-06-28T09:00:29.828321Z",
     "shell.execute_reply.started": "2025-06-28T09:00:29.821195Z"
    },
    "trusted": true
   },
   "outputs": [],
   "source": [
    "funnel_by_cluster[['view_to_cart','cart_to_purchase','dropoff_cart','dropoff_purchase','remove_from_cart_rate','view_to_remove']] = \\\n",
    "                                            (funnel_by_cluster[['view_to_cart','cart_to_purchase','dropoff_cart','dropoff_purchase','remove_from_cart_rate','view_to_remove']]*100).round(2)"
   ]
  },
  {
   "cell_type": "code",
   "execution_count": 87,
   "metadata": {
    "execution": {
     "iopub.execute_input": "2025-06-28T09:00:30.673142Z",
     "iopub.status.busy": "2025-06-28T09:00:30.672842Z",
     "iopub.status.idle": "2025-06-28T09:00:30.686035Z",
     "shell.execute_reply": "2025-06-28T09:00:30.685166Z",
     "shell.execute_reply.started": "2025-06-28T09:00:30.673120Z"
    },
    "trusted": true
   },
   "outputs": [
    {
     "data": {
      "text/html": [
       "<div>\n",
       "<style scoped>\n",
       "    .dataframe tbody tr th:only-of-type {\n",
       "        vertical-align: middle;\n",
       "    }\n",
       "\n",
       "    .dataframe tbody tr th {\n",
       "        vertical-align: top;\n",
       "    }\n",
       "\n",
       "    .dataframe thead th {\n",
       "        text-align: right;\n",
       "    }\n",
       "</style>\n",
       "<table border=\"1\" class=\"dataframe\">\n",
       "  <thead>\n",
       "    <tr style=\"text-align: right;\">\n",
       "      <th>event_type</th>\n",
       "      <th>cart</th>\n",
       "      <th>purchase</th>\n",
       "      <th>remove_from_cart</th>\n",
       "      <th>view</th>\n",
       "      <th>view_to_cart</th>\n",
       "      <th>cart_to_purchase</th>\n",
       "      <th>dropoff_cart</th>\n",
       "      <th>dropoff_purchase</th>\n",
       "      <th>remove_from_cart_rate</th>\n",
       "      <th>view_to_remove</th>\n",
       "    </tr>\n",
       "    <tr>\n",
       "      <th>cluster</th>\n",
       "      <th></th>\n",
       "      <th></th>\n",
       "      <th></th>\n",
       "      <th></th>\n",
       "      <th></th>\n",
       "      <th></th>\n",
       "      <th></th>\n",
       "      <th></th>\n",
       "      <th></th>\n",
       "      <th></th>\n",
       "    </tr>\n",
       "  </thead>\n",
       "  <tbody>\n",
       "    <tr>\n",
       "      <th>0</th>\n",
       "      <td>875405</td>\n",
       "      <td>33237</td>\n",
       "      <td>334744</td>\n",
       "      <td>1979472</td>\n",
       "      <td>44.22</td>\n",
       "      <td>3.80</td>\n",
       "      <td>55.78</td>\n",
       "      <td>96.20</td>\n",
       "      <td>16.91</td>\n",
       "      <td>16.91</td>\n",
       "    </tr>\n",
       "    <tr>\n",
       "      <th>1</th>\n",
       "      <td>1073359</td>\n",
       "      <td>47976</td>\n",
       "      <td>548668</td>\n",
       "      <td>2920602</td>\n",
       "      <td>36.75</td>\n",
       "      <td>4.47</td>\n",
       "      <td>63.25</td>\n",
       "      <td>95.53</td>\n",
       "      <td>18.79</td>\n",
       "      <td>18.79</td>\n",
       "    </tr>\n",
       "    <tr>\n",
       "      <th>2</th>\n",
       "      <td>3766424</td>\n",
       "      <td>1205667</td>\n",
       "      <td>3071177</td>\n",
       "      <td>4727224</td>\n",
       "      <td>79.68</td>\n",
       "      <td>32.01</td>\n",
       "      <td>20.32</td>\n",
       "      <td>67.99</td>\n",
       "      <td>64.97</td>\n",
       "      <td>64.97</td>\n",
       "    </tr>\n",
       "  </tbody>\n",
       "</table>\n",
       "</div>"
      ],
      "text/plain": [
       "event_type     cart  purchase  remove_from_cart     view  view_to_cart  \\\n",
       "cluster                                                                  \n",
       "0            875405     33237            334744  1979472         44.22   \n",
       "1           1073359     47976            548668  2920602         36.75   \n",
       "2           3766424   1205667           3071177  4727224         79.68   \n",
       "\n",
       "event_type  cart_to_purchase  dropoff_cart  dropoff_purchase  \\\n",
       "cluster                                                        \n",
       "0                       3.80         55.78             96.20   \n",
       "1                       4.47         63.25             95.53   \n",
       "2                      32.01         20.32             67.99   \n",
       "\n",
       "event_type  remove_from_cart_rate  view_to_remove  \n",
       "cluster                                            \n",
       "0                           16.91           16.91  \n",
       "1                           18.79           18.79  \n",
       "2                           64.97           64.97  "
      ]
     },
     "execution_count": 87,
     "metadata": {},
     "output_type": "execute_result"
    }
   ],
   "source": [
    "funnel_by_cluster"
   ]
  },
  {
   "cell_type": "code",
   "execution_count": 144,
   "metadata": {
    "colab": {
     "base_uri": "https://localhost:8080/",
     "height": 206
    },
    "execution": {
     "iopub.execute_input": "2025-06-28T11:05:32.642895Z",
     "iopub.status.busy": "2025-06-28T11:05:32.642128Z",
     "iopub.status.idle": "2025-06-28T11:05:32.829055Z",
     "shell.execute_reply": "2025-06-28T11:05:32.827909Z",
     "shell.execute_reply.started": "2025-06-28T11:05:32.642861Z"
    },
    "id": "GBqHMI8LBh7L",
    "outputId": "3c3c128c-a9e1-4030-8d1c-81db85069d75",
    "trusted": true
   },
   "outputs": [
    {
     "data": {
      "text/html": [
       "<div>\n",
       "<style scoped>\n",
       "    .dataframe tbody tr th:only-of-type {\n",
       "        vertical-align: middle;\n",
       "    }\n",
       "\n",
       "    .dataframe tbody tr th {\n",
       "        vertical-align: top;\n",
       "    }\n",
       "\n",
       "    .dataframe thead th {\n",
       "        text-align: right;\n",
       "    }\n",
       "</style>\n",
       "<table border=\"1\" class=\"dataframe\">\n",
       "  <thead>\n",
       "    <tr style=\"text-align: right;\">\n",
       "      <th></th>\n",
       "      <th>recency</th>\n",
       "      <th>frequency</th>\n",
       "      <th>monetary</th>\n",
       "      <th>conversion_rate</th>\n",
       "      <th>cart_abandonment_rate</th>\n",
       "      <th>avg_session_duration</th>\n",
       "      <th>category_diversity</th>\n",
       "      <th>avg_category_freq</th>\n",
       "      <th>price_ratio</th>\n",
       "      <th>user_count</th>\n",
       "    </tr>\n",
       "    <tr>\n",
       "      <th>cluster</th>\n",
       "      <th></th>\n",
       "      <th></th>\n",
       "      <th></th>\n",
       "      <th></th>\n",
       "      <th></th>\n",
       "      <th></th>\n",
       "      <th></th>\n",
       "      <th></th>\n",
       "      <th></th>\n",
       "      <th></th>\n",
       "    </tr>\n",
       "  </thead>\n",
       "  <tbody>\n",
       "    <tr>\n",
       "      <th>0</th>\n",
       "      <td>113.583713</td>\n",
       "      <td>1.647762</td>\n",
       "      <td>50.980604</td>\n",
       "      <td>0.001693</td>\n",
       "      <td>15300.551716</td>\n",
       "      <td>332.586254</td>\n",
       "      <td>1.624422</td>\n",
       "      <td>219796.095329</td>\n",
       "      <td>230898.293836</td>\n",
       "      <td>736185</td>\n",
       "    </tr>\n",
       "    <tr>\n",
       "      <th>1</th>\n",
       "      <td>34.165107</td>\n",
       "      <td>2.133430</td>\n",
       "      <td>66.042904</td>\n",
       "      <td>0.001929</td>\n",
       "      <td>7539.055319</td>\n",
       "      <td>419.743074</td>\n",
       "      <td>1.928857</td>\n",
       "      <td>204485.477935</td>\n",
       "      <td>177053.345645</td>\n",
       "      <td>803423</td>\n",
       "    </tr>\n",
       "    <tr>\n",
       "      <th>2</th>\n",
       "      <td>52.729783</td>\n",
       "      <td>16.233471</td>\n",
       "      <td>875.943812</td>\n",
       "      <td>0.176851</td>\n",
       "      <td>38202.714496</td>\n",
       "      <td>4875.485415</td>\n",
       "      <td>16.528280</td>\n",
       "      <td>260945.913325</td>\n",
       "      <td>479965.564431</td>\n",
       "      <td>98162</td>\n",
       "    </tr>\n",
       "  </tbody>\n",
       "</table>\n",
       "</div>"
      ],
      "text/plain": [
       "            recency  frequency    monetary  conversion_rate  \\\n",
       "cluster                                                       \n",
       "0        113.583713   1.647762   50.980604         0.001693   \n",
       "1         34.165107   2.133430   66.042904         0.001929   \n",
       "2         52.729783  16.233471  875.943812         0.176851   \n",
       "\n",
       "         cart_abandonment_rate  avg_session_duration  category_diversity  \\\n",
       "cluster                                                                    \n",
       "0                 15300.551716            332.586254            1.624422   \n",
       "1                  7539.055319            419.743074            1.928857   \n",
       "2                 38202.714496           4875.485415           16.528280   \n",
       "\n",
       "         avg_category_freq    price_ratio  user_count  \n",
       "cluster                                                \n",
       "0            219796.095329  230898.293836      736185  \n",
       "1            204485.477935  177053.345645      803423  \n",
       "2            260945.913325  479965.564431       98162  "
      ]
     },
     "execution_count": 144,
     "metadata": {},
     "output_type": "execute_result"
    }
   ],
   "source": [
    "cluster_summary = user_agg.groupby('cluster').agg({\n",
    "    'recency' : 'mean',\n",
    "    'frequency': 'mean',\n",
    "    'monetary': 'mean',\n",
    "    'conversion_rate': 'mean',\n",
    "    'cart_abandonment_rate': 'mean',\n",
    "    'avg_session_duration': 'mean',\n",
    "    'category_diversity': 'mean',\n",
    "    'avg_category_freq': 'mean',\n",
    "    'price_ratio': 'mean',\n",
    "    'user_id': 'count'\n",
    "}). rename(columns = {'user_id': 'user_count'})\n",
    "\n",
    "cluster_summary"
   ]
  },
  {
   "cell_type": "code",
   "execution_count": 123,
   "metadata": {
    "execution": {
     "iopub.execute_input": "2025-06-28T10:28:09.683995Z",
     "iopub.status.busy": "2025-06-28T10:28:09.683291Z",
     "iopub.status.idle": "2025-06-28T10:28:11.533444Z",
     "shell.execute_reply": "2025-06-28T10:28:11.532608Z",
     "shell.execute_reply.started": "2025-06-28T10:28:09.683959Z"
    },
    "id": "qFZR3IgjRAMs",
    "trusted": true
   },
   "outputs": [],
   "source": [
    "user_agg_rfm = user_agg.copy()"
   ]
  },
  {
   "cell_type": "code",
   "execution_count": 124,
   "metadata": {
    "execution": {
     "iopub.execute_input": "2025-06-28T10:28:15.414263Z",
     "iopub.status.busy": "2025-06-28T10:28:15.413950Z",
     "iopub.status.idle": "2025-06-28T10:28:15.432468Z",
     "shell.execute_reply": "2025-06-28T10:28:15.431646Z",
     "shell.execute_reply.started": "2025-06-28T10:28:15.414238Z"
    },
    "trusted": true
   },
   "outputs": [
    {
     "data": {
      "text/plain": [
       "514"
      ]
     },
     "execution_count": 124,
     "metadata": {},
     "output_type": "execute_result"
    }
   ],
   "source": [
    "user_agg_rfm['frequency'].nunique()"
   ]
  },
  {
   "cell_type": "code",
   "execution_count": 126,
   "metadata": {
    "colab": {
     "base_uri": "https://localhost:8080/",
     "height": 330
    },
    "execution": {
     "iopub.execute_input": "2025-06-28T10:31:18.125666Z",
     "iopub.status.busy": "2025-06-28T10:31:18.124691Z",
     "iopub.status.idle": "2025-06-28T10:31:52.171815Z",
     "shell.execute_reply": "2025-06-28T10:31:52.170961Z",
     "shell.execute_reply.started": "2025-06-28T10:31:18.125631Z"
    },
    "id": "XSzDq_UFRAJ9",
    "outputId": "aeed2e29-8897-4a8f-fcb5-275a03d99aaf",
    "trusted": true
   },
   "outputs": [
    {
     "data": {
      "text/html": [
       "<div>\n",
       "<style scoped>\n",
       "    .dataframe tbody tr th:only-of-type {\n",
       "        vertical-align: middle;\n",
       "    }\n",
       "\n",
       "    .dataframe tbody tr th {\n",
       "        vertical-align: top;\n",
       "    }\n",
       "\n",
       "    .dataframe thead th {\n",
       "        text-align: right;\n",
       "    }\n",
       "</style>\n",
       "<table border=\"1\" class=\"dataframe\">\n",
       "  <thead>\n",
       "    <tr style=\"text-align: right;\">\n",
       "      <th></th>\n",
       "      <th>user_id</th>\n",
       "      <th>event_counts</th>\n",
       "      <th>total_spend</th>\n",
       "      <th>avg_price</th>\n",
       "      <th>session_count</th>\n",
       "      <th>first_event</th>\n",
       "      <th>last_event</th>\n",
       "      <th>purchase_count</th>\n",
       "      <th>category_diversity</th>\n",
       "      <th>recency</th>\n",
       "      <th>frequency</th>\n",
       "      <th>monetary</th>\n",
       "      <th>view_count</th>\n",
       "      <th>remove_count</th>\n",
       "      <th>cart_count</th>\n",
       "      <th>purchase_event_count</th>\n",
       "      <th>total_events</th>\n",
       "      <th>conversion_rate</th>\n",
       "      <th>cart_abandonment_rate</th>\n",
       "      <th>avg_session_duration</th>\n",
       "      <th>avg_events_per_session</th>\n",
       "      <th>most_common_hour</th>\n",
       "      <th>avg_category_freq</th>\n",
       "      <th>avg_view_price</th>\n",
       "      <th>price_ratio</th>\n",
       "      <th>cluster</th>\n",
       "      <th>r_quartile</th>\n",
       "      <th>f_quartile</th>\n",
       "      <th>m_quartile</th>\n",
       "      <th>rfm_score</th>\n",
       "      <th>rfm_segment</th>\n",
       "    </tr>\n",
       "  </thead>\n",
       "  <tbody>\n",
       "    <tr>\n",
       "      <th>0</th>\n",
       "      <td>465496</td>\n",
       "      <td>{'view': 3}</td>\n",
       "      <td>30.00</td>\n",
       "      <td>10.000000</td>\n",
       "      <td>2</td>\n",
       "      <td>2020-01-14 16:15:21+00:00</td>\n",
       "      <td>2020-01-14 16:27:31+00:00</td>\n",
       "      <td>0</td>\n",
       "      <td>1</td>\n",
       "      <td>46</td>\n",
       "      <td>2</td>\n",
       "      <td>30.00</td>\n",
       "      <td>3</td>\n",
       "      <td>0</td>\n",
       "      <td>0</td>\n",
       "      <td>0</td>\n",
       "      <td>3</td>\n",
       "      <td>0.0</td>\n",
       "      <td>0.0</td>\n",
       "      <td>58.00</td>\n",
       "      <td>1.50</td>\n",
       "      <td>16</td>\n",
       "      <td>39226.000000</td>\n",
       "      <td>10.000000</td>\n",
       "      <td>1.0</td>\n",
       "      <td>1</td>\n",
       "      <td>3</td>\n",
       "      <td>3</td>\n",
       "      <td>3</td>\n",
       "      <td>9</td>\n",
       "      <td>Active</td>\n",
       "    </tr>\n",
       "    <tr>\n",
       "      <th>1</th>\n",
       "      <td>1120748</td>\n",
       "      <td>{'view': 1}</td>\n",
       "      <td>4.05</td>\n",
       "      <td>4.050000</td>\n",
       "      <td>1</td>\n",
       "      <td>2019-11-04 15:28:57+00:00</td>\n",
       "      <td>2019-11-04 15:28:57+00:00</td>\n",
       "      <td>0</td>\n",
       "      <td>1</td>\n",
       "      <td>117</td>\n",
       "      <td>1</td>\n",
       "      <td>4.05</td>\n",
       "      <td>1</td>\n",
       "      <td>0</td>\n",
       "      <td>0</td>\n",
       "      <td>0</td>\n",
       "      <td>1</td>\n",
       "      <td>0.0</td>\n",
       "      <td>0.0</td>\n",
       "      <td>0.00</td>\n",
       "      <td>1.00</td>\n",
       "      <td>15</td>\n",
       "      <td>31120.000000</td>\n",
       "      <td>4.050000</td>\n",
       "      <td>1.0</td>\n",
       "      <td>0</td>\n",
       "      <td>1</td>\n",
       "      <td>1</td>\n",
       "      <td>1</td>\n",
       "      <td>3</td>\n",
       "      <td>Churned</td>\n",
       "    </tr>\n",
       "    <tr>\n",
       "      <th>2</th>\n",
       "      <td>1180452</td>\n",
       "      <td>{'view': 1}</td>\n",
       "      <td>25.40</td>\n",
       "      <td>25.400000</td>\n",
       "      <td>1</td>\n",
       "      <td>2019-12-28 14:32:56+00:00</td>\n",
       "      <td>2019-12-28 14:32:56+00:00</td>\n",
       "      <td>0</td>\n",
       "      <td>1</td>\n",
       "      <td>63</td>\n",
       "      <td>1</td>\n",
       "      <td>25.40</td>\n",
       "      <td>1</td>\n",
       "      <td>0</td>\n",
       "      <td>0</td>\n",
       "      <td>0</td>\n",
       "      <td>1</td>\n",
       "      <td>0.0</td>\n",
       "      <td>0.0</td>\n",
       "      <td>0.00</td>\n",
       "      <td>1.00</td>\n",
       "      <td>14</td>\n",
       "      <td>119609.000000</td>\n",
       "      <td>25.400000</td>\n",
       "      <td>1.0</td>\n",
       "      <td>1</td>\n",
       "      <td>3</td>\n",
       "      <td>1</td>\n",
       "      <td>3</td>\n",
       "      <td>7</td>\n",
       "      <td>Active</td>\n",
       "    </tr>\n",
       "    <tr>\n",
       "      <th>3</th>\n",
       "      <td>1458813</td>\n",
       "      <td>{'view': 29}</td>\n",
       "      <td>159.36</td>\n",
       "      <td>5.495172</td>\n",
       "      <td>4</td>\n",
       "      <td>2019-11-19 09:56:09+00:00</td>\n",
       "      <td>2019-11-21 06:02:40+00:00</td>\n",
       "      <td>0</td>\n",
       "      <td>5</td>\n",
       "      <td>100</td>\n",
       "      <td>4</td>\n",
       "      <td>159.36</td>\n",
       "      <td>29</td>\n",
       "      <td>0</td>\n",
       "      <td>0</td>\n",
       "      <td>0</td>\n",
       "      <td>29</td>\n",
       "      <td>0.0</td>\n",
       "      <td>0.0</td>\n",
       "      <td>947.25</td>\n",
       "      <td>7.25</td>\n",
       "      <td>12</td>\n",
       "      <td>71265.448276</td>\n",
       "      <td>5.495172</td>\n",
       "      <td>1.0</td>\n",
       "      <td>0</td>\n",
       "      <td>2</td>\n",
       "      <td>4</td>\n",
       "      <td>4</td>\n",
       "      <td>10</td>\n",
       "      <td>VIP</td>\n",
       "    </tr>\n",
       "    <tr>\n",
       "      <th>4</th>\n",
       "      <td>2038666</td>\n",
       "      <td>{'view': 1}</td>\n",
       "      <td>25.38</td>\n",
       "      <td>25.380000</td>\n",
       "      <td>1</td>\n",
       "      <td>2020-02-16 13:19:37+00:00</td>\n",
       "      <td>2020-02-16 13:19:37+00:00</td>\n",
       "      <td>0</td>\n",
       "      <td>1</td>\n",
       "      <td>13</td>\n",
       "      <td>1</td>\n",
       "      <td>25.38</td>\n",
       "      <td>1</td>\n",
       "      <td>0</td>\n",
       "      <td>0</td>\n",
       "      <td>0</td>\n",
       "      <td>1</td>\n",
       "      <td>0.0</td>\n",
       "      <td>0.0</td>\n",
       "      <td>0.00</td>\n",
       "      <td>1.00</td>\n",
       "      <td>13</td>\n",
       "      <td>28437.000000</td>\n",
       "      <td>25.380000</td>\n",
       "      <td>1.0</td>\n",
       "      <td>1</td>\n",
       "      <td>4</td>\n",
       "      <td>1</td>\n",
       "      <td>3</td>\n",
       "      <td>8</td>\n",
       "      <td>Active</td>\n",
       "    </tr>\n",
       "  </tbody>\n",
       "</table>\n",
       "</div>"
      ],
      "text/plain": [
       "   user_id  event_counts  total_spend  avg_price  session_count  \\\n",
       "0   465496   {'view': 3}        30.00  10.000000              2   \n",
       "1  1120748   {'view': 1}         4.05   4.050000              1   \n",
       "2  1180452   {'view': 1}        25.40  25.400000              1   \n",
       "3  1458813  {'view': 29}       159.36   5.495172              4   \n",
       "4  2038666   {'view': 1}        25.38  25.380000              1   \n",
       "\n",
       "                first_event                last_event  purchase_count  \\\n",
       "0 2020-01-14 16:15:21+00:00 2020-01-14 16:27:31+00:00               0   \n",
       "1 2019-11-04 15:28:57+00:00 2019-11-04 15:28:57+00:00               0   \n",
       "2 2019-12-28 14:32:56+00:00 2019-12-28 14:32:56+00:00               0   \n",
       "3 2019-11-19 09:56:09+00:00 2019-11-21 06:02:40+00:00               0   \n",
       "4 2020-02-16 13:19:37+00:00 2020-02-16 13:19:37+00:00               0   \n",
       "\n",
       "   category_diversity  recency  frequency  monetary  view_count  remove_count  \\\n",
       "0                   1       46          2     30.00           3             0   \n",
       "1                   1      117          1      4.05           1             0   \n",
       "2                   1       63          1     25.40           1             0   \n",
       "3                   5      100          4    159.36          29             0   \n",
       "4                   1       13          1     25.38           1             0   \n",
       "\n",
       "   cart_count  purchase_event_count  total_events  conversion_rate  \\\n",
       "0           0                     0             3              0.0   \n",
       "1           0                     0             1              0.0   \n",
       "2           0                     0             1              0.0   \n",
       "3           0                     0            29              0.0   \n",
       "4           0                     0             1              0.0   \n",
       "\n",
       "   cart_abandonment_rate  avg_session_duration  avg_events_per_session  \\\n",
       "0                    0.0                 58.00                    1.50   \n",
       "1                    0.0                  0.00                    1.00   \n",
       "2                    0.0                  0.00                    1.00   \n",
       "3                    0.0                947.25                    7.25   \n",
       "4                    0.0                  0.00                    1.00   \n",
       "\n",
       "   most_common_hour  avg_category_freq  avg_view_price  price_ratio  cluster  \\\n",
       "0                16       39226.000000       10.000000          1.0        1   \n",
       "1                15       31120.000000        4.050000          1.0        0   \n",
       "2                14      119609.000000       25.400000          1.0        1   \n",
       "3                12       71265.448276        5.495172          1.0        0   \n",
       "4                13       28437.000000       25.380000          1.0        1   \n",
       "\n",
       "  r_quartile f_quartile m_quartile  rfm_score rfm_segment  \n",
       "0          3          3          3          9      Active  \n",
       "1          1          1          1          3     Churned  \n",
       "2          3          1          3          7      Active  \n",
       "3          2          4          4         10         VIP  \n",
       "4          4          1          3          8      Active  "
      ]
     },
     "execution_count": 126,
     "metadata": {},
     "output_type": "execute_result"
    }
   ],
   "source": [
    "user_agg_rfm['r_quartile'] = pd.qcut(user_agg_rfm['recency'], 4, labels=[4,3,2,1])\n",
    "user_agg_rfm['f_quartile'] = pd.qcut(user_agg_rfm['frequency'].rank(method = 'first'), 4, labels=[1,2,3,4])\n",
    "user_agg_rfm['m_quartile'] = pd.qcut(user_agg_rfm['monetary'].clip(lower=0), 4, labels=[1,2,3,4])\n",
    "user_agg_rfm['rfm_score'] = user_agg_rfm[['r_quartile','f_quartile','m_quartile']].sum(axis = 1)\n",
    "# user_agg_rfm['rfm_score'] = user_agg_rfm[['r_quartile','m_quartile']].sum(axis = 1)\n",
    "\n",
    "def rfm_segment(row):\n",
    "  if row['rfm_score']>=10:\n",
    "    return 'VIP'\n",
    "  elif row['rfm_score'] >=7:\n",
    "    return 'Active'\n",
    "  elif row['rfm_score']>=4:\n",
    "    return 'At-Risk'\n",
    "  else:\n",
    "    return 'Churned'\n",
    "\n",
    "user_agg_rfm['rfm_segment'] = user_agg_rfm.apply(rfm_segment, axis=1)\n",
    "user_agg_rfm.head()"
   ]
  },
  {
   "cell_type": "code",
   "execution_count": 127,
   "metadata": {
    "execution": {
     "iopub.execute_input": "2025-06-28T10:32:14.594357Z",
     "iopub.status.busy": "2025-06-28T10:32:14.594022Z",
     "iopub.status.idle": "2025-06-28T10:32:23.226808Z",
     "shell.execute_reply": "2025-06-28T10:32:23.226080Z",
     "shell.execute_reply.started": "2025-06-28T10:32:14.594331Z"
    },
    "id": "KFKZktctRAGq",
    "trusted": true
   },
   "outputs": [],
   "source": [
    "user_agg_rfm = user_agg.copy()\n",
    "df_rfm = df.copy()"
   ]
  },
  {
   "cell_type": "code",
   "execution_count": 128,
   "metadata": {
    "colab": {
     "base_uri": "https://localhost:8080/",
     "height": 192
    },
    "execution": {
     "iopub.execute_input": "2025-06-28T10:32:23.228327Z",
     "iopub.status.busy": "2025-06-28T10:32:23.228043Z",
     "iopub.status.idle": "2025-06-28T10:32:30.676918Z",
     "shell.execute_reply": "2025-06-28T10:32:30.676064Z",
     "shell.execute_reply.started": "2025-06-28T10:32:23.228297Z"
    },
    "id": "FGdjfxF1RADq",
    "outputId": "4d7061ea-3e95-45ed-b55a-24aa8ac907ac",
    "trusted": true
   },
   "outputs": [
    {
     "name": "stdout",
     "output_type": "stream",
     "text": [
      "Funnel Analysis by RFM Segments\n"
     ]
    },
    {
     "data": {
      "text/html": [
       "<div>\n",
       "<style scoped>\n",
       "    .dataframe tbody tr th:only-of-type {\n",
       "        vertical-align: middle;\n",
       "    }\n",
       "\n",
       "    .dataframe tbody tr th {\n",
       "        vertical-align: top;\n",
       "    }\n",
       "\n",
       "    .dataframe thead th {\n",
       "        text-align: right;\n",
       "    }\n",
       "</style>\n",
       "<table border=\"1\" class=\"dataframe\">\n",
       "  <thead>\n",
       "    <tr style=\"text-align: right;\">\n",
       "      <th>event_type</th>\n",
       "      <th>cart</th>\n",
       "      <th>purchase</th>\n",
       "      <th>remove_from_cart</th>\n",
       "      <th>view</th>\n",
       "      <th>view_to_cart</th>\n",
       "      <th>cart_to_purchase</th>\n",
       "      <th>dropoff_cart</th>\n",
       "      <th>dropoff_purchase</th>\n",
       "      <th>remove_from_cart_rate</th>\n",
       "      <th>view_to_remove</th>\n",
       "    </tr>\n",
       "    <tr>\n",
       "      <th>rfm_segment</th>\n",
       "      <th></th>\n",
       "      <th></th>\n",
       "      <th></th>\n",
       "      <th></th>\n",
       "      <th></th>\n",
       "      <th></th>\n",
       "      <th></th>\n",
       "      <th></th>\n",
       "      <th></th>\n",
       "      <th></th>\n",
       "    </tr>\n",
       "  </thead>\n",
       "  <tbody>\n",
       "    <tr>\n",
       "      <th>Active</th>\n",
       "      <td>961812</td>\n",
       "      <td>202765</td>\n",
       "      <td>483464</td>\n",
       "      <td>1965667</td>\n",
       "      <td>0.489306</td>\n",
       "      <td>0.210816</td>\n",
       "      <td>0.510694</td>\n",
       "      <td>0.789184</td>\n",
       "      <td>0.245954</td>\n",
       "      <td>0.245954</td>\n",
       "    </tr>\n",
       "    <tr>\n",
       "      <th>At-Risk</th>\n",
       "      <td>347160</td>\n",
       "      <td>31632</td>\n",
       "      <td>62008</td>\n",
       "      <td>749868</td>\n",
       "      <td>0.462961</td>\n",
       "      <td>0.091116</td>\n",
       "      <td>0.537039</td>\n",
       "      <td>0.908884</td>\n",
       "      <td>0.082692</td>\n",
       "      <td>0.082692</td>\n",
       "    </tr>\n",
       "    <tr>\n",
       "      <th>Churned</th>\n",
       "      <td>18170</td>\n",
       "      <td>6</td>\n",
       "      <td>257</td>\n",
       "      <td>79986</td>\n",
       "      <td>0.227165</td>\n",
       "      <td>0.000330</td>\n",
       "      <td>0.772835</td>\n",
       "      <td>0.999670</td>\n",
       "      <td>0.003213</td>\n",
       "      <td>0.003213</td>\n",
       "    </tr>\n",
       "    <tr>\n",
       "      <th>VIP</th>\n",
       "      <td>4388046</td>\n",
       "      <td>1052477</td>\n",
       "      <td>3408860</td>\n",
       "      <td>6831777</td>\n",
       "      <td>0.642299</td>\n",
       "      <td>0.239851</td>\n",
       "      <td>0.357701</td>\n",
       "      <td>0.760149</td>\n",
       "      <td>0.498971</td>\n",
       "      <td>0.498971</td>\n",
       "    </tr>\n",
       "  </tbody>\n",
       "</table>\n",
       "</div>"
      ],
      "text/plain": [
       "event_type      cart  purchase  remove_from_cart     view  view_to_cart  \\\n",
       "rfm_segment                                                               \n",
       "Active        961812    202765            483464  1965667      0.489306   \n",
       "At-Risk       347160     31632             62008   749868      0.462961   \n",
       "Churned        18170         6               257    79986      0.227165   \n",
       "VIP          4388046   1052477           3408860  6831777      0.642299   \n",
       "\n",
       "event_type   cart_to_purchase  dropoff_cart  dropoff_purchase  \\\n",
       "rfm_segment                                                     \n",
       "Active               0.210816      0.510694          0.789184   \n",
       "At-Risk              0.091116      0.537039          0.908884   \n",
       "Churned              0.000330      0.772835          0.999670   \n",
       "VIP                  0.239851      0.357701          0.760149   \n",
       "\n",
       "event_type   remove_from_cart_rate  view_to_remove  \n",
       "rfm_segment                                         \n",
       "Active                    0.245954        0.245954  \n",
       "At-Risk                   0.082692        0.082692  \n",
       "Churned                   0.003213        0.003213  \n",
       "VIP                       0.498971        0.498971  "
      ]
     },
     "execution_count": 128,
     "metadata": {},
     "output_type": "execute_result"
    }
   ],
   "source": [
    "df_rfm_with_segments = df_rfm.merge(user_agg_rfm[['user_id', 'rfm_segment']], on='user_id', how='left')\n",
    "\n",
    "# Funnel analysis by RFM segments\n",
    "rfm_funnel = df_rfm_with_segments.groupby(['rfm_segment', 'event_type']).size().unstack().fillna(0)\n",
    "rfm_funnel['view_to_cart'] = rfm_funnel['cart'] / rfm_funnel['view']\n",
    "rfm_funnel['cart_to_purchase'] = rfm_funnel['purchase'] / rfm_funnel['cart']\n",
    "rfm_funnel['dropoff_cart'] = 1 - rfm_funnel['view_to_cart']\n",
    "rfm_funnel['dropoff_purchase'] = 1 - rfm_funnel['cart_to_purchase']\n",
    "\n",
    "rfm_funnel['remove_from_cart_rate'] = rfm_funnel['remove_from_cart']/rfm_funnel['view']\n",
    "rfm_funnel['view_to_remove'] = rfm_funnel['remove_from_cart']/rfm_funnel['view']\n",
    "print(\"Funnel Analysis by RFM Segments\")\n",
    "rfm_funnel"
   ]
  },
  {
   "cell_type": "code",
   "execution_count": 129,
   "metadata": {
    "execution": {
     "iopub.execute_input": "2025-06-28T10:32:30.678186Z",
     "iopub.status.busy": "2025-06-28T10:32:30.677948Z",
     "iopub.status.idle": "2025-06-28T10:32:30.685359Z",
     "shell.execute_reply": "2025-06-28T10:32:30.684136Z",
     "shell.execute_reply.started": "2025-06-28T10:32:30.678161Z"
    },
    "trusted": true
   },
   "outputs": [],
   "source": [
    "rfm_funnel[['view_to_cart', 'cart_to_purchase', 'dropoff_cart', 'dropoff_purchase']] = (rfm_funnel[['view_to_cart', 'cart_to_purchase', 'dropoff_cart', 'dropoff_purchase']]* 100).round(2) "
   ]
  },
  {
   "cell_type": "code",
   "execution_count": 131,
   "metadata": {
    "colab": {
     "base_uri": "https://localhost:8080/",
     "height": 192
    },
    "execution": {
     "iopub.execute_input": "2025-06-28T10:32:53.170258Z",
     "iopub.status.busy": "2025-06-28T10:32:53.169415Z",
     "iopub.status.idle": "2025-06-28T10:32:53.408723Z",
     "shell.execute_reply": "2025-06-28T10:32:53.407769Z",
     "shell.execute_reply.started": "2025-06-28T10:32:53.170229Z"
    },
    "id": "57tSayw2W2gI",
    "outputId": "225b7cbc-5c6d-49dc-b6a5-452fd7496e03",
    "trusted": true
   },
   "outputs": [
    {
     "name": "stdout",
     "output_type": "stream",
     "text": [
      "RFM Segment Summary\n"
     ]
    },
    {
     "data": {
      "text/html": [
       "<div>\n",
       "<style scoped>\n",
       "    .dataframe tbody tr th:only-of-type {\n",
       "        vertical-align: middle;\n",
       "    }\n",
       "\n",
       "    .dataframe tbody tr th {\n",
       "        vertical-align: top;\n",
       "    }\n",
       "\n",
       "    .dataframe thead th {\n",
       "        text-align: right;\n",
       "    }\n",
       "</style>\n",
       "<table border=\"1\" class=\"dataframe\">\n",
       "  <thead>\n",
       "    <tr style=\"text-align: right;\">\n",
       "      <th></th>\n",
       "      <th>recency</th>\n",
       "      <th>frequency</th>\n",
       "      <th>monetary</th>\n",
       "      <th>conversion_rate</th>\n",
       "      <th>cart_abandonment_rate</th>\n",
       "      <th>avg_session_duration</th>\n",
       "      <th>category_diversity</th>\n",
       "      <th>avg_category_freq</th>\n",
       "      <th>price_ratio</th>\n",
       "      <th>user_count</th>\n",
       "    </tr>\n",
       "    <tr>\n",
       "      <th>rfm_segment</th>\n",
       "      <th></th>\n",
       "      <th></th>\n",
       "      <th></th>\n",
       "      <th></th>\n",
       "      <th></th>\n",
       "      <th></th>\n",
       "      <th></th>\n",
       "      <th></th>\n",
       "      <th></th>\n",
       "      <th></th>\n",
       "    </tr>\n",
       "  </thead>\n",
       "  <tbody>\n",
       "    <tr>\n",
       "      <th>Active</th>\n",
       "      <td>59.903</td>\n",
       "      <td>1.722</td>\n",
       "      <td>58.853</td>\n",
       "      <td>0.010</td>\n",
       "      <td>12347.056</td>\n",
       "      <td>691.305</td>\n",
       "      <td>1.872</td>\n",
       "      <td>207467.758</td>\n",
       "      <td>264860.356</td>\n",
       "      <td>626468</td>\n",
       "    </tr>\n",
       "    <tr>\n",
       "      <th>At-Risk</th>\n",
       "      <td>102.590</td>\n",
       "      <td>1.044</td>\n",
       "      <td>20.445</td>\n",
       "      <td>0.003</td>\n",
       "      <td>10949.415</td>\n",
       "      <td>333.630</td>\n",
       "      <td>1.196</td>\n",
       "      <td>214522.193</td>\n",
       "      <td>229783.645</td>\n",
       "      <td>540121</td>\n",
       "    </tr>\n",
       "    <tr>\n",
       "      <th>Churned</th>\n",
       "      <td>135.980</td>\n",
       "      <td>1.000</td>\n",
       "      <td>3.256</td>\n",
       "      <td>0.000</td>\n",
       "      <td>1371.921</td>\n",
       "      <td>80.918</td>\n",
       "      <td>1.012</td>\n",
       "      <td>232511.594</td>\n",
       "      <td>62325.122</td>\n",
       "      <td>77264</td>\n",
       "    </tr>\n",
       "    <tr>\n",
       "      <th>VIP</th>\n",
       "      <td>32.492</td>\n",
       "      <td>7.109</td>\n",
       "      <td>325.987</td>\n",
       "      <td>0.030</td>\n",
       "      <td>18572.688</td>\n",
       "      <td>1119.856</td>\n",
       "      <td>6.274</td>\n",
       "      <td>223166.984</td>\n",
       "      <td>163724.775</td>\n",
       "      <td>393917</td>\n",
       "    </tr>\n",
       "  </tbody>\n",
       "</table>\n",
       "</div>"
      ],
      "text/plain": [
       "             recency  frequency  monetary  conversion_rate  \\\n",
       "rfm_segment                                                  \n",
       "Active        59.903      1.722    58.853            0.010   \n",
       "At-Risk      102.590      1.044    20.445            0.003   \n",
       "Churned      135.980      1.000     3.256            0.000   \n",
       "VIP           32.492      7.109   325.987            0.030   \n",
       "\n",
       "             cart_abandonment_rate  avg_session_duration  category_diversity  \\\n",
       "rfm_segment                                                                    \n",
       "Active                   12347.056               691.305               1.872   \n",
       "At-Risk                  10949.415               333.630               1.196   \n",
       "Churned                   1371.921                80.918               1.012   \n",
       "VIP                      18572.688              1119.856               6.274   \n",
       "\n",
       "             avg_category_freq  price_ratio  user_count  \n",
       "rfm_segment                                              \n",
       "Active              207467.758   264860.356      626468  \n",
       "At-Risk             214522.193   229783.645      540121  \n",
       "Churned             232511.594    62325.122       77264  \n",
       "VIP                 223166.984   163724.775      393917  "
      ]
     },
     "execution_count": 131,
     "metadata": {},
     "output_type": "execute_result"
    }
   ],
   "source": [
    "# RFM segment summary\n",
    "rfm_summary = user_agg_rfm.groupby('rfm_segment').agg({\n",
    "    'recency': 'mean', 'frequency': 'mean', 'monetary': 'mean',\n",
    "    'conversion_rate': 'mean', 'cart_abandonment_rate': 'mean',\n",
    "    'avg_session_duration': 'mean', 'category_diversity': 'mean',\n",
    "    'avg_category_freq': 'mean', 'price_ratio': 'mean',\n",
    "    'user_id': 'count'\n",
    "}).rename(columns={'user_id': 'user_count'}).round(3)\n",
    "print(\"RFM Segment Summary\")\n",
    "rfm_summary"
   ]
  }
 ],
 "metadata": {
  "colab": {
   "provenance": []
  },
  "kaggle": {
   "accelerator": "none",
   "dataSources": [
    {
     "datasetId": 426888,
     "isSourceIdPinned": false,
     "sourceId": 1015349,
     "sourceType": "datasetVersion"
    }
   ],
   "dockerImageVersionId": 31040,
   "isGpuEnabled": false,
   "isInternetEnabled": true,
   "language": "python",
   "sourceType": "notebook"
  },
  "kernelspec": {
   "display_name": "Python 3",
   "language": "python",
   "name": "python3"
  },
  "language_info": {
   "codemirror_mode": {
    "name": "ipython",
    "version": 3
   },
   "file_extension": ".py",
   "mimetype": "text/x-python",
   "name": "python",
   "nbconvert_exporter": "python",
   "pygments_lexer": "ipython3",
   "version": "3.11.11"
  }
 },
 "nbformat": 4,
 "nbformat_minor": 4
}
